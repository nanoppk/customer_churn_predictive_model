{
 "cells": [
  {
   "cell_type": "code",
   "execution_count": 1,
   "id": "d2d6c420",
   "metadata": {},
   "outputs": [
    {
     "ename": "NameError",
     "evalue": "name 'python' is not defined",
     "output_type": "error",
     "traceback": [
      "\u001b[1;31m---------------------------------------------------------------------------\u001b[0m",
      "\u001b[1;31mNameError\u001b[0m                                 Traceback (most recent call last)",
      "\u001b[1;32m~\\AppData\\Local\\Temp\\ipykernel_16752\\4134300657.py\u001b[0m in \u001b[0;36m<module>\u001b[1;34m\u001b[0m\n\u001b[1;32m----> 1\u001b[1;33m \u001b[0mpython\u001b[0m \u001b[1;33m-\u001b[0m\u001b[0mversion\u001b[0m\u001b[1;33m\u001b[0m\u001b[1;33m\u001b[0m\u001b[0m\n\u001b[0m",
      "\u001b[1;31mNameError\u001b[0m: name 'python' is not defined"
     ]
    }
   ],
   "source": [
    "python -version"
   ]
  },
  {
   "cell_type": "code",
   "execution_count": 1,
   "id": "70a15bdb",
   "metadata": {},
   "outputs": [],
   "source": [
    "import matplotlib.pyplot as plt\n",
    "import seaborn as sns\n",
    "import pandas as pd\n",
    "import re\n",
    "import numpy as np\n",
    "from sklearn.ensemble import RandomForestClassifier\n",
    "from sklearn.model_selection import GridSearchCV"
   ]
  },
  {
   "cell_type": "code",
   "execution_count": 249,
   "id": "57d0f35b",
   "metadata": {},
   "outputs": [],
   "source": [
    "# read data\n",
    "train_df = pd.read_csv(\"A2_customer_churn_labeled.csv\")\n",
    "kaggle_df = pd.read_csv(\"A2_customer_churn_kaggle.csv\")\n",
    "test_df = pd.read_csv(\"A2_customer_churn_submission.csv\")"
   ]
  },
  {
   "cell_type": "code",
   "execution_count": 250,
   "id": "e3b94fbb",
   "metadata": {},
   "outputs": [],
   "source": [
    "def extract_age(row):\n",
    "    age_pattern = r\"\\d+(?=-year-old)\"\n",
    "    age_match = re.search(pattern= age_pattern, string=row)\n",
    "    if age_match:\n",
    "        age = int(age_match.group(0))\n",
    "        return age\n",
    "    else:\n",
    "        return None  \n",
    "    \n",
    "def extract_gender(row):\n",
    "    gender_pattern = r\"(?<=-year-old )([fm]?e?male)\"\n",
    "    gender_match = re.search(pattern= gender_pattern, string=row)\n",
    "    if gender_match:\n",
    "        gender = gender_match.group(0).lower()\n",
    "        return gender\n",
    "    else:\n",
    "        return None\n",
    "    \n",
    "def extract_countary(row):\n",
    "    country_pattern = r\"(?<= from )\\w+\"\n",
    "    country_match = re.search(pattern= country_pattern, string= row)\n",
    "    if country_match:\n",
    "        countary = country_match.group(0).lower()\n",
    "        return countary\n",
    "    else:\n",
    "        return None"
   ]
  },
  {
   "cell_type": "markdown",
   "id": "d2e527c7",
   "metadata": {},
   "source": [
    "## Plotting Interactions"
   ]
  },
  {
   "cell_type": "code",
   "execution_count": 251,
   "id": "9722629e",
   "metadata": {},
   "outputs": [],
   "source": [
    "train_df[\"age\"] = train_df[\"customer_profile\"].apply(extract_age)\n",
    "train_df[\"gender\"] = train_df[\"customer_profile\"].apply(extract_gender)\n",
    "train_df[\"countary\"] = train_df[\"customer_profile\"].apply(extract_countary)"
   ]
  },
  {
   "cell_type": "code",
   "execution_count": 38,
   "id": "454a95df",
   "metadata": {},
   "outputs": [],
   "source": [
    "cat_cols = [\"gender\", \"countary\"]"
   ]
  },
  {
   "cell_type": "code",
   "execution_count": 39,
   "id": "53d5bc66",
   "metadata": {},
   "outputs": [],
   "source": [
    "train_encoded = pd.get_dummies(train_df, columns= cat_cols)\n",
    "train_encoded = train_encoded.drop(\"ID\", axis= 1)\n",
    "train_encoded = train_encoded.drop(\"customer_profile\", axis= 1)"
   ]
  },
  {
   "cell_type": "code",
   "execution_count": 40,
   "id": "0dcf35fb",
   "metadata": {},
   "outputs": [
    {
     "data": {
      "text/plain": [
       "Index(['credit_score', 'tenure', 'balance', 'number_of_products',\n",
       "       'has_credit_card', 'is_active_member', 'salary', 'Y', 'age',\n",
       "       'gender_female', 'gender_male', 'countary_france', 'countary_germany',\n",
       "       'countary_spain'],\n",
       "      dtype='object')"
      ]
     },
     "execution_count": 40,
     "metadata": {},
     "output_type": "execute_result"
    }
   ],
   "source": [
    "train_encoded.columns"
   ]
  },
  {
   "cell_type": "code",
   "execution_count": 51,
   "id": "d7dc93de",
   "metadata": {},
   "outputs": [],
   "source": [
    "train_encoded[\"balance/tenure\"] = train_encoded[\"balance\"] / train_encoded[\"tenure\"]\n",
    "train_encoded[\"balance/age\"] = train_encoded[\"balance\"] / train_encoded[\"age\"]\n",
    "train_encoded[\"salary/age\"] = train_encoded[\"salary\"] / train_encoded[\"age\"]\n",
    "train_encoded[\"balance/number_of_products\"] = train_encoded[\"balance\"] / train_encoded[\"number_of_products\"]\n",
    "train_encoded[\"credit_score/age\"] = train_encoded[\"credit_score\"] / train_encoded[\"age\"]\n",
    "train_encoded[\"balance*number_of_products\"] = train_encoded[\"balance\"] * train_encoded[\"number_of_products\"]\n",
    "train_encoded[\"salary/number_of_product\"] = train_encoded[\"salary\"] / train_encoded[\"number_of_products\"]\n",
    "train_encoded[\"age/number_of_product\"] = train_encoded[\"age\"] / train_encoded[\"number_of_products\"]\n"
   ]
  },
  {
   "cell_type": "code",
   "execution_count": 43,
   "id": "6b52cbcc",
   "metadata": {},
   "outputs": [
    {
     "data": {
      "text/plain": [
       "<AxesSubplot:xlabel='Y', ylabel='balance/tenure'>"
      ]
     },
     "execution_count": 43,
     "metadata": {},
     "output_type": "execute_result"
    },
    {
     "data": {
      "image/png": "[encoded data removed]",
      "text/plain": [
       "<Figure size 640x480 with 1 Axes>"
      ]
     },
     "metadata": {},
     "output_type": "display_data"
    }
   ],
   "source": [
    "sns.boxplot(data= train_encoded, x= \"Y\", y= \"balance/tenure\")"
   ]
  },
  {
   "cell_type": "code",
   "execution_count": 44,
   "id": "a143c812",
   "metadata": {},
   "outputs": [
    {
     "data": {
      "text/plain": [
       "<AxesSubplot:xlabel='Y', ylabel='balance/age'>"
      ]
     },
     "execution_count": 44,
     "metadata": {},
     "output_type": "execute_result"
    },
    {
     "data": {
      "image/png": "[encoded data removed]",
      "text/plain": [
       "<Figure size 640x480 with 1 Axes>"
      ]
     },
     "metadata": {},
     "output_type": "display_data"
    }
   ],
   "source": [
    "sns.boxplot(data= train_encoded, x= \"Y\", y= \"balance/age\")"
   ]
  },
  {
   "cell_type": "code",
   "execution_count": 45,
   "id": "2b69f03d",
   "metadata": {},
   "outputs": [
    {
     "data": {
      "text/plain": [
       "<AxesSubplot:xlabel='Y', ylabel='salary/age'>"
      ]
     },
     "execution_count": 45,
     "metadata": {},
     "output_type": "execute_result"
    },
    {
     "data": {
      "image/png": "[encoded data removed]",
      "text/plain": [
       "<Figure size 640x480 with 1 Axes>"
      ]
     },
     "metadata": {},
     "output_type": "display_data"
    }
   ],
   "source": [
    "sns.boxplot(data= train_encoded, x= \"Y\", y= \"salary/age\")\n"
   ]
  },
  {
   "cell_type": "code",
   "execution_count": 47,
   "id": "d830a177",
   "metadata": {},
   "outputs": [
    {
     "data": {
      "text/plain": [
       "<AxesSubplot:xlabel='Y', ylabel='balance/number_of_products'>"
      ]
     },
     "execution_count": 47,
     "metadata": {},
     "output_type": "execute_result"
    },
    {
     "data": {
      "image/png": "[encoded data removed]",
      "text/plain": [
       "<Figure size 640x480 with 1 Axes>"
      ]
     },
     "metadata": {},
     "output_type": "display_data"
    }
   ],
   "source": [
    "sns.boxplot(data= train_encoded, x= \"Y\", y= \"balance/number_of_products\")"
   ]
  },
  {
   "cell_type": "code",
   "execution_count": 33,
   "id": "ae350789",
   "metadata": {},
   "outputs": [
    {
     "data": {
      "text/plain": [
       "<AxesSubplot:xlabel='Y', ylabel='credit_score/age'>"
      ]
     },
     "execution_count": 33,
     "metadata": {},
     "output_type": "execute_result"
    },
    {
     "data": {
      "image/png": "[encoded data removed]",
      "text/plain": [
       "<Figure size 640x480 with 1 Axes>"
      ]
     },
     "metadata": {},
     "output_type": "display_data"
    }
   ],
   "source": [
    "sns.boxplot(data= train_encoded, x= \"Y\", y= \"credit_score/age\")"
   ]
  },
  {
   "cell_type": "code",
   "execution_count": 48,
   "id": "ca9e12c9",
   "metadata": {},
   "outputs": [
    {
     "data": {
      "text/plain": [
       "<AxesSubplot:xlabel='Y', ylabel='balance*number_of_products'>"
      ]
     },
     "execution_count": 48,
     "metadata": {},
     "output_type": "execute_result"
    },
    {
     "data": {
      "image/png": "[encoded data removed]",
      "text/plain": [
       "<Figure size 640x480 with 1 Axes>"
      ]
     },
     "metadata": {},
     "output_type": "display_data"
    }
   ],
   "source": [
    "sns.boxplot(data= train_encoded, x= \"Y\", y= \"balance*number_of_products\")"
   ]
  },
  {
   "cell_type": "code",
   "execution_count": 50,
   "id": "b9b5fa7a",
   "metadata": {},
   "outputs": [
    {
     "data": {
      "text/plain": [
       "<AxesSubplot:xlabel='Y', ylabel='salary/number_of_product'>"
      ]
     },
     "execution_count": 50,
     "metadata": {},
     "output_type": "execute_result"
    },
    {
     "data": {
      "image/png": "[encoded data removed]",
      "text/plain": [
       "<Figure size 640x480 with 1 Axes>"
      ]
     },
     "metadata": {},
     "output_type": "display_data"
    }
   ],
   "source": [
    "sns.boxplot(data= train_encoded, x= \"Y\", y= \"salary/number_of_product\")"
   ]
  },
  {
   "cell_type": "code",
   "execution_count": 52,
   "id": "ebf6a357",
   "metadata": {},
   "outputs": [
    {
     "data": {
      "text/plain": [
       "<AxesSubplot:xlabel='Y', ylabel='age/number_of_product'>"
      ]
     },
     "execution_count": 52,
     "metadata": {},
     "output_type": "execute_result"
    },
    {
     "data": {
      "image/png": "[encoded data removed]",
      "text/plain": [
       "<Figure size 640x480 with 1 Axes>"
      ]
     },
     "metadata": {},
     "output_type": "display_data"
    }
   ],
   "source": [
    "sns.boxplot(data= train_encoded, x= \"Y\", y= \"age/number_of_product\")"
   ]
  },
  {
   "cell_type": "markdown",
   "id": "6c450097",
   "metadata": {},
   "source": [
    "### RandomForest Base model"
   ]
  },
  {
   "cell_type": "code",
   "execution_count": 9,
   "id": "0d0b8dc1",
   "metadata": {},
   "outputs": [],
   "source": [
    "train_df[\"age\"] = train_df[\"customer_profile\"].apply(extract_age)\n",
    "train_df[\"gender\"] = train_df[\"customer_profile\"].apply(extract_gender)\n",
    "train_df[\"countary\"] = train_df[\"customer_profile\"].apply(extract_countary)\n",
    "\n",
    "kaggle_df[\"age\"] = kaggle_df[\"customer_profile\"].apply(extract_age)\n",
    "kaggle_df[\"gender\"] = kaggle_df[\"customer_profile\"].apply(extract_gender)\n",
    "kaggle_df[\"countary\"] = kaggle_df[\"customer_profile\"].apply(extract_countary)\n",
    "\n",
    "test_df[\"age\"] = test_df[\"customer_profile\"].apply(extract_age)\n",
    "test_df[\"gender\"] = test_df[\"customer_profile\"].apply(extract_gender)\n",
    "test_df[\"countary\"] = test_df[\"customer_profile\"].apply(extract_countary)"
   ]
  },
  {
   "cell_type": "code",
   "execution_count": 10,
   "id": "47869cb9",
   "metadata": {},
   "outputs": [],
   "source": [
    "cat_cols = [\"gender\", \"countary\"]"
   ]
  },
  {
   "cell_type": "code",
   "execution_count": 11,
   "id": "a440982e",
   "metadata": {},
   "outputs": [],
   "source": [
    "train_encoded = pd.get_dummies(train_df, columns= cat_cols)\n",
    "train_encoded = train_encoded.drop(\"ID\", axis= 1)\n",
    "train_encoded = train_encoded.drop(\"customer_profile\", axis= 1)\n",
    "\n",
    "kaggle_encoded = pd.get_dummies(kaggle_df, columns= cat_cols)\n",
    "kaggle_encoded = kaggle_encoded.drop(\"ID\", axis= 1)\n",
    "kaggle_encoded = kaggle_encoded.drop(\"customer_profile\", axis= 1)\n",
    "\n",
    "test_encoded = pd.get_dummies(test_df, columns= cat_cols)\n",
    "test_encoded = test_encoded.drop(\"ID\", axis= 1)\n",
    "test_encoded = test_encoded.drop(\"customer_profile\", axis= 1)"
   ]
  },
  {
   "cell_type": "code",
   "execution_count": 12,
   "id": "c7526499",
   "metadata": {},
   "outputs": [],
   "source": [
    "feature_cols = [col for col in train_encoded.columns if col != \"Y\"]"
   ]
  },
  {
   "cell_type": "code",
   "execution_count": 18,
   "id": "10a6d7f7",
   "metadata": {},
   "outputs": [],
   "source": [
    "rf_clf = RandomForestClassifier(random_state=1, n_jobs= 3)"
   ]
  },
  {
   "cell_type": "code",
   "execution_count": 19,
   "id": "989ec73c",
   "metadata": {
    "scrolled": true
   },
   "outputs": [
    {
     "data": {
      "text/html": [
       "<style>#sk-container-id-3 {color: black;}#sk-container-id-3 pre{padding: 0;}#sk-container-id-3 div.sk-toggleable {background-color: white;}#sk-container-id-3 label.sk-toggleable__label {cursor: pointer;display: block;width: 100%;margin-bottom: 0;padding: 0.3em;box-sizing: border-box;text-align: center;}#sk-container-id-3 label.sk-toggleable__label-arrow:before {content: \"▸\";float: left;margin-right: 0.25em;color: #696969;}#sk-container-id-3 label.sk-toggleable__label-arrow:hover:before {color: black;}#sk-container-id-3 div.sk-estimator:hover label.sk-toggleable__label-arrow:before {color: black;}#sk-container-id-3 div.sk-toggleable__content {max-height: 0;max-width: 0;overflow: hidden;text-align: left;background-color: #f0f8ff;}#sk-container-id-3 div.sk-toggleable__content pre {margin: 0.2em;color: black;border-radius: 0.25em;background-color: #f0f8ff;}#sk-container-id-3 input.sk-toggleable__control:checked~div.sk-toggleable__content {max-height: 200px;max-width: 100%;overflow: auto;}#sk-container-id-3 input.sk-toggleable__control:checked~label.sk-toggleable__label-arrow:before {content: \"▾\";}#sk-container-id-3 div.sk-estimator input.sk-toggleable__control:checked~label.sk-toggleable__label {background-color: #d4ebff;}#sk-container-id-3 div.sk-label input.sk-toggleable__control:checked~label.sk-toggleable__label {background-color: #d4ebff;}#sk-container-id-3 input.sk-hidden--visually {border: 0;clip: rect(1px 1px 1px 1px);clip: rect(1px, 1px, 1px, 1px);height: 1px;margin: -1px;overflow: hidden;padding: 0;position: absolute;width: 1px;}#sk-container-id-3 div.sk-estimator {font-family: monospace;background-color: #f0f8ff;border: 1px dotted black;border-radius: 0.25em;box-sizing: border-box;margin-bottom: 0.5em;}#sk-container-id-3 div.sk-estimator:hover {background-color: #d4ebff;}#sk-container-id-3 div.sk-parallel-item::after {content: \"\";width: 100%;border-bottom: 1px solid gray;flex-grow: 1;}#sk-container-id-3 div.sk-label:hover label.sk-toggleable__label {background-color: #d4ebff;}#sk-container-id-3 div.sk-serial::before {content: \"\";position: absolute;border-left: 1px solid gray;box-sizing: border-box;top: 0;bottom: 0;left: 50%;z-index: 0;}#sk-container-id-3 div.sk-serial {display: flex;flex-direction: column;align-items: center;background-color: white;padding-right: 0.2em;padding-left: 0.2em;position: relative;}#sk-container-id-3 div.sk-item {position: relative;z-index: 1;}#sk-container-id-3 div.sk-parallel {display: flex;align-items: stretch;justify-content: center;background-color: white;position: relative;}#sk-container-id-3 div.sk-item::before, #sk-container-id-3 div.sk-parallel-item::before {content: \"\";position: absolute;border-left: 1px solid gray;box-sizing: border-box;top: 0;bottom: 0;left: 50%;z-index: -1;}#sk-container-id-3 div.sk-parallel-item {display: flex;flex-direction: column;z-index: 1;position: relative;background-color: white;}#sk-container-id-3 div.sk-parallel-item:first-child::after {align-self: flex-end;width: 50%;}#sk-container-id-3 div.sk-parallel-item:last-child::after {align-self: flex-start;width: 50%;}#sk-container-id-3 div.sk-parallel-item:only-child::after {width: 0;}#sk-container-id-3 div.sk-dashed-wrapped {border: 1px dashed gray;margin: 0 0.4em 0.5em 0.4em;box-sizing: border-box;padding-bottom: 0.4em;background-color: white;}#sk-container-id-3 div.sk-label label {font-family: monospace;font-weight: bold;display: inline-block;line-height: 1.2em;}#sk-container-id-3 div.sk-label-container {text-align: center;}#sk-container-id-3 div.sk-container {/* jupyter's `normalize.less` sets `[hidden] { display: none; }` but bootstrap.min.css set `[hidden] { display: none !important; }` so we also need the `!important` here to be able to override the default hidden behavior on the sphinx rendered scikit-learn.org. See: https://github.com/scikit-learn/scikit-learn/issues/21755 */display: inline-block !important;position: relative;}#sk-container-id-3 div.sk-text-repr-fallback {display: none;}</style><div id=\"sk-container-id-3\" class=\"sk-top-container\"><div class=\"sk-text-repr-fallback\"><pre>RandomForestClassifier(n_jobs=3, random_state=1)</pre><b>In a Jupyter environment, please rerun this cell to show the HTML representation or trust the notebook. <br />On GitHub, the HTML representation is unable to render, please try loading this page with nbviewer.org.</b></div><div class=\"sk-container\" hidden><div class=\"sk-item\"><div class=\"sk-estimator sk-toggleable\"><input class=\"sk-toggleable__control sk-hidden--visually\" id=\"sk-estimator-id-3\" type=\"checkbox\" checked><label for=\"sk-estimator-id-3\" class=\"sk-toggleable__label sk-toggleable__label-arrow\">RandomForestClassifier</label><div class=\"sk-toggleable__content\"><pre>RandomForestClassifier(n_jobs=3, random_state=1)</pre></div></div></div></div></div>"
      ],
      "text/plain": [
       "RandomForestClassifier(n_jobs=3, random_state=1)"
      ]
     },
     "execution_count": 19,
     "metadata": {},
     "output_type": "execute_result"
    }
   ],
   "source": [
    "rf_clf.fit(X= train_encoded[feature_cols], y= train_encoded[\"Y\"])"
   ]
  },
  {
   "cell_type": "code",
   "execution_count": 20,
   "id": "3d78f5da",
   "metadata": {},
   "outputs": [],
   "source": [
    "rf_pred = rf_clf.predict(kaggle_encoded[feature_cols])"
   ]
  },
  {
   "cell_type": "code",
   "execution_count": 21,
   "id": "37b4cad0",
   "metadata": {},
   "outputs": [],
   "source": [
    "df_pred = pd.concat([kaggle_df['ID'], pd.DataFrame(rf_pred,columns=['pred'])], axis = 1)\n",
    "df_pred.to_csv('pred_values.csv',index=False)"
   ]
  },
  {
   "cell_type": "markdown",
   "id": "d6543c72",
   "metadata": {},
   "source": [
    "Result of besed model, kaggle 0.58407"
   ]
  },
  {
   "cell_type": "markdown",
   "id": "4fb46d47",
   "metadata": {},
   "source": [
    "## Adding interaction credit_score/age"
   ]
  },
  {
   "cell_type": "code",
   "execution_count": 22,
   "id": "dcc571f8",
   "metadata": {},
   "outputs": [],
   "source": [
    "train_df[\"age\"] = train_df[\"customer_profile\"].apply(extract_age)\n",
    "train_df[\"gender\"] = train_df[\"customer_profile\"].apply(extract_gender)\n",
    "train_df[\"countary\"] = train_df[\"customer_profile\"].apply(extract_countary)\n",
    "\n",
    "kaggle_df[\"age\"] = kaggle_df[\"customer_profile\"].apply(extract_age)\n",
    "kaggle_df[\"gender\"] = kaggle_df[\"customer_profile\"].apply(extract_gender)\n",
    "kaggle_df[\"countary\"] = kaggle_df[\"customer_profile\"].apply(extract_countary)\n",
    "\n",
    "test_df[\"age\"] = test_df[\"customer_profile\"].apply(extract_age)\n",
    "test_df[\"gender\"] = test_df[\"customer_profile\"].apply(extract_gender)\n",
    "test_df[\"countary\"] = test_df[\"customer_profile\"].apply(extract_countary)"
   ]
  },
  {
   "cell_type": "code",
   "execution_count": 23,
   "id": "95cef653",
   "metadata": {},
   "outputs": [],
   "source": [
    "cat_cols = [\"gender\", \"countary\"]"
   ]
  },
  {
   "cell_type": "code",
   "execution_count": 24,
   "id": "3fc91129",
   "metadata": {},
   "outputs": [],
   "source": [
    "train_encoded = pd.get_dummies(train_df, columns= cat_cols)\n",
    "train_encoded = train_encoded.drop(\"ID\", axis= 1)\n",
    "train_encoded = train_encoded.drop(\"customer_profile\", axis= 1)\n",
    "\n",
    "kaggle_encoded = pd.get_dummies(kaggle_df, columns= cat_cols)\n",
    "kaggle_encoded = kaggle_encoded.drop(\"ID\", axis= 1)\n",
    "kaggle_encoded = kaggle_encoded.drop(\"customer_profile\", axis= 1)\n",
    "\n",
    "test_encoded = pd.get_dummies(test_df, columns= cat_cols)\n",
    "test_encoded = test_encoded.drop(\"ID\", axis= 1)\n",
    "test_encoded = test_encoded.drop(\"customer_profile\", axis= 1)"
   ]
  },
  {
   "cell_type": "code",
   "execution_count": 25,
   "id": "1675ac13",
   "metadata": {},
   "outputs": [],
   "source": [
    "# train_encoded[\"salary/age\"] = train_encoded[\"salary\"] / train_encoded[\"age\"]\n",
    "# train_encoded[\"balance*number_of_products\"] = train_encoded[\"balance\"] / train_encoded[\"number_of_products\"]\n",
    "train_encoded[\"credit_score/age\"] = train_encoded[\"credit_score\"] / train_encoded[\"age\"]\n",
    "\n",
    "# kaggle_encoded[\"salary/age\"] = kaggle_encoded[\"salary\"] / kaggle_encoded[\"age\"]\n",
    "# kaggle_encoded[\"balance*number_of_products\"] = kaggle_encoded[\"balance\"] / kaggle_encoded[\"number_of_products\"]\n",
    "kaggle_encoded[\"credit_score/age\"] = kaggle_encoded[\"credit_score\"] / kaggle_encoded[\"age\"]\n",
    "\n",
    "# test_encoded[\"salary/age\"] = test_encoded[\"salary\"] / test_encoded[\"age\"]\n",
    "# kaggle_encoded[\"balance*number_of_products\"] = kaggle_encoded[\"balance\"] / kaggle_encoded[\"number_of_products\"]\n",
    "test_encoded[\"credit_score/age\"] = test_encoded[\"credit_score\"] / test_encoded[\"age\"]"
   ]
  },
  {
   "cell_type": "code",
   "execution_count": 33,
   "id": "f1ca049c",
   "metadata": {},
   "outputs": [
    {
     "data": {
      "text/plain": [
       "<AxesSubplot:xlabel='Y', ylabel='credit_score/age'>"
      ]
     },
     "execution_count": 33,
     "metadata": {},
     "output_type": "execute_result"
    },
    {
     "data": {
      "image/png": "[encoded data removed]",
      "text/plain": [
       "<Figure size 640x480 with 1 Axes>"
      ]
     },
     "metadata": {},
     "output_type": "display_data"
    }
   ],
   "source": [
    "sns.boxplot(data= train_encoded, x= \"Y\", y= \"credit_score/age\")"
   ]
  },
  {
   "cell_type": "code",
   "execution_count": 26,
   "id": "c737e1c4",
   "metadata": {},
   "outputs": [],
   "source": [
    "feature_cols = [col for col in train_encoded.columns if col != \"Y\"]"
   ]
  },
  {
   "cell_type": "code",
   "execution_count": 27,
   "id": "c6fb3580",
   "metadata": {},
   "outputs": [],
   "source": [
    "rf_clf = RandomForestClassifier(random_state=1, n_jobs= 3)"
   ]
  },
  {
   "cell_type": "code",
   "execution_count": 28,
   "id": "47047ee1",
   "metadata": {
    "scrolled": true
   },
   "outputs": [
    {
     "data": {
      "text/html": [
       "<style>#sk-container-id-4 {color: black;}#sk-container-id-4 pre{padding: 0;}#sk-container-id-4 div.sk-toggleable {background-color: white;}#sk-container-id-4 label.sk-toggleable__label {cursor: pointer;display: block;width: 100%;margin-bottom: 0;padding: 0.3em;box-sizing: border-box;text-align: center;}#sk-container-id-4 label.sk-toggleable__label-arrow:before {content: \"▸\";float: left;margin-right: 0.25em;color: #696969;}#sk-container-id-4 label.sk-toggleable__label-arrow:hover:before {color: black;}#sk-container-id-4 div.sk-estimator:hover label.sk-toggleable__label-arrow:before {color: black;}#sk-container-id-4 div.sk-toggleable__content {max-height: 0;max-width: 0;overflow: hidden;text-align: left;background-color: #f0f8ff;}#sk-container-id-4 div.sk-toggleable__content pre {margin: 0.2em;color: black;border-radius: 0.25em;background-color: #f0f8ff;}#sk-container-id-4 input.sk-toggleable__control:checked~div.sk-toggleable__content {max-height: 200px;max-width: 100%;overflow: auto;}#sk-container-id-4 input.sk-toggleable__control:checked~label.sk-toggleable__label-arrow:before {content: \"▾\";}#sk-container-id-4 div.sk-estimator input.sk-toggleable__control:checked~label.sk-toggleable__label {background-color: #d4ebff;}#sk-container-id-4 div.sk-label input.sk-toggleable__control:checked~label.sk-toggleable__label {background-color: #d4ebff;}#sk-container-id-4 input.sk-hidden--visually {border: 0;clip: rect(1px 1px 1px 1px);clip: rect(1px, 1px, 1px, 1px);height: 1px;margin: -1px;overflow: hidden;padding: 0;position: absolute;width: 1px;}#sk-container-id-4 div.sk-estimator {font-family: monospace;background-color: #f0f8ff;border: 1px dotted black;border-radius: 0.25em;box-sizing: border-box;margin-bottom: 0.5em;}#sk-container-id-4 div.sk-estimator:hover {background-color: #d4ebff;}#sk-container-id-4 div.sk-parallel-item::after {content: \"\";width: 100%;border-bottom: 1px solid gray;flex-grow: 1;}#sk-container-id-4 div.sk-label:hover label.sk-toggleable__label {background-color: #d4ebff;}#sk-container-id-4 div.sk-serial::before {content: \"\";position: absolute;border-left: 1px solid gray;box-sizing: border-box;top: 0;bottom: 0;left: 50%;z-index: 0;}#sk-container-id-4 div.sk-serial {display: flex;flex-direction: column;align-items: center;background-color: white;padding-right: 0.2em;padding-left: 0.2em;position: relative;}#sk-container-id-4 div.sk-item {position: relative;z-index: 1;}#sk-container-id-4 div.sk-parallel {display: flex;align-items: stretch;justify-content: center;background-color: white;position: relative;}#sk-container-id-4 div.sk-item::before, #sk-container-id-4 div.sk-parallel-item::before {content: \"\";position: absolute;border-left: 1px solid gray;box-sizing: border-box;top: 0;bottom: 0;left: 50%;z-index: -1;}#sk-container-id-4 div.sk-parallel-item {display: flex;flex-direction: column;z-index: 1;position: relative;background-color: white;}#sk-container-id-4 div.sk-parallel-item:first-child::after {align-self: flex-end;width: 50%;}#sk-container-id-4 div.sk-parallel-item:last-child::after {align-self: flex-start;width: 50%;}#sk-container-id-4 div.sk-parallel-item:only-child::after {width: 0;}#sk-container-id-4 div.sk-dashed-wrapped {border: 1px dashed gray;margin: 0 0.4em 0.5em 0.4em;box-sizing: border-box;padding-bottom: 0.4em;background-color: white;}#sk-container-id-4 div.sk-label label {font-family: monospace;font-weight: bold;display: inline-block;line-height: 1.2em;}#sk-container-id-4 div.sk-label-container {text-align: center;}#sk-container-id-4 div.sk-container {/* jupyter's `normalize.less` sets `[hidden] { display: none; }` but bootstrap.min.css set `[hidden] { display: none !important; }` so we also need the `!important` here to be able to override the default hidden behavior on the sphinx rendered scikit-learn.org. See: https://github.com/scikit-learn/scikit-learn/issues/21755 */display: inline-block !important;position: relative;}#sk-container-id-4 div.sk-text-repr-fallback {display: none;}</style><div id=\"sk-container-id-4\" class=\"sk-top-container\"><div class=\"sk-text-repr-fallback\"><pre>RandomForestClassifier(n_jobs=3, random_state=1)</pre><b>In a Jupyter environment, please rerun this cell to show the HTML representation or trust the notebook. <br />On GitHub, the HTML representation is unable to render, please try loading this page with nbviewer.org.</b></div><div class=\"sk-container\" hidden><div class=\"sk-item\"><div class=\"sk-estimator sk-toggleable\"><input class=\"sk-toggleable__control sk-hidden--visually\" id=\"sk-estimator-id-4\" type=\"checkbox\" checked><label for=\"sk-estimator-id-4\" class=\"sk-toggleable__label sk-toggleable__label-arrow\">RandomForestClassifier</label><div class=\"sk-toggleable__content\"><pre>RandomForestClassifier(n_jobs=3, random_state=1)</pre></div></div></div></div></div>"
      ],
      "text/plain": [
       "RandomForestClassifier(n_jobs=3, random_state=1)"
      ]
     },
     "execution_count": 28,
     "metadata": {},
     "output_type": "execute_result"
    }
   ],
   "source": [
    "rf_clf.fit(X= train_encoded[feature_cols], y= train_encoded[\"Y\"])"
   ]
  },
  {
   "cell_type": "code",
   "execution_count": 29,
   "id": "33ea3f84",
   "metadata": {},
   "outputs": [],
   "source": [
    "rf_pred = rf_clf.predict(kaggle_encoded[feature_cols])"
   ]
  },
  {
   "cell_type": "code",
   "execution_count": 30,
   "id": "3663352d",
   "metadata": {},
   "outputs": [],
   "source": [
    "df_pred = pd.concat([kaggle_df['ID'], pd.DataFrame(rf_pred,columns=['pred'])], axis = 1)\n",
    "df_pred.to_csv('pred_values.csv',index=False)"
   ]
  },
  {
   "cell_type": "markdown",
   "id": "d111ce57",
   "metadata": {},
   "source": [
    "Result of besed model, kaggle 0.59701"
   ]
  },
  {
   "cell_type": "markdown",
   "id": "e7ca5f2a",
   "metadata": {},
   "source": [
    "## Adding interaction age/number_of_products"
   ]
  },
  {
   "cell_type": "code",
   "execution_count": 55,
   "id": "02d21897",
   "metadata": {},
   "outputs": [],
   "source": [
    "train_df[\"age\"] = train_df[\"customer_profile\"].apply(extract_age)\n",
    "train_df[\"gender\"] = train_df[\"customer_profile\"].apply(extract_gender)\n",
    "train_df[\"countary\"] = train_df[\"customer_profile\"].apply(extract_countary)\n",
    "\n",
    "kaggle_df[\"age\"] = kaggle_df[\"customer_profile\"].apply(extract_age)\n",
    "kaggle_df[\"gender\"] = kaggle_df[\"customer_profile\"].apply(extract_gender)\n",
    "kaggle_df[\"countary\"] = kaggle_df[\"customer_profile\"].apply(extract_countary)\n",
    "\n",
    "test_df[\"age\"] = test_df[\"customer_profile\"].apply(extract_age)\n",
    "test_df[\"gender\"] = test_df[\"customer_profile\"].apply(extract_gender)\n",
    "test_df[\"countary\"] = test_df[\"customer_profile\"].apply(extract_countary)"
   ]
  },
  {
   "cell_type": "code",
   "execution_count": 56,
   "id": "25158b66",
   "metadata": {},
   "outputs": [],
   "source": [
    "cat_cols = [\"gender\", \"countary\"]"
   ]
  },
  {
   "cell_type": "code",
   "execution_count": 57,
   "id": "ded061f3",
   "metadata": {},
   "outputs": [],
   "source": [
    "train_encoded = pd.get_dummies(train_df, columns= cat_cols)\n",
    "train_encoded = train_encoded.drop(\"ID\", axis= 1)\n",
    "train_encoded = train_encoded.drop(\"customer_profile\", axis= 1)\n",
    "\n",
    "kaggle_encoded = pd.get_dummies(kaggle_df, columns= cat_cols)\n",
    "kaggle_encoded = kaggle_encoded.drop(\"ID\", axis= 1)\n",
    "kaggle_encoded = kaggle_encoded.drop(\"customer_profile\", axis= 1)\n",
    "\n",
    "test_encoded = pd.get_dummies(test_df, columns= cat_cols)\n",
    "test_encoded = test_encoded.drop(\"ID\", axis= 1)\n",
    "test_encoded = test_encoded.drop(\"customer_profile\", axis= 1)"
   ]
  },
  {
   "cell_type": "code",
   "execution_count": 58,
   "id": "6a7b0919",
   "metadata": {},
   "outputs": [],
   "source": [
    "# train_encoded[\"salary/age\"] = train_encoded[\"salary\"] / train_encoded[\"age\"]\n",
    "# train_encoded[\"balance*number_of_products\"] = train_encoded[\"balance\"] / train_encoded[\"number_of_products\"]\n",
    "# train_encoded[\"credit_score/age\"] = train_encoded[\"credit_score\"] / train_encoded[\"age\"]\n",
    "train_encoded[\"age/number_of_product\"] = train_encoded[\"age\"] / train_encoded[\"number_of_products\"]\n",
    "\n",
    "# kaggle_encoded[\"salary/age\"] = kaggle_encoded[\"salary\"] / kaggle_encoded[\"age\"]\n",
    "# kaggle_encoded[\"balance*number_of_products\"] = kaggle_encoded[\"balance\"] / kaggle_encoded[\"number_of_products\"]\n",
    "# kaggle_encoded[\"credit_score/age\"] = kaggle_encoded[\"credit_score\"] / kaggle_encoded[\"age\"]\n",
    "kaggle_encoded[\"age/number_of_product\"] = kaggle_encoded[\"age\"] / kaggle_encoded[\"number_of_products\"]\n",
    "\n",
    "# test_encoded[\"salary/age\"] = test_encoded[\"salary\"] / test_encoded[\"age\"]\n",
    "# kaggle_encoded[\"balance*number_of_products\"] = kaggle_encoded[\"balance\"] / kaggle_encoded[\"number_of_products\"]\n",
    "# test_encoded[\"credit_score/age\"] = test_encoded[\"credit_score\"] / test_encoded[\"age\"]\n",
    "test_encoded[\"age/number_of_product\"] = test_encoded[\"age\"] / test_encoded[\"number_of_products\"]"
   ]
  },
  {
   "cell_type": "code",
   "execution_count": 59,
   "id": "78327433",
   "metadata": {},
   "outputs": [
    {
     "data": {
      "text/plain": [
       "<AxesSubplot:xlabel='Y', ylabel='age/number_of_product'>"
      ]
     },
     "execution_count": 59,
     "metadata": {},
     "output_type": "execute_result"
    },
    {
     "data": {
      "image/png": "[encoded data removed]",
      "text/plain": [
       "<Figure size 640x480 with 1 Axes>"
      ]
     },
     "metadata": {},
     "output_type": "display_data"
    }
   ],
   "source": [
    "sns.boxplot(data= train_encoded, x= \"Y\", y= \"age/number_of_product\")"
   ]
  },
  {
   "cell_type": "code",
   "execution_count": 60,
   "id": "de0198f9",
   "metadata": {},
   "outputs": [],
   "source": [
    "feature_cols = [col for col in train_encoded.columns if col != \"Y\"]"
   ]
  },
  {
   "cell_type": "code",
   "execution_count": 61,
   "id": "70b49153",
   "metadata": {},
   "outputs": [],
   "source": [
    "rf_clf = RandomForestClassifier(random_state=1, n_jobs= 3)"
   ]
  },
  {
   "cell_type": "code",
   "execution_count": 62,
   "id": "b34810be",
   "metadata": {
    "scrolled": true
   },
   "outputs": [
    {
     "data": {
      "text/html": [
       "<style>#sk-container-id-5 {color: black;}#sk-container-id-5 pre{padding: 0;}#sk-container-id-5 div.sk-toggleable {background-color: white;}#sk-container-id-5 label.sk-toggleable__label {cursor: pointer;display: block;width: 100%;margin-bottom: 0;padding: 0.3em;box-sizing: border-box;text-align: center;}#sk-container-id-5 label.sk-toggleable__label-arrow:before {content: \"▸\";float: left;margin-right: 0.25em;color: #696969;}#sk-container-id-5 label.sk-toggleable__label-arrow:hover:before {color: black;}#sk-container-id-5 div.sk-estimator:hover label.sk-toggleable__label-arrow:before {color: black;}#sk-container-id-5 div.sk-toggleable__content {max-height: 0;max-width: 0;overflow: hidden;text-align: left;background-color: #f0f8ff;}#sk-container-id-5 div.sk-toggleable__content pre {margin: 0.2em;color: black;border-radius: 0.25em;background-color: #f0f8ff;}#sk-container-id-5 input.sk-toggleable__control:checked~div.sk-toggleable__content {max-height: 200px;max-width: 100%;overflow: auto;}#sk-container-id-5 input.sk-toggleable__control:checked~label.sk-toggleable__label-arrow:before {content: \"▾\";}#sk-container-id-5 div.sk-estimator input.sk-toggleable__control:checked~label.sk-toggleable__label {background-color: #d4ebff;}#sk-container-id-5 div.sk-label input.sk-toggleable__control:checked~label.sk-toggleable__label {background-color: #d4ebff;}#sk-container-id-5 input.sk-hidden--visually {border: 0;clip: rect(1px 1px 1px 1px);clip: rect(1px, 1px, 1px, 1px);height: 1px;margin: -1px;overflow: hidden;padding: 0;position: absolute;width: 1px;}#sk-container-id-5 div.sk-estimator {font-family: monospace;background-color: #f0f8ff;border: 1px dotted black;border-radius: 0.25em;box-sizing: border-box;margin-bottom: 0.5em;}#sk-container-id-5 div.sk-estimator:hover {background-color: #d4ebff;}#sk-container-id-5 div.sk-parallel-item::after {content: \"\";width: 100%;border-bottom: 1px solid gray;flex-grow: 1;}#sk-container-id-5 div.sk-label:hover label.sk-toggleable__label {background-color: #d4ebff;}#sk-container-id-5 div.sk-serial::before {content: \"\";position: absolute;border-left: 1px solid gray;box-sizing: border-box;top: 0;bottom: 0;left: 50%;z-index: 0;}#sk-container-id-5 div.sk-serial {display: flex;flex-direction: column;align-items: center;background-color: white;padding-right: 0.2em;padding-left: 0.2em;position: relative;}#sk-container-id-5 div.sk-item {position: relative;z-index: 1;}#sk-container-id-5 div.sk-parallel {display: flex;align-items: stretch;justify-content: center;background-color: white;position: relative;}#sk-container-id-5 div.sk-item::before, #sk-container-id-5 div.sk-parallel-item::before {content: \"\";position: absolute;border-left: 1px solid gray;box-sizing: border-box;top: 0;bottom: 0;left: 50%;z-index: -1;}#sk-container-id-5 div.sk-parallel-item {display: flex;flex-direction: column;z-index: 1;position: relative;background-color: white;}#sk-container-id-5 div.sk-parallel-item:first-child::after {align-self: flex-end;width: 50%;}#sk-container-id-5 div.sk-parallel-item:last-child::after {align-self: flex-start;width: 50%;}#sk-container-id-5 div.sk-parallel-item:only-child::after {width: 0;}#sk-container-id-5 div.sk-dashed-wrapped {border: 1px dashed gray;margin: 0 0.4em 0.5em 0.4em;box-sizing: border-box;padding-bottom: 0.4em;background-color: white;}#sk-container-id-5 div.sk-label label {font-family: monospace;font-weight: bold;display: inline-block;line-height: 1.2em;}#sk-container-id-5 div.sk-label-container {text-align: center;}#sk-container-id-5 div.sk-container {/* jupyter's `normalize.less` sets `[hidden] { display: none; }` but bootstrap.min.css set `[hidden] { display: none !important; }` so we also need the `!important` here to be able to override the default hidden behavior on the sphinx rendered scikit-learn.org. See: https://github.com/scikit-learn/scikit-learn/issues/21755 */display: inline-block !important;position: relative;}#sk-container-id-5 div.sk-text-repr-fallback {display: none;}</style><div id=\"sk-container-id-5\" class=\"sk-top-container\"><div class=\"sk-text-repr-fallback\"><pre>RandomForestClassifier(n_jobs=3, random_state=1)</pre><b>In a Jupyter environment, please rerun this cell to show the HTML representation or trust the notebook. <br />On GitHub, the HTML representation is unable to render, please try loading this page with nbviewer.org.</b></div><div class=\"sk-container\" hidden><div class=\"sk-item\"><div class=\"sk-estimator sk-toggleable\"><input class=\"sk-toggleable__control sk-hidden--visually\" id=\"sk-estimator-id-5\" type=\"checkbox\" checked><label for=\"sk-estimator-id-5\" class=\"sk-toggleable__label sk-toggleable__label-arrow\">RandomForestClassifier</label><div class=\"sk-toggleable__content\"><pre>RandomForestClassifier(n_jobs=3, random_state=1)</pre></div></div></div></div></div>"
      ],
      "text/plain": [
       "RandomForestClassifier(n_jobs=3, random_state=1)"
      ]
     },
     "execution_count": 62,
     "metadata": {},
     "output_type": "execute_result"
    }
   ],
   "source": [
    "rf_clf.fit(X= train_encoded[feature_cols], y= train_encoded[\"Y\"])"
   ]
  },
  {
   "cell_type": "code",
   "execution_count": 63,
   "id": "d880ea26",
   "metadata": {},
   "outputs": [],
   "source": [
    "rf_pred = rf_clf.predict(kaggle_encoded[feature_cols])"
   ]
  },
  {
   "cell_type": "code",
   "execution_count": 64,
   "id": "48872383",
   "metadata": {},
   "outputs": [],
   "source": [
    "df_pred = pd.concat([kaggle_df['ID'], pd.DataFrame(rf_pred,columns=['pred'])], axis = 1)\n",
    "df_pred.to_csv('pred_values.csv',index=False)"
   ]
  },
  {
   "cell_type": "markdown",
   "id": "b0e1740d",
   "metadata": {},
   "source": [
    "Result of besed model, kaggle 0.59701"
   ]
  },
  {
   "cell_type": "markdown",
   "id": "52219eff",
   "metadata": {},
   "source": [
    "## Add Both Interaction"
   ]
  },
  {
   "cell_type": "code",
   "execution_count": 65,
   "id": "29a4887f",
   "metadata": {},
   "outputs": [],
   "source": [
    "train_df[\"age\"] = train_df[\"customer_profile\"].apply(extract_age)\n",
    "train_df[\"gender\"] = train_df[\"customer_profile\"].apply(extract_gender)\n",
    "train_df[\"countary\"] = train_df[\"customer_profile\"].apply(extract_countary)\n",
    "\n",
    "kaggle_df[\"age\"] = kaggle_df[\"customer_profile\"].apply(extract_age)\n",
    "kaggle_df[\"gender\"] = kaggle_df[\"customer_profile\"].apply(extract_gender)\n",
    "kaggle_df[\"countary\"] = kaggle_df[\"customer_profile\"].apply(extract_countary)\n",
    "\n",
    "test_df[\"age\"] = test_df[\"customer_profile\"].apply(extract_age)\n",
    "test_df[\"gender\"] = test_df[\"customer_profile\"].apply(extract_gender)\n",
    "test_df[\"countary\"] = test_df[\"customer_profile\"].apply(extract_countary)"
   ]
  },
  {
   "cell_type": "code",
   "execution_count": 66,
   "id": "7404218a",
   "metadata": {},
   "outputs": [],
   "source": [
    "cat_cols = [\"gender\", \"countary\"]"
   ]
  },
  {
   "cell_type": "code",
   "execution_count": 67,
   "id": "42d7a97e",
   "metadata": {},
   "outputs": [],
   "source": [
    "train_encoded = pd.get_dummies(train_df, columns= cat_cols)\n",
    "train_encoded = train_encoded.drop(\"ID\", axis= 1)\n",
    "train_encoded = train_encoded.drop(\"customer_profile\", axis= 1)\n",
    "\n",
    "kaggle_encoded = pd.get_dummies(kaggle_df, columns= cat_cols)\n",
    "kaggle_encoded = kaggle_encoded.drop(\"ID\", axis= 1)\n",
    "kaggle_encoded = kaggle_encoded.drop(\"customer_profile\", axis= 1)\n",
    "\n",
    "test_encoded = pd.get_dummies(test_df, columns= cat_cols)\n",
    "test_encoded = test_encoded.drop(\"ID\", axis= 1)\n",
    "test_encoded = test_encoded.drop(\"customer_profile\", axis= 1)"
   ]
  },
  {
   "cell_type": "code",
   "execution_count": 68,
   "id": "1c86b3b5",
   "metadata": {},
   "outputs": [],
   "source": [
    "# train_encoded[\"salary/age\"] = train_encoded[\"salary\"] / train_encoded[\"age\"]\n",
    "# train_encoded[\"balance*number_of_products\"] = train_encoded[\"balance\"] / train_encoded[\"number_of_products\"]\n",
    "train_encoded[\"credit_score/age\"] = train_encoded[\"credit_score\"] / train_encoded[\"age\"]\n",
    "train_encoded[\"age/number_of_product\"] = train_encoded[\"age\"] / train_encoded[\"number_of_products\"]\n",
    "\n",
    "\n",
    "# kaggle_encoded[\"salary/age\"] = kaggle_encoded[\"salary\"] / kaggle_encoded[\"age\"]\n",
    "# kaggle_encoded[\"balance*number_of_products\"] = kaggle_encoded[\"balance\"] / kaggle_encoded[\"number_of_products\"]\n",
    "kaggle_encoded[\"credit_score/age\"] = kaggle_encoded[\"credit_score\"] / kaggle_encoded[\"age\"]\n",
    "kaggle_encoded[\"age/number_of_product\"] = kaggle_encoded[\"age\"] / kaggle_encoded[\"number_of_products\"]\n",
    "\n",
    "\n",
    "# test_encoded[\"salary/age\"] = test_encoded[\"salary\"] / test_encoded[\"age\"]\n",
    "# kaggle_encoded[\"balance*number_of_products\"] = kaggle_encoded[\"balance\"] / kaggle_encoded[\"number_of_products\"]\n",
    "test_encoded[\"credit_score/age\"] = test_encoded[\"credit_score\"] / test_encoded[\"age\"]\n",
    "test_encoded[\"age/number_of_product\"] = test_encoded[\"age\"] / test_encoded[\"number_of_products\"]"
   ]
  },
  {
   "cell_type": "code",
   "execution_count": 70,
   "id": "dbbddac7",
   "metadata": {},
   "outputs": [],
   "source": [
    "feature_cols = [col for col in train_encoded.columns if col != \"Y\"]"
   ]
  },
  {
   "cell_type": "code",
   "execution_count": 71,
   "id": "3a72c429",
   "metadata": {},
   "outputs": [],
   "source": [
    "rf_clf = RandomForestClassifier(random_state=1, n_jobs= 3)"
   ]
  },
  {
   "cell_type": "code",
   "execution_count": 72,
   "id": "a19efb0b",
   "metadata": {
    "scrolled": true
   },
   "outputs": [
    {
     "data": {
      "text/html": [
       "<style>#sk-container-id-6 {color: black;}#sk-container-id-6 pre{padding: 0;}#sk-container-id-6 div.sk-toggleable {background-color: white;}#sk-container-id-6 label.sk-toggleable__label {cursor: pointer;display: block;width: 100%;margin-bottom: 0;padding: 0.3em;box-sizing: border-box;text-align: center;}#sk-container-id-6 label.sk-toggleable__label-arrow:before {content: \"▸\";float: left;margin-right: 0.25em;color: #696969;}#sk-container-id-6 label.sk-toggleable__label-arrow:hover:before {color: black;}#sk-container-id-6 div.sk-estimator:hover label.sk-toggleable__label-arrow:before {color: black;}#sk-container-id-6 div.sk-toggleable__content {max-height: 0;max-width: 0;overflow: hidden;text-align: left;background-color: #f0f8ff;}#sk-container-id-6 div.sk-toggleable__content pre {margin: 0.2em;color: black;border-radius: 0.25em;background-color: #f0f8ff;}#sk-container-id-6 input.sk-toggleable__control:checked~div.sk-toggleable__content {max-height: 200px;max-width: 100%;overflow: auto;}#sk-container-id-6 input.sk-toggleable__control:checked~label.sk-toggleable__label-arrow:before {content: \"▾\";}#sk-container-id-6 div.sk-estimator input.sk-toggleable__control:checked~label.sk-toggleable__label {background-color: #d4ebff;}#sk-container-id-6 div.sk-label input.sk-toggleable__control:checked~label.sk-toggleable__label {background-color: #d4ebff;}#sk-container-id-6 input.sk-hidden--visually {border: 0;clip: rect(1px 1px 1px 1px);clip: rect(1px, 1px, 1px, 1px);height: 1px;margin: -1px;overflow: hidden;padding: 0;position: absolute;width: 1px;}#sk-container-id-6 div.sk-estimator {font-family: monospace;background-color: #f0f8ff;border: 1px dotted black;border-radius: 0.25em;box-sizing: border-box;margin-bottom: 0.5em;}#sk-container-id-6 div.sk-estimator:hover {background-color: #d4ebff;}#sk-container-id-6 div.sk-parallel-item::after {content: \"\";width: 100%;border-bottom: 1px solid gray;flex-grow: 1;}#sk-container-id-6 div.sk-label:hover label.sk-toggleable__label {background-color: #d4ebff;}#sk-container-id-6 div.sk-serial::before {content: \"\";position: absolute;border-left: 1px solid gray;box-sizing: border-box;top: 0;bottom: 0;left: 50%;z-index: 0;}#sk-container-id-6 div.sk-serial {display: flex;flex-direction: column;align-items: center;background-color: white;padding-right: 0.2em;padding-left: 0.2em;position: relative;}#sk-container-id-6 div.sk-item {position: relative;z-index: 1;}#sk-container-id-6 div.sk-parallel {display: flex;align-items: stretch;justify-content: center;background-color: white;position: relative;}#sk-container-id-6 div.sk-item::before, #sk-container-id-6 div.sk-parallel-item::before {content: \"\";position: absolute;border-left: 1px solid gray;box-sizing: border-box;top: 0;bottom: 0;left: 50%;z-index: -1;}#sk-container-id-6 div.sk-parallel-item {display: flex;flex-direction: column;z-index: 1;position: relative;background-color: white;}#sk-container-id-6 div.sk-parallel-item:first-child::after {align-self: flex-end;width: 50%;}#sk-container-id-6 div.sk-parallel-item:last-child::after {align-self: flex-start;width: 50%;}#sk-container-id-6 div.sk-parallel-item:only-child::after {width: 0;}#sk-container-id-6 div.sk-dashed-wrapped {border: 1px dashed gray;margin: 0 0.4em 0.5em 0.4em;box-sizing: border-box;padding-bottom: 0.4em;background-color: white;}#sk-container-id-6 div.sk-label label {font-family: monospace;font-weight: bold;display: inline-block;line-height: 1.2em;}#sk-container-id-6 div.sk-label-container {text-align: center;}#sk-container-id-6 div.sk-container {/* jupyter's `normalize.less` sets `[hidden] { display: none; }` but bootstrap.min.css set `[hidden] { display: none !important; }` so we also need the `!important` here to be able to override the default hidden behavior on the sphinx rendered scikit-learn.org. See: https://github.com/scikit-learn/scikit-learn/issues/21755 */display: inline-block !important;position: relative;}#sk-container-id-6 div.sk-text-repr-fallback {display: none;}</style><div id=\"sk-container-id-6\" class=\"sk-top-container\"><div class=\"sk-text-repr-fallback\"><pre>RandomForestClassifier(n_jobs=3, random_state=1)</pre><b>In a Jupyter environment, please rerun this cell to show the HTML representation or trust the notebook. <br />On GitHub, the HTML representation is unable to render, please try loading this page with nbviewer.org.</b></div><div class=\"sk-container\" hidden><div class=\"sk-item\"><div class=\"sk-estimator sk-toggleable\"><input class=\"sk-toggleable__control sk-hidden--visually\" id=\"sk-estimator-id-6\" type=\"checkbox\" checked><label for=\"sk-estimator-id-6\" class=\"sk-toggleable__label sk-toggleable__label-arrow\">RandomForestClassifier</label><div class=\"sk-toggleable__content\"><pre>RandomForestClassifier(n_jobs=3, random_state=1)</pre></div></div></div></div></div>"
      ],
      "text/plain": [
       "RandomForestClassifier(n_jobs=3, random_state=1)"
      ]
     },
     "execution_count": 72,
     "metadata": {},
     "output_type": "execute_result"
    }
   ],
   "source": [
    "rf_clf.fit(X= train_encoded[feature_cols], y= train_encoded[\"Y\"])"
   ]
  },
  {
   "cell_type": "code",
   "execution_count": 73,
   "id": "a2d38da9",
   "metadata": {},
   "outputs": [],
   "source": [
    "rf_pred = rf_clf.predict(kaggle_encoded[feature_cols])"
   ]
  },
  {
   "cell_type": "code",
   "execution_count": 74,
   "id": "212143ac",
   "metadata": {},
   "outputs": [],
   "source": [
    "df_pred = pd.concat([kaggle_df['ID'], pd.DataFrame(rf_pred,columns=['pred'])], axis = 1)\n",
    "df_pred.to_csv('pred_values.csv',index=False)"
   ]
  },
  {
   "cell_type": "markdown",
   "id": "85335c2f",
   "metadata": {},
   "source": [
    "Result of besed model, kaggle 0.60518"
   ]
  },
  {
   "cell_type": "code",
   "execution_count": 79,
   "id": "b1bc94fc",
   "metadata": {},
   "outputs": [
    {
     "data": {
      "image/png": "[encoded data removed]",
      "text/plain": [
       "<Figure size 640x480 with 1 Axes>"
      ]
     },
     "metadata": {},
     "output_type": "display_data"
    }
   ],
   "source": [
    "importance_df = pd.DataFrame(zip(feature_cols, rf_clf.feature_importances_), columns=[\"feature\", \"Importance\"])\n",
    "importance_df = importance_df.sort_values(\"Importance\", ascending= False)\n",
    "\n",
    "sns.barplot(data=importance_df, y= \"feature\", x= \"Importance\", color= \"red\")\n",
    "plt.show()"
   ]
  },
  {
   "cell_type": "code",
   "execution_count": 80,
   "id": "81796058",
   "metadata": {},
   "outputs": [
    {
     "data": {
      "text/plain": [
       "<AxesSubplot:xlabel='Y', ylabel='number_of_products'>"
      ]
     },
     "execution_count": 80,
     "metadata": {},
     "output_type": "execute_result"
    },
    {
     "data": {
      "image/png": "[encoded data removed]",
      "text/plain": [
       "<Figure size 640x480 with 1 Axes>"
      ]
     },
     "metadata": {},
     "output_type": "display_data"
    }
   ],
   "source": [
    "sns.boxplot(data= train_encoded, x= \"Y\", y= \"number_of_products\")"
   ]
  },
  {
   "cell_type": "markdown",
   "id": "aadbcace",
   "metadata": {},
   "source": [
    "## Drop less importances"
   ]
  },
  {
   "cell_type": "code",
   "execution_count": 127,
   "id": "9d610d45",
   "metadata": {},
   "outputs": [],
   "source": [
    "train_df[\"age\"] = train_df[\"customer_profile\"].apply(extract_age)\n",
    "train_df[\"gender\"] = train_df[\"customer_profile\"].apply(extract_gender)\n",
    "train_df[\"countary\"] = train_df[\"customer_profile\"].apply(extract_countary)\n",
    "\n",
    "kaggle_df[\"age\"] = kaggle_df[\"customer_profile\"].apply(extract_age)\n",
    "kaggle_df[\"gender\"] = kaggle_df[\"customer_profile\"].apply(extract_gender)\n",
    "kaggle_df[\"countary\"] = kaggle_df[\"customer_profile\"].apply(extract_countary)\n",
    "\n",
    "test_df[\"age\"] = test_df[\"customer_profile\"].apply(extract_age)\n",
    "test_df[\"gender\"] = test_df[\"customer_profile\"].apply(extract_gender)\n",
    "test_df[\"countary\"] = test_df[\"customer_profile\"].apply(extract_countary)"
   ]
  },
  {
   "cell_type": "code",
   "execution_count": 128,
   "id": "b6acf6de",
   "metadata": {},
   "outputs": [],
   "source": [
    "cat_cols = [\"gender\", \"countary\"]"
   ]
  },
  {
   "cell_type": "code",
   "execution_count": 129,
   "id": "8e83ad06",
   "metadata": {},
   "outputs": [],
   "source": [
    "train_encoded = pd.get_dummies(train_df, columns= cat_cols)\n",
    "train_encoded = train_encoded.drop(\"ID\", axis= 1)\n",
    "train_encoded = train_encoded.drop(\"customer_profile\", axis= 1)\n",
    "\n",
    "kaggle_encoded = pd.get_dummies(kaggle_df, columns= cat_cols)\n",
    "kaggle_encoded = kaggle_encoded.drop(\"ID\", axis= 1)\n",
    "kaggle_encoded = kaggle_encoded.drop(\"customer_profile\", axis= 1)\n",
    "\n",
    "test_encoded = pd.get_dummies(test_df, columns= cat_cols)\n",
    "test_encoded = test_encoded.drop(\"ID\", axis= 1)\n",
    "test_encoded = test_encoded.drop(\"customer_profile\", axis= 1)"
   ]
  },
  {
   "cell_type": "code",
   "execution_count": 130,
   "id": "309c8ad2",
   "metadata": {},
   "outputs": [],
   "source": [
    "train_encoded[\"credit_score/age\"] = train_encoded[\"credit_score\"] / train_encoded[\"age\"]\n",
    "train_encoded[\"age/number_of_product\"] = train_encoded[\"age\"] / train_encoded[\"number_of_products\"]\n",
    "\n",
    "\n",
    "kaggle_encoded[\"credit_score/age\"] = kaggle_encoded[\"credit_score\"] / kaggle_encoded[\"age\"]\n",
    "kaggle_encoded[\"age/number_of_product\"] = kaggle_encoded[\"age\"] / kaggle_encoded[\"number_of_products\"]\n",
    "\n",
    "test_encoded[\"credit_score/age\"] = test_encoded[\"credit_score\"] / test_encoded[\"age\"]\n",
    "test_encoded[\"age/number_of_product\"] = test_encoded[\"age\"] / test_encoded[\"number_of_products\"]"
   ]
  },
  {
   "cell_type": "code",
   "execution_count": 139,
   "id": "5a7b4d51",
   "metadata": {},
   "outputs": [],
   "source": [
    "feature_cols = list(importance_df[\"feature\"])[:-6]"
   ]
  },
  {
   "cell_type": "code",
   "execution_count": 140,
   "id": "85ce9d02",
   "metadata": {},
   "outputs": [
    {
     "data": {
      "text/plain": [
       "['age/number_of_product',\n",
       " 'credit_score/age',\n",
       " 'age',\n",
       " 'balance',\n",
       " 'credit_score',\n",
       " 'salary',\n",
       " 'number_of_products',\n",
       " 'tenure',\n",
       " 'is_active_member']"
      ]
     },
     "execution_count": 140,
     "metadata": {},
     "output_type": "execute_result"
    }
   ],
   "source": [
    "feature_cols"
   ]
  },
  {
   "cell_type": "code",
   "execution_count": 141,
   "id": "1b5e8ed9",
   "metadata": {},
   "outputs": [
    {
     "data": {
      "text/plain": [
       "9"
      ]
     },
     "execution_count": 141,
     "metadata": {},
     "output_type": "execute_result"
    }
   ],
   "source": [
    "len(feature_cols)"
   ]
  },
  {
   "cell_type": "code",
   "execution_count": 142,
   "id": "76c3843b",
   "metadata": {},
   "outputs": [],
   "source": [
    "# feature_cols = [col for col in train_encoded.columns if col not in [\"Y\", \"number_of_products\"]]"
   ]
  },
  {
   "cell_type": "code",
   "execution_count": 143,
   "id": "258e0141",
   "metadata": {},
   "outputs": [],
   "source": [
    "rf_clf = RandomForestClassifier(random_state=1, n_jobs= 3)"
   ]
  },
  {
   "cell_type": "code",
   "execution_count": 144,
   "id": "dfcd74f3",
   "metadata": {
    "scrolled": true
   },
   "outputs": [
    {
     "data": {
      "text/html": [
       "<style>#sk-container-id-11 {color: black;}#sk-container-id-11 pre{padding: 0;}#sk-container-id-11 div.sk-toggleable {background-color: white;}#sk-container-id-11 label.sk-toggleable__label {cursor: pointer;display: block;width: 100%;margin-bottom: 0;padding: 0.3em;box-sizing: border-box;text-align: center;}#sk-container-id-11 label.sk-toggleable__label-arrow:before {content: \"▸\";float: left;margin-right: 0.25em;color: #696969;}#sk-container-id-11 label.sk-toggleable__label-arrow:hover:before {color: black;}#sk-container-id-11 div.sk-estimator:hover label.sk-toggleable__label-arrow:before {color: black;}#sk-container-id-11 div.sk-toggleable__content {max-height: 0;max-width: 0;overflow: hidden;text-align: left;background-color: #f0f8ff;}#sk-container-id-11 div.sk-toggleable__content pre {margin: 0.2em;color: black;border-radius: 0.25em;background-color: #f0f8ff;}#sk-container-id-11 input.sk-toggleable__control:checked~div.sk-toggleable__content {max-height: 200px;max-width: 100%;overflow: auto;}#sk-container-id-11 input.sk-toggleable__control:checked~label.sk-toggleable__label-arrow:before {content: \"▾\";}#sk-container-id-11 div.sk-estimator input.sk-toggleable__control:checked~label.sk-toggleable__label {background-color: #d4ebff;}#sk-container-id-11 div.sk-label input.sk-toggleable__control:checked~label.sk-toggleable__label {background-color: #d4ebff;}#sk-container-id-11 input.sk-hidden--visually {border: 0;clip: rect(1px 1px 1px 1px);clip: rect(1px, 1px, 1px, 1px);height: 1px;margin: -1px;overflow: hidden;padding: 0;position: absolute;width: 1px;}#sk-container-id-11 div.sk-estimator {font-family: monospace;background-color: #f0f8ff;border: 1px dotted black;border-radius: 0.25em;box-sizing: border-box;margin-bottom: 0.5em;}#sk-container-id-11 div.sk-estimator:hover {background-color: #d4ebff;}#sk-container-id-11 div.sk-parallel-item::after {content: \"\";width: 100%;border-bottom: 1px solid gray;flex-grow: 1;}#sk-container-id-11 div.sk-label:hover label.sk-toggleable__label {background-color: #d4ebff;}#sk-container-id-11 div.sk-serial::before {content: \"\";position: absolute;border-left: 1px solid gray;box-sizing: border-box;top: 0;bottom: 0;left: 50%;z-index: 0;}#sk-container-id-11 div.sk-serial {display: flex;flex-direction: column;align-items: center;background-color: white;padding-right: 0.2em;padding-left: 0.2em;position: relative;}#sk-container-id-11 div.sk-item {position: relative;z-index: 1;}#sk-container-id-11 div.sk-parallel {display: flex;align-items: stretch;justify-content: center;background-color: white;position: relative;}#sk-container-id-11 div.sk-item::before, #sk-container-id-11 div.sk-parallel-item::before {content: \"\";position: absolute;border-left: 1px solid gray;box-sizing: border-box;top: 0;bottom: 0;left: 50%;z-index: -1;}#sk-container-id-11 div.sk-parallel-item {display: flex;flex-direction: column;z-index: 1;position: relative;background-color: white;}#sk-container-id-11 div.sk-parallel-item:first-child::after {align-self: flex-end;width: 50%;}#sk-container-id-11 div.sk-parallel-item:last-child::after {align-self: flex-start;width: 50%;}#sk-container-id-11 div.sk-parallel-item:only-child::after {width: 0;}#sk-container-id-11 div.sk-dashed-wrapped {border: 1px dashed gray;margin: 0 0.4em 0.5em 0.4em;box-sizing: border-box;padding-bottom: 0.4em;background-color: white;}#sk-container-id-11 div.sk-label label {font-family: monospace;font-weight: bold;display: inline-block;line-height: 1.2em;}#sk-container-id-11 div.sk-label-container {text-align: center;}#sk-container-id-11 div.sk-container {/* jupyter's `normalize.less` sets `[hidden] { display: none; }` but bootstrap.min.css set `[hidden] { display: none !important; }` so we also need the `!important` here to be able to override the default hidden behavior on the sphinx rendered scikit-learn.org. See: https://github.com/scikit-learn/scikit-learn/issues/21755 */display: inline-block !important;position: relative;}#sk-container-id-11 div.sk-text-repr-fallback {display: none;}</style><div id=\"sk-container-id-11\" class=\"sk-top-container\"><div class=\"sk-text-repr-fallback\"><pre>RandomForestClassifier(n_jobs=3, random_state=1)</pre><b>In a Jupyter environment, please rerun this cell to show the HTML representation or trust the notebook. <br />On GitHub, the HTML representation is unable to render, please try loading this page with nbviewer.org.</b></div><div class=\"sk-container\" hidden><div class=\"sk-item\"><div class=\"sk-estimator sk-toggleable\"><input class=\"sk-toggleable__control sk-hidden--visually\" id=\"sk-estimator-id-11\" type=\"checkbox\" checked><label for=\"sk-estimator-id-11\" class=\"sk-toggleable__label sk-toggleable__label-arrow\">RandomForestClassifier</label><div class=\"sk-toggleable__content\"><pre>RandomForestClassifier(n_jobs=3, random_state=1)</pre></div></div></div></div></div>"
      ],
      "text/plain": [
       "RandomForestClassifier(n_jobs=3, random_state=1)"
      ]
     },
     "execution_count": 144,
     "metadata": {},
     "output_type": "execute_result"
    }
   ],
   "source": [
    "rf_clf.fit(X= train_encoded[feature_cols], y= train_encoded[\"Y\"])"
   ]
  },
  {
   "cell_type": "code",
   "execution_count": 145,
   "id": "7a41618d",
   "metadata": {},
   "outputs": [],
   "source": [
    "rf_pred = rf_clf.predict(kaggle_encoded[feature_cols])"
   ]
  },
  {
   "cell_type": "code",
   "execution_count": 146,
   "id": "fd7ad41f",
   "metadata": {},
   "outputs": [],
   "source": [
    "df_pred = pd.concat([kaggle_df['ID'], pd.DataFrame(rf_pred,columns=['pred'])], axis = 1)\n",
    "df_pred.to_csv('pred_values.csv',index=False)"
   ]
  },
  {
   "cell_type": "markdown",
   "id": "aed31c2b",
   "metadata": {},
   "source": [
    "Result\n",
    "* top 13 0.59475\n",
    "* top 12 0.57478\n",
    "* top 11 0.58857\n",
    "* top 09 0.5481"
   ]
  },
  {
   "cell_type": "markdown",
   "id": "ab70b8aa",
   "metadata": {},
   "source": [
    "## Tuning parameters"
   ]
  },
  {
   "cell_type": "code",
   "execution_count": 233,
   "id": "70daf840",
   "metadata": {},
   "outputs": [],
   "source": [
    "train_df[\"age\"] = train_df[\"customer_profile\"].apply(extract_age)\n",
    "train_df[\"gender\"] = train_df[\"customer_profile\"].apply(extract_gender)\n",
    "train_df[\"countary\"] = train_df[\"customer_profile\"].apply(extract_countary)\n",
    "\n",
    "kaggle_df[\"age\"] = kaggle_df[\"customer_profile\"].apply(extract_age)\n",
    "kaggle_df[\"gender\"] = kaggle_df[\"customer_profile\"].apply(extract_gender)\n",
    "kaggle_df[\"countary\"] = kaggle_df[\"customer_profile\"].apply(extract_countary)\n",
    "\n",
    "test_df[\"age\"] = test_df[\"customer_profile\"].apply(extract_age)\n",
    "test_df[\"gender\"] = test_df[\"customer_profile\"].apply(extract_gender)\n",
    "test_df[\"countary\"] = test_df[\"customer_profile\"].apply(extract_countary)"
   ]
  },
  {
   "cell_type": "code",
   "execution_count": 234,
   "id": "dbda9897",
   "metadata": {},
   "outputs": [],
   "source": [
    "cat_cols = [\"gender\", \"countary\"]"
   ]
  },
  {
   "cell_type": "code",
   "execution_count": 235,
   "id": "939260a0",
   "metadata": {},
   "outputs": [],
   "source": [
    "train_encoded = pd.get_dummies(train_df, columns= cat_cols)\n",
    "train_encoded = train_encoded.drop(\"ID\", axis= 1)\n",
    "train_encoded = train_encoded.drop(\"customer_profile\", axis= 1)\n",
    "\n",
    "kaggle_encoded = pd.get_dummies(kaggle_df, columns= cat_cols)\n",
    "kaggle_encoded = kaggle_encoded.drop(\"ID\", axis= 1)\n",
    "kaggle_encoded = kaggle_encoded.drop(\"customer_profile\", axis= 1)\n",
    "\n",
    "test_encoded = pd.get_dummies(test_df, columns= cat_cols)\n",
    "test_encoded = test_encoded.drop(\"ID\", axis= 1)\n",
    "test_encoded = test_encoded.drop(\"customer_profile\", axis= 1)"
   ]
  },
  {
   "cell_type": "code",
   "execution_count": 236,
   "id": "b4fa8737",
   "metadata": {},
   "outputs": [],
   "source": [
    "# train_encoded[\"salary/age\"] = train_encoded[\"salary\"] / train_encoded[\"age\"]\n",
    "# train_encoded[\"balance*number_of_products\"] = train_encoded[\"balance\"] / train_encoded[\"number_of_products\"]\n",
    "train_encoded[\"credit_score/age\"] = train_encoded[\"credit_score\"] / train_encoded[\"age\"]\n",
    "train_encoded[\"age/number_of_product\"] = train_encoded[\"age\"] / train_encoded[\"number_of_products\"]\n",
    "\n",
    "\n",
    "# kaggle_encoded[\"salary/age\"] = kaggle_encoded[\"salary\"] / kaggle_encoded[\"age\"]\n",
    "# kaggle_encoded[\"balance*number_of_products\"] = kaggle_encoded[\"balance\"] / kaggle_encoded[\"number_of_products\"]\n",
    "kaggle_encoded[\"credit_score/age\"] = kaggle_encoded[\"credit_score\"] / kaggle_encoded[\"age\"]\n",
    "kaggle_encoded[\"age/number_of_product\"] = kaggle_encoded[\"age\"] / kaggle_encoded[\"number_of_products\"]\n",
    "\n",
    "\n",
    "# test_encoded[\"salary/age\"] = test_encoded[\"salary\"] / test_encoded[\"age\"]\n",
    "# kaggle_encoded[\"balance*number_of_products\"] = kaggle_encoded[\"balance\"] / kaggle_encoded[\"number_of_products\"]\n",
    "test_encoded[\"credit_score/age\"] = test_encoded[\"credit_score\"] / test_encoded[\"age\"]\n",
    "test_encoded[\"age/number_of_product\"] = test_encoded[\"age\"] / test_encoded[\"number_of_products\"]"
   ]
  },
  {
   "cell_type": "code",
   "execution_count": 237,
   "id": "3ee9bcde",
   "metadata": {},
   "outputs": [],
   "source": [
    "feature_cols = [col for col in train_encoded.columns if col != \"Y\"]"
   ]
  },
  {
   "cell_type": "code",
   "execution_count": 167,
   "id": "0b2a1321",
   "metadata": {},
   "outputs": [
    {
     "data": {
      "text/html": [
       "<style>#sk-container-id-12 {color: black;}#sk-container-id-12 pre{padding: 0;}#sk-container-id-12 div.sk-toggleable {background-color: white;}#sk-container-id-12 label.sk-toggleable__label {cursor: pointer;display: block;width: 100%;margin-bottom: 0;padding: 0.3em;box-sizing: border-box;text-align: center;}#sk-container-id-12 label.sk-toggleable__label-arrow:before {content: \"▸\";float: left;margin-right: 0.25em;color: #696969;}#sk-container-id-12 label.sk-toggleable__label-arrow:hover:before {color: black;}#sk-container-id-12 div.sk-estimator:hover label.sk-toggleable__label-arrow:before {color: black;}#sk-container-id-12 div.sk-toggleable__content {max-height: 0;max-width: 0;overflow: hidden;text-align: left;background-color: #f0f8ff;}#sk-container-id-12 div.sk-toggleable__content pre {margin: 0.2em;color: black;border-radius: 0.25em;background-color: #f0f8ff;}#sk-container-id-12 input.sk-toggleable__control:checked~div.sk-toggleable__content {max-height: 200px;max-width: 100%;overflow: auto;}#sk-container-id-12 input.sk-toggleable__control:checked~label.sk-toggleable__label-arrow:before {content: \"▾\";}#sk-container-id-12 div.sk-estimator input.sk-toggleable__control:checked~label.sk-toggleable__label {background-color: #d4ebff;}#sk-container-id-12 div.sk-label input.sk-toggleable__control:checked~label.sk-toggleable__label {background-color: #d4ebff;}#sk-container-id-12 input.sk-hidden--visually {border: 0;clip: rect(1px 1px 1px 1px);clip: rect(1px, 1px, 1px, 1px);height: 1px;margin: -1px;overflow: hidden;padding: 0;position: absolute;width: 1px;}#sk-container-id-12 div.sk-estimator {font-family: monospace;background-color: #f0f8ff;border: 1px dotted black;border-radius: 0.25em;box-sizing: border-box;margin-bottom: 0.5em;}#sk-container-id-12 div.sk-estimator:hover {background-color: #d4ebff;}#sk-container-id-12 div.sk-parallel-item::after {content: \"\";width: 100%;border-bottom: 1px solid gray;flex-grow: 1;}#sk-container-id-12 div.sk-label:hover label.sk-toggleable__label {background-color: #d4ebff;}#sk-container-id-12 div.sk-serial::before {content: \"\";position: absolute;border-left: 1px solid gray;box-sizing: border-box;top: 0;bottom: 0;left: 50%;z-index: 0;}#sk-container-id-12 div.sk-serial {display: flex;flex-direction: column;align-items: center;background-color: white;padding-right: 0.2em;padding-left: 0.2em;position: relative;}#sk-container-id-12 div.sk-item {position: relative;z-index: 1;}#sk-container-id-12 div.sk-parallel {display: flex;align-items: stretch;justify-content: center;background-color: white;position: relative;}#sk-container-id-12 div.sk-item::before, #sk-container-id-12 div.sk-parallel-item::before {content: \"\";position: absolute;border-left: 1px solid gray;box-sizing: border-box;top: 0;bottom: 0;left: 50%;z-index: -1;}#sk-container-id-12 div.sk-parallel-item {display: flex;flex-direction: column;z-index: 1;position: relative;background-color: white;}#sk-container-id-12 div.sk-parallel-item:first-child::after {align-self: flex-end;width: 50%;}#sk-container-id-12 div.sk-parallel-item:last-child::after {align-self: flex-start;width: 50%;}#sk-container-id-12 div.sk-parallel-item:only-child::after {width: 0;}#sk-container-id-12 div.sk-dashed-wrapped {border: 1px dashed gray;margin: 0 0.4em 0.5em 0.4em;box-sizing: border-box;padding-bottom: 0.4em;background-color: white;}#sk-container-id-12 div.sk-label label {font-family: monospace;font-weight: bold;display: inline-block;line-height: 1.2em;}#sk-container-id-12 div.sk-label-container {text-align: center;}#sk-container-id-12 div.sk-container {/* jupyter's `normalize.less` sets `[hidden] { display: none; }` but bootstrap.min.css set `[hidden] { display: none !important; }` so we also need the `!important` here to be able to override the default hidden behavior on the sphinx rendered scikit-learn.org. See: https://github.com/scikit-learn/scikit-learn/issues/21755 */display: inline-block !important;position: relative;}#sk-container-id-12 div.sk-text-repr-fallback {display: none;}</style><div id=\"sk-container-id-12\" class=\"sk-top-container\"><div class=\"sk-text-repr-fallback\"><pre>GridSearchCV(cv=10, estimator=RandomForestClassifier(n_jobs=10),\n",
       "             param_grid=[{&#x27;criterion&#x27;: [&#x27;gini&#x27;, &#x27;entropy&#x27;, &#x27;log_loss&#x27;],\n",
       "                          &#x27;max_depth&#x27;: [None, 10, 20, 30],\n",
       "                          &#x27;max_features&#x27;: [None, &#x27;sqrt&#x27;, &#x27;log2&#x27;],\n",
       "                          &#x27;n_estimators&#x27;: [100, 300, 500]}],\n",
       "             scoring=&#x27;accuracy&#x27;)</pre><b>In a Jupyter environment, please rerun this cell to show the HTML representation or trust the notebook. <br />On GitHub, the HTML representation is unable to render, please try loading this page with nbviewer.org.</b></div><div class=\"sk-container\" hidden><div class=\"sk-item sk-dashed-wrapped\"><div class=\"sk-label-container\"><div class=\"sk-label sk-toggleable\"><input class=\"sk-toggleable__control sk-hidden--visually\" id=\"sk-estimator-id-12\" type=\"checkbox\" ><label for=\"sk-estimator-id-12\" class=\"sk-toggleable__label sk-toggleable__label-arrow\">GridSearchCV</label><div class=\"sk-toggleable__content\"><pre>GridSearchCV(cv=10, estimator=RandomForestClassifier(n_jobs=10),\n",
       "             param_grid=[{&#x27;criterion&#x27;: [&#x27;gini&#x27;, &#x27;entropy&#x27;, &#x27;log_loss&#x27;],\n",
       "                          &#x27;max_depth&#x27;: [None, 10, 20, 30],\n",
       "                          &#x27;max_features&#x27;: [None, &#x27;sqrt&#x27;, &#x27;log2&#x27;],\n",
       "                          &#x27;n_estimators&#x27;: [100, 300, 500]}],\n",
       "             scoring=&#x27;accuracy&#x27;)</pre></div></div></div><div class=\"sk-parallel\"><div class=\"sk-parallel-item\"><div class=\"sk-item\"><div class=\"sk-label-container\"><div class=\"sk-label sk-toggleable\"><input class=\"sk-toggleable__control sk-hidden--visually\" id=\"sk-estimator-id-13\" type=\"checkbox\" ><label for=\"sk-estimator-id-13\" class=\"sk-toggleable__label sk-toggleable__label-arrow\">estimator: RandomForestClassifier</label><div class=\"sk-toggleable__content\"><pre>RandomForestClassifier(n_jobs=10)</pre></div></div></div><div class=\"sk-serial\"><div class=\"sk-item\"><div class=\"sk-estimator sk-toggleable\"><input class=\"sk-toggleable__control sk-hidden--visually\" id=\"sk-estimator-id-14\" type=\"checkbox\" ><label for=\"sk-estimator-id-14\" class=\"sk-toggleable__label sk-toggleable__label-arrow\">RandomForestClassifier</label><div class=\"sk-toggleable__content\"><pre>RandomForestClassifier(n_jobs=10)</pre></div></div></div></div></div></div></div></div></div></div>"
      ],
      "text/plain": [
       "GridSearchCV(cv=10, estimator=RandomForestClassifier(n_jobs=10),\n",
       "             param_grid=[{'criterion': ['gini', 'entropy', 'log_loss'],\n",
       "                          'max_depth': [None, 10, 20, 30],\n",
       "                          'max_features': [None, 'sqrt', 'log2'],\n",
       "                          'n_estimators': [100, 300, 500]}],\n",
       "             scoring='accuracy')"
      ]
     },
     "execution_count": 167,
     "metadata": {},
     "output_type": "execute_result"
    }
   ],
   "source": [
    "# ROUND 1\n",
    "param_grid = [\n",
    "    {\"criterion\": [\"gini\", \"entropy\", \"log_loss\"], # regularisation\n",
    "     \"n_estimators\": [100, 300, 500],\n",
    "     \"max_depth\": [None, 10, 20, 30],\n",
    "#      \"min_samples_split\": [2, 5, 10],\n",
    "#      \"min_samples_leaf\": [1, 2, 4],\n",
    "     \"max_features\": [None, \"sqrt\", \"log2\"]\n",
    "    }\n",
    "]\n",
    "\n",
    "optimal_params = GridSearchCV(\n",
    "    RandomForestClassifier(n_jobs= 10),\n",
    "    param_grid,\n",
    "    cv= 10,\n",
    "    scoring= \"accuracy\",\n",
    "    verbose=0\n",
    ")\n",
    "\n",
    "optimal_params.fit(train_encoded[feature_cols], train_encoded[\"Y\"])"
   ]
  },
  {
   "cell_type": "code",
   "execution_count": 168,
   "id": "f2ffd5f7",
   "metadata": {},
   "outputs": [
    {
     "data": {
      "text/plain": [
       "{'criterion': 'log_loss',\n",
       " 'max_depth': 10,\n",
       " 'max_features': 'sqrt',\n",
       " 'n_estimators': 100}"
      ]
     },
     "execution_count": 168,
     "metadata": {},
     "output_type": "execute_result"
    }
   ],
   "source": [
    "optimal_params.best_params_"
   ]
  },
  {
   "cell_type": "code",
   "execution_count": 169,
   "id": "25acfa1f",
   "metadata": {},
   "outputs": [],
   "source": [
    "# retain model\n",
    "rf_clf = RandomForestClassifier(random_state=1, n_jobs= 3,\n",
    "                               criterion= \"log_loss\",\n",
    "                               max_depth= 10,\n",
    "                               max_features= \"sqrt\",\n",
    "                               n_estimators= 100)"
   ]
  },
  {
   "cell_type": "code",
   "execution_count": 170,
   "id": "fa045fc0",
   "metadata": {
    "scrolled": true
   },
   "outputs": [
    {
     "data": {
      "text/html": [
       "<style>#sk-container-id-13 {color: black;}#sk-container-id-13 pre{padding: 0;}#sk-container-id-13 div.sk-toggleable {background-color: white;}#sk-container-id-13 label.sk-toggleable__label {cursor: pointer;display: block;width: 100%;margin-bottom: 0;padding: 0.3em;box-sizing: border-box;text-align: center;}#sk-container-id-13 label.sk-toggleable__label-arrow:before {content: \"▸\";float: left;margin-right: 0.25em;color: #696969;}#sk-container-id-13 label.sk-toggleable__label-arrow:hover:before {color: black;}#sk-container-id-13 div.sk-estimator:hover label.sk-toggleable__label-arrow:before {color: black;}#sk-container-id-13 div.sk-toggleable__content {max-height: 0;max-width: 0;overflow: hidden;text-align: left;background-color: #f0f8ff;}#sk-container-id-13 div.sk-toggleable__content pre {margin: 0.2em;color: black;border-radius: 0.25em;background-color: #f0f8ff;}#sk-container-id-13 input.sk-toggleable__control:checked~div.sk-toggleable__content {max-height: 200px;max-width: 100%;overflow: auto;}#sk-container-id-13 input.sk-toggleable__control:checked~label.sk-toggleable__label-arrow:before {content: \"▾\";}#sk-container-id-13 div.sk-estimator input.sk-toggleable__control:checked~label.sk-toggleable__label {background-color: #d4ebff;}#sk-container-id-13 div.sk-label input.sk-toggleable__control:checked~label.sk-toggleable__label {background-color: #d4ebff;}#sk-container-id-13 input.sk-hidden--visually {border: 0;clip: rect(1px 1px 1px 1px);clip: rect(1px, 1px, 1px, 1px);height: 1px;margin: -1px;overflow: hidden;padding: 0;position: absolute;width: 1px;}#sk-container-id-13 div.sk-estimator {font-family: monospace;background-color: #f0f8ff;border: 1px dotted black;border-radius: 0.25em;box-sizing: border-box;margin-bottom: 0.5em;}#sk-container-id-13 div.sk-estimator:hover {background-color: #d4ebff;}#sk-container-id-13 div.sk-parallel-item::after {content: \"\";width: 100%;border-bottom: 1px solid gray;flex-grow: 1;}#sk-container-id-13 div.sk-label:hover label.sk-toggleable__label {background-color: #d4ebff;}#sk-container-id-13 div.sk-serial::before {content: \"\";position: absolute;border-left: 1px solid gray;box-sizing: border-box;top: 0;bottom: 0;left: 50%;z-index: 0;}#sk-container-id-13 div.sk-serial {display: flex;flex-direction: column;align-items: center;background-color: white;padding-right: 0.2em;padding-left: 0.2em;position: relative;}#sk-container-id-13 div.sk-item {position: relative;z-index: 1;}#sk-container-id-13 div.sk-parallel {display: flex;align-items: stretch;justify-content: center;background-color: white;position: relative;}#sk-container-id-13 div.sk-item::before, #sk-container-id-13 div.sk-parallel-item::before {content: \"\";position: absolute;border-left: 1px solid gray;box-sizing: border-box;top: 0;bottom: 0;left: 50%;z-index: -1;}#sk-container-id-13 div.sk-parallel-item {display: flex;flex-direction: column;z-index: 1;position: relative;background-color: white;}#sk-container-id-13 div.sk-parallel-item:first-child::after {align-self: flex-end;width: 50%;}#sk-container-id-13 div.sk-parallel-item:last-child::after {align-self: flex-start;width: 50%;}#sk-container-id-13 div.sk-parallel-item:only-child::after {width: 0;}#sk-container-id-13 div.sk-dashed-wrapped {border: 1px dashed gray;margin: 0 0.4em 0.5em 0.4em;box-sizing: border-box;padding-bottom: 0.4em;background-color: white;}#sk-container-id-13 div.sk-label label {font-family: monospace;font-weight: bold;display: inline-block;line-height: 1.2em;}#sk-container-id-13 div.sk-label-container {text-align: center;}#sk-container-id-13 div.sk-container {/* jupyter's `normalize.less` sets `[hidden] { display: none; }` but bootstrap.min.css set `[hidden] { display: none !important; }` so we also need the `!important` here to be able to override the default hidden behavior on the sphinx rendered scikit-learn.org. See: https://github.com/scikit-learn/scikit-learn/issues/21755 */display: inline-block !important;position: relative;}#sk-container-id-13 div.sk-text-repr-fallback {display: none;}</style><div id=\"sk-container-id-13\" class=\"sk-top-container\"><div class=\"sk-text-repr-fallback\"><pre>RandomForestClassifier(criterion=&#x27;log_loss&#x27;, max_depth=10, n_jobs=3,\n",
       "                       random_state=1)</pre><b>In a Jupyter environment, please rerun this cell to show the HTML representation or trust the notebook. <br />On GitHub, the HTML representation is unable to render, please try loading this page with nbviewer.org.</b></div><div class=\"sk-container\" hidden><div class=\"sk-item\"><div class=\"sk-estimator sk-toggleable\"><input class=\"sk-toggleable__control sk-hidden--visually\" id=\"sk-estimator-id-15\" type=\"checkbox\" checked><label for=\"sk-estimator-id-15\" class=\"sk-toggleable__label sk-toggleable__label-arrow\">RandomForestClassifier</label><div class=\"sk-toggleable__content\"><pre>RandomForestClassifier(criterion=&#x27;log_loss&#x27;, max_depth=10, n_jobs=3,\n",
       "                       random_state=1)</pre></div></div></div></div></div>"
      ],
      "text/plain": [
       "RandomForestClassifier(criterion='log_loss', max_depth=10, n_jobs=3,\n",
       "                       random_state=1)"
      ]
     },
     "execution_count": 170,
     "metadata": {},
     "output_type": "execute_result"
    }
   ],
   "source": [
    "rf_clf.fit(X= train_encoded[feature_cols], y= train_encoded[\"Y\"])"
   ]
  },
  {
   "cell_type": "code",
   "execution_count": 171,
   "id": "b415fd73",
   "metadata": {},
   "outputs": [],
   "source": [
    "rf_pred = rf_clf.predict(kaggle_encoded[feature_cols])"
   ]
  },
  {
   "cell_type": "code",
   "execution_count": 172,
   "id": "6fb28a19",
   "metadata": {},
   "outputs": [],
   "source": [
    "df_pred = pd.concat([kaggle_df['ID'], pd.DataFrame(rf_pred,columns=['pred'])], axis = 1)\n",
    "df_pred.to_csv('pred_values.csv',index=False)"
   ]
  },
  {
   "cell_type": "markdown",
   "id": "06a1a162",
   "metadata": {},
   "source": [
    "Result of besed model, kaggle 0.58024"
   ]
  },
  {
   "cell_type": "markdown",
   "id": "7f8a2196",
   "metadata": {},
   "source": [
    "## Tuning Parameter one by one"
   ]
  },
  {
   "cell_type": "code",
   "execution_count": 252,
   "id": "92940c2d",
   "metadata": {},
   "outputs": [],
   "source": [
    "train_df[\"age\"] = train_df[\"customer_profile\"].apply(extract_age)\n",
    "train_df[\"gender\"] = train_df[\"customer_profile\"].apply(extract_gender)\n",
    "train_df[\"countary\"] = train_df[\"customer_profile\"].apply(extract_countary)\n",
    "\n",
    "kaggle_df[\"age\"] = kaggle_df[\"customer_profile\"].apply(extract_age)\n",
    "kaggle_df[\"gender\"] = kaggle_df[\"customer_profile\"].apply(extract_gender)\n",
    "kaggle_df[\"countary\"] = kaggle_df[\"customer_profile\"].apply(extract_countary)\n",
    "\n",
    "test_df[\"age\"] = test_df[\"customer_profile\"].apply(extract_age)\n",
    "test_df[\"gender\"] = test_df[\"customer_profile\"].apply(extract_gender)\n",
    "test_df[\"countary\"] = test_df[\"customer_profile\"].apply(extract_countary)"
   ]
  },
  {
   "cell_type": "code",
   "execution_count": 253,
   "id": "0612362e",
   "metadata": {},
   "outputs": [],
   "source": [
    "cat_cols = [\"gender\", \"countary\"]"
   ]
  },
  {
   "cell_type": "code",
   "execution_count": 254,
   "id": "9ab0c15e",
   "metadata": {},
   "outputs": [],
   "source": [
    "train_encoded = pd.get_dummies(train_df, columns= cat_cols)\n",
    "train_encoded = train_encoded.drop(\"ID\", axis= 1)\n",
    "train_encoded = train_encoded.drop(\"customer_profile\", axis= 1)\n",
    "\n",
    "kaggle_encoded = pd.get_dummies(kaggle_df, columns= cat_cols)\n",
    "kaggle_encoded = kaggle_encoded.drop(\"ID\", axis= 1)\n",
    "kaggle_encoded = kaggle_encoded.drop(\"customer_profile\", axis= 1)\n",
    "\n",
    "test_encoded = pd.get_dummies(test_df, columns= cat_cols)\n",
    "test_encoded = test_encoded.drop(\"ID\", axis= 1)\n",
    "test_encoded = test_encoded.drop(\"customer_profile\", axis= 1)"
   ]
  },
  {
   "cell_type": "code",
   "execution_count": 255,
   "id": "f9eb1011",
   "metadata": {},
   "outputs": [],
   "source": [
    "# train_encoded[\"salary/age\"] = train_encoded[\"salary\"] / train_encoded[\"age\"]\n",
    "# train_encoded[\"balance*number_of_products\"] = train_encoded[\"balance\"] / train_encoded[\"number_of_products\"]\n",
    "train_encoded[\"credit_score/age\"] = train_encoded[\"credit_score\"] / train_encoded[\"age\"]\n",
    "train_encoded[\"age/number_of_product\"] = train_encoded[\"age\"] / train_encoded[\"number_of_products\"]\n",
    "\n",
    "\n",
    "# kaggle_encoded[\"salary/age\"] = kaggle_encoded[\"salary\"] / kaggle_encoded[\"age\"]\n",
    "# kaggle_encoded[\"balance*number_of_products\"] = kaggle_encoded[\"balance\"] / kaggle_encoded[\"number_of_products\"]\n",
    "kaggle_encoded[\"credit_score/age\"] = kaggle_encoded[\"credit_score\"] / kaggle_encoded[\"age\"]\n",
    "kaggle_encoded[\"age/number_of_product\"] = kaggle_encoded[\"age\"] / kaggle_encoded[\"number_of_products\"]\n",
    "\n",
    "\n",
    "# test_encoded[\"salary/age\"] = test_encoded[\"salary\"] / test_encoded[\"age\"]\n",
    "# kaggle_encoded[\"balance*number_of_products\"] = kaggle_encoded[\"balance\"] / kaggle_encoded[\"number_of_products\"]\n",
    "test_encoded[\"credit_score/age\"] = test_encoded[\"credit_score\"] / test_encoded[\"age\"]\n",
    "test_encoded[\"age/number_of_product\"] = test_encoded[\"age\"] / test_encoded[\"number_of_products\"]"
   ]
  },
  {
   "cell_type": "code",
   "execution_count": 256,
   "id": "3c21863c",
   "metadata": {},
   "outputs": [],
   "source": [
    "feature_cols = [col for col in train_encoded.columns if col != \"Y\"]"
   ]
  },
  {
   "cell_type": "markdown",
   "id": "86aabff1",
   "metadata": {},
   "source": [
    "Tuning criterion"
   ]
  },
  {
   "cell_type": "code",
   "execution_count": 243,
   "id": "07916e1e",
   "metadata": {},
   "outputs": [
    {
     "ename": "ValueError",
     "evalue": "\nAll the 30 fits failed.\nIt is very likely that your model is misconfigured.\nYou can try to debug the error by setting error_score='raise'.\n\nBelow are more details about the failures:\n--------------------------------------------------------------------------------\n30 fits failed with the following error:\nTraceback (most recent call last):\n  File \"C:\\Users\\non_n\\conda\\lib\\site-packages\\sklearn\\model_selection\\_validation.py\", line 732, in _fit_and_score\n    estimator.fit(X_train, y_train, **fit_params)\n  File \"C:\\Users\\non_n\\conda\\lib\\site-packages\\sklearn\\base.py\", line 1151, in wrapper\n    return fit_method(estimator, *args, **kwargs)\n  File \"C:\\Users\\non_n\\conda\\lib\\site-packages\\sklearn\\ensemble\\_forest.py\", line 348, in fit\n    X, y = self._validate_data(\n  File \"C:\\Users\\non_n\\conda\\lib\\site-packages\\sklearn\\base.py\", line 621, in _validate_data\n    X, y = check_X_y(X, y, **check_params)\n  File \"C:\\Users\\non_n\\conda\\lib\\site-packages\\sklearn\\utils\\validation.py\", line 1147, in check_X_y\n    X = check_array(\n  File \"C:\\Users\\non_n\\conda\\lib\\site-packages\\sklearn\\utils\\validation.py\", line 917, in check_array\n    array = _asarray_with_order(array, order=order, dtype=dtype, xp=xp)\n  File \"C:\\Users\\non_n\\conda\\lib\\site-packages\\sklearn\\utils\\_array_api.py\", line 380, in _asarray_with_order\n    array = numpy.asarray(array, order=order, dtype=dtype)\n  File \"C:\\Users\\non_n\\conda\\lib\\site-packages\\pandas\\core\\generic.py\", line 2064, in __array__\n    return np.asarray(self._values, dtype=dtype)\nValueError: could not convert string to float: 'spain'\n",
     "output_type": "error",
     "traceback": [
      "\u001b[1;31m---------------------------------------------------------------------------\u001b[0m",
      "\u001b[1;31mValueError\u001b[0m                                Traceback (most recent call last)",
      "\u001b[1;32m~\\AppData\\Local\\Temp\\ipykernel_8260\\3428802276.py\u001b[0m in \u001b[0;36m<module>\u001b[1;34m\u001b[0m\n\u001b[0;32m     13\u001b[0m )\n\u001b[0;32m     14\u001b[0m \u001b[1;33m\u001b[0m\u001b[0m\n\u001b[1;32m---> 15\u001b[1;33m \u001b[0moptimal_params\u001b[0m\u001b[1;33m.\u001b[0m\u001b[0mfit\u001b[0m\u001b[1;33m(\u001b[0m\u001b[0mtrain_encoded\u001b[0m\u001b[1;33m[\u001b[0m\u001b[0mfeature_cols\u001b[0m\u001b[1;33m]\u001b[0m\u001b[1;33m,\u001b[0m \u001b[0mtrain_encoded\u001b[0m\u001b[1;33m[\u001b[0m\u001b[1;34m\"Y\"\u001b[0m\u001b[1;33m]\u001b[0m\u001b[1;33m)\u001b[0m\u001b[1;33m\u001b[0m\u001b[1;33m\u001b[0m\u001b[0m\n\u001b[0m",
      "\u001b[1;32m~\\conda\\lib\\site-packages\\sklearn\\base.py\u001b[0m in \u001b[0;36mwrapper\u001b[1;34m(estimator, *args, **kwargs)\u001b[0m\n\u001b[0;32m   1149\u001b[0m                 )\n\u001b[0;32m   1150\u001b[0m             ):\n\u001b[1;32m-> 1151\u001b[1;33m                 \u001b[1;32mreturn\u001b[0m \u001b[0mfit_method\u001b[0m\u001b[1;33m(\u001b[0m\u001b[0mestimator\u001b[0m\u001b[1;33m,\u001b[0m \u001b[1;33m*\u001b[0m\u001b[0margs\u001b[0m\u001b[1;33m,\u001b[0m \u001b[1;33m**\u001b[0m\u001b[0mkwargs\u001b[0m\u001b[1;33m)\u001b[0m\u001b[1;33m\u001b[0m\u001b[1;33m\u001b[0m\u001b[0m\n\u001b[0m\u001b[0;32m   1152\u001b[0m \u001b[1;33m\u001b[0m\u001b[0m\n\u001b[0;32m   1153\u001b[0m         \u001b[1;32mreturn\u001b[0m \u001b[0mwrapper\u001b[0m\u001b[1;33m\u001b[0m\u001b[1;33m\u001b[0m\u001b[0m\n",
      "\u001b[1;32m~\\conda\\lib\\site-packages\\sklearn\\model_selection\\_search.py\u001b[0m in \u001b[0;36mfit\u001b[1;34m(self, X, y, groups, **fit_params)\u001b[0m\n\u001b[0;32m    896\u001b[0m                 \u001b[1;32mreturn\u001b[0m \u001b[0mresults\u001b[0m\u001b[1;33m\u001b[0m\u001b[1;33m\u001b[0m\u001b[0m\n\u001b[0;32m    897\u001b[0m \u001b[1;33m\u001b[0m\u001b[0m\n\u001b[1;32m--> 898\u001b[1;33m             \u001b[0mself\u001b[0m\u001b[1;33m.\u001b[0m\u001b[0m_run_search\u001b[0m\u001b[1;33m(\u001b[0m\u001b[0mevaluate_candidates\u001b[0m\u001b[1;33m)\u001b[0m\u001b[1;33m\u001b[0m\u001b[1;33m\u001b[0m\u001b[0m\n\u001b[0m\u001b[0;32m    899\u001b[0m \u001b[1;33m\u001b[0m\u001b[0m\n\u001b[0;32m    900\u001b[0m             \u001b[1;31m# multimetric is determined here because in the case of a callable\u001b[0m\u001b[1;33m\u001b[0m\u001b[1;33m\u001b[0m\u001b[0m\n",
      "\u001b[1;32m~\\conda\\lib\\site-packages\\sklearn\\model_selection\\_search.py\u001b[0m in \u001b[0;36m_run_search\u001b[1;34m(self, evaluate_candidates)\u001b[0m\n\u001b[0;32m   1417\u001b[0m     \u001b[1;32mdef\u001b[0m \u001b[0m_run_search\u001b[0m\u001b[1;33m(\u001b[0m\u001b[0mself\u001b[0m\u001b[1;33m,\u001b[0m \u001b[0mevaluate_candidates\u001b[0m\u001b[1;33m)\u001b[0m\u001b[1;33m:\u001b[0m\u001b[1;33m\u001b[0m\u001b[1;33m\u001b[0m\u001b[0m\n\u001b[0;32m   1418\u001b[0m         \u001b[1;34m\"\"\"Search all candidates in param_grid\"\"\"\u001b[0m\u001b[1;33m\u001b[0m\u001b[1;33m\u001b[0m\u001b[0m\n\u001b[1;32m-> 1419\u001b[1;33m         \u001b[0mevaluate_candidates\u001b[0m\u001b[1;33m(\u001b[0m\u001b[0mParameterGrid\u001b[0m\u001b[1;33m(\u001b[0m\u001b[0mself\u001b[0m\u001b[1;33m.\u001b[0m\u001b[0mparam_grid\u001b[0m\u001b[1;33m)\u001b[0m\u001b[1;33m)\u001b[0m\u001b[1;33m\u001b[0m\u001b[1;33m\u001b[0m\u001b[0m\n\u001b[0m\u001b[0;32m   1420\u001b[0m \u001b[1;33m\u001b[0m\u001b[0m\n\u001b[0;32m   1421\u001b[0m \u001b[1;33m\u001b[0m\u001b[0m\n",
      "\u001b[1;32m~\\conda\\lib\\site-packages\\sklearn\\model_selection\\_search.py\u001b[0m in \u001b[0;36mevaluate_candidates\u001b[1;34m(candidate_params, cv, more_results)\u001b[0m\n\u001b[0;32m    873\u001b[0m                     )\n\u001b[0;32m    874\u001b[0m \u001b[1;33m\u001b[0m\u001b[0m\n\u001b[1;32m--> 875\u001b[1;33m                 \u001b[0m_warn_or_raise_about_fit_failures\u001b[0m\u001b[1;33m(\u001b[0m\u001b[0mout\u001b[0m\u001b[1;33m,\u001b[0m \u001b[0mself\u001b[0m\u001b[1;33m.\u001b[0m\u001b[0merror_score\u001b[0m\u001b[1;33m)\u001b[0m\u001b[1;33m\u001b[0m\u001b[1;33m\u001b[0m\u001b[0m\n\u001b[0m\u001b[0;32m    876\u001b[0m \u001b[1;33m\u001b[0m\u001b[0m\n\u001b[0;32m    877\u001b[0m                 \u001b[1;31m# For callable self.scoring, the return type is only know after\u001b[0m\u001b[1;33m\u001b[0m\u001b[1;33m\u001b[0m\u001b[0m\n",
      "\u001b[1;32m~\\conda\\lib\\site-packages\\sklearn\\model_selection\\_validation.py\u001b[0m in \u001b[0;36m_warn_or_raise_about_fit_failures\u001b[1;34m(results, error_score)\u001b[0m\n\u001b[0;32m    412\u001b[0m                 \u001b[1;34mf\"Below are more details about the failures:\\n{fit_errors_summary}\"\u001b[0m\u001b[1;33m\u001b[0m\u001b[1;33m\u001b[0m\u001b[0m\n\u001b[0;32m    413\u001b[0m             )\n\u001b[1;32m--> 414\u001b[1;33m             \u001b[1;32mraise\u001b[0m \u001b[0mValueError\u001b[0m\u001b[1;33m(\u001b[0m\u001b[0mall_fits_failed_message\u001b[0m\u001b[1;33m)\u001b[0m\u001b[1;33m\u001b[0m\u001b[1;33m\u001b[0m\u001b[0m\n\u001b[0m\u001b[0;32m    415\u001b[0m \u001b[1;33m\u001b[0m\u001b[0m\n\u001b[0;32m    416\u001b[0m         \u001b[1;32melse\u001b[0m\u001b[1;33m:\u001b[0m\u001b[1;33m\u001b[0m\u001b[1;33m\u001b[0m\u001b[0m\n",
      "\u001b[1;31mValueError\u001b[0m: \nAll the 30 fits failed.\nIt is very likely that your model is misconfigured.\nYou can try to debug the error by setting error_score='raise'.\n\nBelow are more details about the failures:\n--------------------------------------------------------------------------------\n30 fits failed with the following error:\nTraceback (most recent call last):\n  File \"C:\\Users\\non_n\\conda\\lib\\site-packages\\sklearn\\model_selection\\_validation.py\", line 732, in _fit_and_score\n    estimator.fit(X_train, y_train, **fit_params)\n  File \"C:\\Users\\non_n\\conda\\lib\\site-packages\\sklearn\\base.py\", line 1151, in wrapper\n    return fit_method(estimator, *args, **kwargs)\n  File \"C:\\Users\\non_n\\conda\\lib\\site-packages\\sklearn\\ensemble\\_forest.py\", line 348, in fit\n    X, y = self._validate_data(\n  File \"C:\\Users\\non_n\\conda\\lib\\site-packages\\sklearn\\base.py\", line 621, in _validate_data\n    X, y = check_X_y(X, y, **check_params)\n  File \"C:\\Users\\non_n\\conda\\lib\\site-packages\\sklearn\\utils\\validation.py\", line 1147, in check_X_y\n    X = check_array(\n  File \"C:\\Users\\non_n\\conda\\lib\\site-packages\\sklearn\\utils\\validation.py\", line 917, in check_array\n    array = _asarray_with_order(array, order=order, dtype=dtype, xp=xp)\n  File \"C:\\Users\\non_n\\conda\\lib\\site-packages\\sklearn\\utils\\_array_api.py\", line 380, in _asarray_with_order\n    array = numpy.asarray(array, order=order, dtype=dtype)\n  File \"C:\\Users\\non_n\\conda\\lib\\site-packages\\pandas\\core\\generic.py\", line 2064, in __array__\n    return np.asarray(self._values, dtype=dtype)\nValueError: could not convert string to float: 'spain'\n"
     ]
    }
   ],
   "source": [
    "# ROUND 1\n",
    "param_grid = [\n",
    "    {\"criterion\": [\"gini\", \"entropy\", \"log_loss\"], # regularisation\n",
    "    }\n",
    "]\n",
    "\n",
    "optimal_params = GridSearchCV(\n",
    "    RandomForestClassifier(n_jobs= 10),\n",
    "    param_grid,\n",
    "    cv= 10,\n",
    "    scoring= \"f1\",\n",
    "    verbose=0\n",
    ")\n",
    "\n",
    "optimal_params.fit(train_encoded[feature_cols], train_encoded[\"Y\"])"
   ]
  },
  {
   "cell_type": "code",
   "execution_count": 73,
   "id": "435c1d29",
   "metadata": {},
   "outputs": [
    {
     "data": {
      "text/plain": [
       "{'criterion': 'gini'}"
      ]
     },
     "execution_count": 73,
     "metadata": {},
     "output_type": "execute_result"
    }
   ],
   "source": [
    "optimal_params.best_params_ # result 0.5913 resudce from 0.60518"
   ]
  },
  {
   "cell_type": "code",
   "execution_count": 80,
   "id": "dc421199",
   "metadata": {},
   "outputs": [
    {
     "data": {
      "text/plain": [
       "array(['gini', 'entropy', 'log_loss'], dtype=object)"
      ]
     },
     "execution_count": 80,
     "metadata": {},
     "output_type": "execute_result"
    }
   ],
   "source": [
    "optimal_params.cv_results_[\"param_criterion\"].data"
   ]
  },
  {
   "cell_type": "code",
   "execution_count": 76,
   "id": "e37e0ac3",
   "metadata": {},
   "outputs": [
    {
     "data": {
      "text/plain": [
       "array([0.57614316, 0.56101168, 0.56725943])"
      ]
     },
     "execution_count": 76,
     "metadata": {},
     "output_type": "execute_result"
    }
   ],
   "source": [
    "optimal_params.cv_results_[\"mean_test_score\"]"
   ]
  },
  {
   "cell_type": "code",
   "execution_count": 114,
   "id": "7d83db85",
   "metadata": {},
   "outputs": [
    {
     "data": {
      "text/plain": [
       "Text(0, 0.5, 'Mean Accuracy Score')"
      ]
     },
     "execution_count": 114,
     "metadata": {},
     "output_type": "execute_result"
    },
    {
     "data": {
      "image/png": "[encoded data removed]",
      "text/plain": [
       "<Figure size 640x480 with 1 Axes>"
      ]
     },
     "metadata": {},
     "output_type": "display_data"
    }
   ],
   "source": [
    "sns.lineplot(x= optimal_params.cv_results_[\"param_criterion\"].data, y= optimal_params.cv_results_[\"mean_test_score\"])\n",
    "plt.xlabel(\"Criterion\")\n",
    "plt.ylabel(\"Mean Accuracy Score\")"
   ]
  },
  {
   "cell_type": "code",
   "execution_count": 30,
   "id": "bdc3cafe",
   "metadata": {},
   "outputs": [
    {
     "data": {
      "text/html": [
       "<style>#sk-container-id-7 {color: black;}#sk-container-id-7 pre{padding: 0;}#sk-container-id-7 div.sk-toggleable {background-color: white;}#sk-container-id-7 label.sk-toggleable__label {cursor: pointer;display: block;width: 100%;margin-bottom: 0;padding: 0.3em;box-sizing: border-box;text-align: center;}#sk-container-id-7 label.sk-toggleable__label-arrow:before {content: \"▸\";float: left;margin-right: 0.25em;color: #696969;}#sk-container-id-7 label.sk-toggleable__label-arrow:hover:before {color: black;}#sk-container-id-7 div.sk-estimator:hover label.sk-toggleable__label-arrow:before {color: black;}#sk-container-id-7 div.sk-toggleable__content {max-height: 0;max-width: 0;overflow: hidden;text-align: left;background-color: #f0f8ff;}#sk-container-id-7 div.sk-toggleable__content pre {margin: 0.2em;color: black;border-radius: 0.25em;background-color: #f0f8ff;}#sk-container-id-7 input.sk-toggleable__control:checked~div.sk-toggleable__content {max-height: 200px;max-width: 100%;overflow: auto;}#sk-container-id-7 input.sk-toggleable__control:checked~label.sk-toggleable__label-arrow:before {content: \"▾\";}#sk-container-id-7 div.sk-estimator input.sk-toggleable__control:checked~label.sk-toggleable__label {background-color: #d4ebff;}#sk-container-id-7 div.sk-label input.sk-toggleable__control:checked~label.sk-toggleable__label {background-color: #d4ebff;}#sk-container-id-7 input.sk-hidden--visually {border: 0;clip: rect(1px 1px 1px 1px);clip: rect(1px, 1px, 1px, 1px);height: 1px;margin: -1px;overflow: hidden;padding: 0;position: absolute;width: 1px;}#sk-container-id-7 div.sk-estimator {font-family: monospace;background-color: #f0f8ff;border: 1px dotted black;border-radius: 0.25em;box-sizing: border-box;margin-bottom: 0.5em;}#sk-container-id-7 div.sk-estimator:hover {background-color: #d4ebff;}#sk-container-id-7 div.sk-parallel-item::after {content: \"\";width: 100%;border-bottom: 1px solid gray;flex-grow: 1;}#sk-container-id-7 div.sk-label:hover label.sk-toggleable__label {background-color: #d4ebff;}#sk-container-id-7 div.sk-serial::before {content: \"\";position: absolute;border-left: 1px solid gray;box-sizing: border-box;top: 0;bottom: 0;left: 50%;z-index: 0;}#sk-container-id-7 div.sk-serial {display: flex;flex-direction: column;align-items: center;background-color: white;padding-right: 0.2em;padding-left: 0.2em;position: relative;}#sk-container-id-7 div.sk-item {position: relative;z-index: 1;}#sk-container-id-7 div.sk-parallel {display: flex;align-items: stretch;justify-content: center;background-color: white;position: relative;}#sk-container-id-7 div.sk-item::before, #sk-container-id-7 div.sk-parallel-item::before {content: \"\";position: absolute;border-left: 1px solid gray;box-sizing: border-box;top: 0;bottom: 0;left: 50%;z-index: -1;}#sk-container-id-7 div.sk-parallel-item {display: flex;flex-direction: column;z-index: 1;position: relative;background-color: white;}#sk-container-id-7 div.sk-parallel-item:first-child::after {align-self: flex-end;width: 50%;}#sk-container-id-7 div.sk-parallel-item:last-child::after {align-self: flex-start;width: 50%;}#sk-container-id-7 div.sk-parallel-item:only-child::after {width: 0;}#sk-container-id-7 div.sk-dashed-wrapped {border: 1px dashed gray;margin: 0 0.4em 0.5em 0.4em;box-sizing: border-box;padding-bottom: 0.4em;background-color: white;}#sk-container-id-7 div.sk-label label {font-family: monospace;font-weight: bold;display: inline-block;line-height: 1.2em;}#sk-container-id-7 div.sk-label-container {text-align: center;}#sk-container-id-7 div.sk-container {/* jupyter's `normalize.less` sets `[hidden] { display: none; }` but bootstrap.min.css set `[hidden] { display: none !important; }` so we also need the `!important` here to be able to override the default hidden behavior on the sphinx rendered scikit-learn.org. See: https://github.com/scikit-learn/scikit-learn/issues/21755 */display: inline-block !important;position: relative;}#sk-container-id-7 div.sk-text-repr-fallback {display: none;}</style><div id=\"sk-container-id-7\" class=\"sk-top-container\"><div class=\"sk-text-repr-fallback\"><pre>RandomForestClassifier(n_jobs=3, random_state=1)</pre><b>In a Jupyter environment, please rerun this cell to show the HTML representation or trust the notebook. <br />On GitHub, the HTML representation is unable to render, please try loading this page with nbviewer.org.</b></div><div class=\"sk-container\" hidden><div class=\"sk-item\"><div class=\"sk-estimator sk-toggleable\"><input class=\"sk-toggleable__control sk-hidden--visually\" id=\"sk-estimator-id-11\" type=\"checkbox\" checked><label for=\"sk-estimator-id-11\" class=\"sk-toggleable__label sk-toggleable__label-arrow\">RandomForestClassifier</label><div class=\"sk-toggleable__content\"><pre>RandomForestClassifier(n_jobs=3, random_state=1)</pre></div></div></div></div></div>"
      ],
      "text/plain": [
       "RandomForestClassifier(n_jobs=3, random_state=1)"
      ]
     },
     "execution_count": 30,
     "metadata": {},
     "output_type": "execute_result"
    }
   ],
   "source": [
    "# retain model\n",
    "rf_clf = RandomForestClassifier(random_state=1, n_jobs= 3, criterion= \"gini\")\n",
    "rf_clf.fit(X= train_encoded[feature_cols], y= train_encoded[\"Y\"])"
   ]
  },
  {
   "cell_type": "code",
   "execution_count": 31,
   "id": "dc5cfdbe",
   "metadata": {},
   "outputs": [],
   "source": [
    "rf_pred = rf_clf.predict(kaggle_encoded[feature_cols])\n",
    "\n",
    "df_pred = pd.concat([kaggle_df['ID'], pd.DataFrame(rf_pred,columns=['pred'])], axis = 1)\n",
    "df_pred.to_csv('pred_values.csv',index=False)"
   ]
  },
  {
   "cell_type": "markdown",
   "id": "9a23d4ab",
   "metadata": {},
   "source": [
    "Tuning number of trees"
   ]
  },
  {
   "cell_type": "code",
   "execution_count": 44,
   "id": "f9503cb5",
   "metadata": {},
   "outputs": [
    {
     "data": {
      "text/html": [
       "<style>#sk-container-id-13 {color: black;}#sk-container-id-13 pre{padding: 0;}#sk-container-id-13 div.sk-toggleable {background-color: white;}#sk-container-id-13 label.sk-toggleable__label {cursor: pointer;display: block;width: 100%;margin-bottom: 0;padding: 0.3em;box-sizing: border-box;text-align: center;}#sk-container-id-13 label.sk-toggleable__label-arrow:before {content: \"▸\";float: left;margin-right: 0.25em;color: #696969;}#sk-container-id-13 label.sk-toggleable__label-arrow:hover:before {color: black;}#sk-container-id-13 div.sk-estimator:hover label.sk-toggleable__label-arrow:before {color: black;}#sk-container-id-13 div.sk-toggleable__content {max-height: 0;max-width: 0;overflow: hidden;text-align: left;background-color: #f0f8ff;}#sk-container-id-13 div.sk-toggleable__content pre {margin: 0.2em;color: black;border-radius: 0.25em;background-color: #f0f8ff;}#sk-container-id-13 input.sk-toggleable__control:checked~div.sk-toggleable__content {max-height: 200px;max-width: 100%;overflow: auto;}#sk-container-id-13 input.sk-toggleable__control:checked~label.sk-toggleable__label-arrow:before {content: \"▾\";}#sk-container-id-13 div.sk-estimator input.sk-toggleable__control:checked~label.sk-toggleable__label {background-color: #d4ebff;}#sk-container-id-13 div.sk-label input.sk-toggleable__control:checked~label.sk-toggleable__label {background-color: #d4ebff;}#sk-container-id-13 input.sk-hidden--visually {border: 0;clip: rect(1px 1px 1px 1px);clip: rect(1px, 1px, 1px, 1px);height: 1px;margin: -1px;overflow: hidden;padding: 0;position: absolute;width: 1px;}#sk-container-id-13 div.sk-estimator {font-family: monospace;background-color: #f0f8ff;border: 1px dotted black;border-radius: 0.25em;box-sizing: border-box;margin-bottom: 0.5em;}#sk-container-id-13 div.sk-estimator:hover {background-color: #d4ebff;}#sk-container-id-13 div.sk-parallel-item::after {content: \"\";width: 100%;border-bottom: 1px solid gray;flex-grow: 1;}#sk-container-id-13 div.sk-label:hover label.sk-toggleable__label {background-color: #d4ebff;}#sk-container-id-13 div.sk-serial::before {content: \"\";position: absolute;border-left: 1px solid gray;box-sizing: border-box;top: 0;bottom: 0;left: 50%;z-index: 0;}#sk-container-id-13 div.sk-serial {display: flex;flex-direction: column;align-items: center;background-color: white;padding-right: 0.2em;padding-left: 0.2em;position: relative;}#sk-container-id-13 div.sk-item {position: relative;z-index: 1;}#sk-container-id-13 div.sk-parallel {display: flex;align-items: stretch;justify-content: center;background-color: white;position: relative;}#sk-container-id-13 div.sk-item::before, #sk-container-id-13 div.sk-parallel-item::before {content: \"\";position: absolute;border-left: 1px solid gray;box-sizing: border-box;top: 0;bottom: 0;left: 50%;z-index: -1;}#sk-container-id-13 div.sk-parallel-item {display: flex;flex-direction: column;z-index: 1;position: relative;background-color: white;}#sk-container-id-13 div.sk-parallel-item:first-child::after {align-self: flex-end;width: 50%;}#sk-container-id-13 div.sk-parallel-item:last-child::after {align-self: flex-start;width: 50%;}#sk-container-id-13 div.sk-parallel-item:only-child::after {width: 0;}#sk-container-id-13 div.sk-dashed-wrapped {border: 1px dashed gray;margin: 0 0.4em 0.5em 0.4em;box-sizing: border-box;padding-bottom: 0.4em;background-color: white;}#sk-container-id-13 div.sk-label label {font-family: monospace;font-weight: bold;display: inline-block;line-height: 1.2em;}#sk-container-id-13 div.sk-label-container {text-align: center;}#sk-container-id-13 div.sk-container {/* jupyter's `normalize.less` sets `[hidden] { display: none; }` but bootstrap.min.css set `[hidden] { display: none !important; }` so we also need the `!important` here to be able to override the default hidden behavior on the sphinx rendered scikit-learn.org. See: https://github.com/scikit-learn/scikit-learn/issues/21755 */display: inline-block !important;position: relative;}#sk-container-id-13 div.sk-text-repr-fallback {display: none;}</style><div id=\"sk-container-id-13\" class=\"sk-top-container\"><div class=\"sk-text-repr-fallback\"><pre>GridSearchCV(cv=10, estimator=RandomForestClassifier(n_jobs=10),\n",
       "             param_grid=[{&#x27;criterion&#x27;: [&#x27;gini&#x27;],\n",
       "                          &#x27;n_estimators&#x27;: [100, 150, 200, 250, 300, 250, 400,\n",
       "                                           450, 500]}],\n",
       "             scoring=&#x27;accuracy&#x27;)</pre><b>In a Jupyter environment, please rerun this cell to show the HTML representation or trust the notebook. <br />On GitHub, the HTML representation is unable to render, please try loading this page with nbviewer.org.</b></div><div class=\"sk-container\" hidden><div class=\"sk-item sk-dashed-wrapped\"><div class=\"sk-label-container\"><div class=\"sk-label sk-toggleable\"><input class=\"sk-toggleable__control sk-hidden--visually\" id=\"sk-estimator-id-23\" type=\"checkbox\" ><label for=\"sk-estimator-id-23\" class=\"sk-toggleable__label sk-toggleable__label-arrow\">GridSearchCV</label><div class=\"sk-toggleable__content\"><pre>GridSearchCV(cv=10, estimator=RandomForestClassifier(n_jobs=10),\n",
       "             param_grid=[{&#x27;criterion&#x27;: [&#x27;gini&#x27;],\n",
       "                          &#x27;n_estimators&#x27;: [100, 150, 200, 250, 300, 250, 400,\n",
       "                                           450, 500]}],\n",
       "             scoring=&#x27;accuracy&#x27;)</pre></div></div></div><div class=\"sk-parallel\"><div class=\"sk-parallel-item\"><div class=\"sk-item\"><div class=\"sk-label-container\"><div class=\"sk-label sk-toggleable\"><input class=\"sk-toggleable__control sk-hidden--visually\" id=\"sk-estimator-id-24\" type=\"checkbox\" ><label for=\"sk-estimator-id-24\" class=\"sk-toggleable__label sk-toggleable__label-arrow\">estimator: RandomForestClassifier</label><div class=\"sk-toggleable__content\"><pre>RandomForestClassifier(n_jobs=10)</pre></div></div></div><div class=\"sk-serial\"><div class=\"sk-item\"><div class=\"sk-estimator sk-toggleable\"><input class=\"sk-toggleable__control sk-hidden--visually\" id=\"sk-estimator-id-25\" type=\"checkbox\" ><label for=\"sk-estimator-id-25\" class=\"sk-toggleable__label sk-toggleable__label-arrow\">RandomForestClassifier</label><div class=\"sk-toggleable__content\"><pre>RandomForestClassifier(n_jobs=10)</pre></div></div></div></div></div></div></div></div></div></div>"
      ],
      "text/plain": [
       "GridSearchCV(cv=10, estimator=RandomForestClassifier(n_jobs=10),\n",
       "             param_grid=[{'criterion': ['gini'],\n",
       "                          'n_estimators': [100, 150, 200, 250, 300, 250, 400,\n",
       "                                           450, 500]}],\n",
       "             scoring='accuracy')"
      ]
     },
     "execution_count": 44,
     "metadata": {},
     "output_type": "execute_result"
    }
   ],
   "source": [
    "# ROUND 1\n",
    "param_grid = [\n",
    "    {\"n_estimators\": [100, 150, 200, 250, 300, 250, 400, 450, 500],\n",
    "     \"criterion\":[\"gini\"]\n",
    "    }\n",
    "]\n",
    "\n",
    "optimal_params2 = GridSearchCV(\n",
    "    RandomForestClassifier(n_jobs= 10),\n",
    "    param_grid,\n",
    "    cv= 10,\n",
    "    scoring= \"accuracy\",\n",
    "    verbose=0\n",
    ")\n",
    "\n",
    "optimal_params2.fit(train_encoded[feature_cols], train_encoded[\"Y\"])"
   ]
  },
  {
   "cell_type": "code",
   "execution_count": 84,
   "id": "f25d1454",
   "metadata": {
    "scrolled": true
   },
   "outputs": [
    {
     "data": {
      "text/plain": [
       "{'criterion': 'gini', 'n_estimators': 300}"
      ]
     },
     "execution_count": 84,
     "metadata": {},
     "output_type": "execute_result"
    }
   ],
   "source": [
    "optimal_params2.best_params_ # result 0.61671 "
   ]
  },
  {
   "cell_type": "code",
   "execution_count": 41,
   "id": "9469be5b",
   "metadata": {
    "scrolled": true
   },
   "outputs": [
    {
     "data": {
      "text/plain": [
       "{'mean_fit_time': array([0.48247366, 0.70449417, 0.96836288, 1.17450185, 1.41902106,\n",
       "        1.18338802, 1.91984777, 2.12816482, 2.39790821]),\n",
       " 'std_fit_time': array([0.02283012, 0.03773658, 0.0686483 , 0.06422485, 0.07738542,\n",
       "        0.04616669, 0.06884901, 0.08527195, 0.0697634 ]),\n",
       " 'mean_score_time': array([0.04884257, 0.05779288, 0.07699752, 0.08071272, 0.09416208,\n",
       "        0.08043752, 0.12038813, 0.12118363, 0.14738381]),\n",
       " 'std_score_time': array([0.01588735, 0.01291162, 0.01644141, 0.0121884 , 0.00999257,\n",
       "        0.00939301, 0.00971208, 0.01244169, 0.01254113]),\n",
       " 'param_criterion': masked_array(data=['gini', 'gini', 'gini', 'gini', 'gini', 'gini', 'gini',\n",
       "                    'gini', 'gini'],\n",
       "              mask=[False, False, False, False, False, False, False, False,\n",
       "                    False],\n",
       "        fill_value='?',\n",
       "             dtype=object),\n",
       " 'param_n_estimators': masked_array(data=[100, 150, 200, 250, 300, 250, 400, 450, 500],\n",
       "              mask=[False, False, False, False, False, False, False, False,\n",
       "                    False],\n",
       "        fill_value='?',\n",
       "             dtype=object),\n",
       " 'params': [{'criterion': 'gini', 'n_estimators': 100},\n",
       "  {'criterion': 'gini', 'n_estimators': 150},\n",
       "  {'criterion': 'gini', 'n_estimators': 200},\n",
       "  {'criterion': 'gini', 'n_estimators': 250},\n",
       "  {'criterion': 'gini', 'n_estimators': 300},\n",
       "  {'criterion': 'gini', 'n_estimators': 250},\n",
       "  {'criterion': 'gini', 'n_estimators': 400},\n",
       "  {'criterion': 'gini', 'n_estimators': 450},\n",
       "  {'criterion': 'gini', 'n_estimators': 500}],\n",
       " 'split0_test_score': array([0.57142857, 0.57142857, 0.58666667, 0.59192825, 0.58666667,\n",
       "        0.56621005, 0.56502242, 0.57272727, 0.58295964]),\n",
       " 'split1_test_score': array([0.63247863, 0.59130435, 0.62184874, 0.62931034, 0.59911894,\n",
       "        0.6173913 , 0.63478261, 0.61135371, 0.61206897]),\n",
       " 'split2_test_score': array([0.52320675, 0.53164557, 0.52320675, 0.52320675, 0.54771784,\n",
       "        0.5210084 , 0.5210084 , 0.54393305, 0.52719665]),\n",
       " 'split3_test_score': array([0.53556485, 0.55371901, 0.57613169, 0.56790123, 0.54621849,\n",
       "        0.57489879, 0.57024793, 0.56680162, 0.5560166 ]),\n",
       " 'split4_test_score': array([0.56768559, 0.54935622, 0.55411255, 0.56277056, 0.55652174,\n",
       "        0.54148472, 0.56410256, 0.56652361, 0.56034483]),\n",
       " 'split5_test_score': array([0.62295082, 0.62240664, 0.6090535 , 0.61788618, 0.61157025,\n",
       "        0.60504202, 0.6147541 , 0.61666667, 0.6090535 ]),\n",
       " 'split6_test_score': array([0.53275109, 0.56790123, 0.56521739, 0.53846154, 0.53448276,\n",
       "        0.54237288, 0.55084746, 0.54700855, 0.56779661]),\n",
       " 'split7_test_score': array([0.57391304, 0.5787234 , 0.58874459, 0.60683761, 0.5826087 ,\n",
       "        0.60869565, 0.58974359, 0.6       , 0.57641921]),\n",
       " 'split8_test_score': array([0.62978723, 0.59915612, 0.6302521 , 0.61016949, 0.61603376,\n",
       "        0.62447257, 0.62184874, 0.61344538, 0.6302521 ]),\n",
       " 'split9_test_score': array([0.50877193, 0.52914798, 0.52401747, 0.54782609, 0.53913043,\n",
       "        0.53508772, 0.52631579, 0.54782609, 0.53275109]),\n",
       " 'mean_test_score': array([0.56985385, 0.56947891, 0.57792514, 0.5796298 , 0.57200696,\n",
       "        0.57366641, 0.57586736, 0.57862859, 0.57548592]),\n",
       " 'std_test_score': array([0.04337756, 0.028216  , 0.03530117, 0.03473838, 0.02923988,\n",
       "        0.03610797, 0.03697091, 0.02767745, 0.03216631]),\n",
       " 'rank_test_score': array([8, 9, 3, 1, 7, 6, 4, 2, 5])}"
      ]
     },
     "execution_count": 41,
     "metadata": {},
     "output_type": "execute_result"
    }
   ],
   "source": [
    "optimal_params2.cv_results_"
   ]
  },
  {
   "cell_type": "code",
   "execution_count": 112,
   "id": "6a6480ca",
   "metadata": {},
   "outputs": [],
   "source": [
    "x = list(optimal_params2.cv_results_[\"param_n_estimators\"].data)\n",
    "y = list(optimal_params2.cv_results_[\"mean_test_score\"])"
   ]
  },
  {
   "cell_type": "code",
   "execution_count": 116,
   "id": "00741d6d",
   "metadata": {},
   "outputs": [
    {
     "data": {
      "image/png": "[encoded data removed]",
      "text/plain": [
       "<Figure size 640x480 with 1 Axes>"
      ]
     },
     "metadata": {},
     "output_type": "display_data"
    }
   ],
   "source": [
    "sns.lineplot(x= x, y= y)\n",
    "plt.xlabel(\"n_estimators\")\n",
    "plt.ylabel(\"Mean Accuracy Score\")\n",
    "plt.show()"
   ]
  },
  {
   "cell_type": "code",
   "execution_count": 42,
   "id": "5fade501",
   "metadata": {},
   "outputs": [
    {
     "data": {
      "text/html": [
       "<style>#sk-container-id-12 {color: black;}#sk-container-id-12 pre{padding: 0;}#sk-container-id-12 div.sk-toggleable {background-color: white;}#sk-container-id-12 label.sk-toggleable__label {cursor: pointer;display: block;width: 100%;margin-bottom: 0;padding: 0.3em;box-sizing: border-box;text-align: center;}#sk-container-id-12 label.sk-toggleable__label-arrow:before {content: \"▸\";float: left;margin-right: 0.25em;color: #696969;}#sk-container-id-12 label.sk-toggleable__label-arrow:hover:before {color: black;}#sk-container-id-12 div.sk-estimator:hover label.sk-toggleable__label-arrow:before {color: black;}#sk-container-id-12 div.sk-toggleable__content {max-height: 0;max-width: 0;overflow: hidden;text-align: left;background-color: #f0f8ff;}#sk-container-id-12 div.sk-toggleable__content pre {margin: 0.2em;color: black;border-radius: 0.25em;background-color: #f0f8ff;}#sk-container-id-12 input.sk-toggleable__control:checked~div.sk-toggleable__content {max-height: 200px;max-width: 100%;overflow: auto;}#sk-container-id-12 input.sk-toggleable__control:checked~label.sk-toggleable__label-arrow:before {content: \"▾\";}#sk-container-id-12 div.sk-estimator input.sk-toggleable__control:checked~label.sk-toggleable__label {background-color: #d4ebff;}#sk-container-id-12 div.sk-label input.sk-toggleable__control:checked~label.sk-toggleable__label {background-color: #d4ebff;}#sk-container-id-12 input.sk-hidden--visually {border: 0;clip: rect(1px 1px 1px 1px);clip: rect(1px, 1px, 1px, 1px);height: 1px;margin: -1px;overflow: hidden;padding: 0;position: absolute;width: 1px;}#sk-container-id-12 div.sk-estimator {font-family: monospace;background-color: #f0f8ff;border: 1px dotted black;border-radius: 0.25em;box-sizing: border-box;margin-bottom: 0.5em;}#sk-container-id-12 div.sk-estimator:hover {background-color: #d4ebff;}#sk-container-id-12 div.sk-parallel-item::after {content: \"\";width: 100%;border-bottom: 1px solid gray;flex-grow: 1;}#sk-container-id-12 div.sk-label:hover label.sk-toggleable__label {background-color: #d4ebff;}#sk-container-id-12 div.sk-serial::before {content: \"\";position: absolute;border-left: 1px solid gray;box-sizing: border-box;top: 0;bottom: 0;left: 50%;z-index: 0;}#sk-container-id-12 div.sk-serial {display: flex;flex-direction: column;align-items: center;background-color: white;padding-right: 0.2em;padding-left: 0.2em;position: relative;}#sk-container-id-12 div.sk-item {position: relative;z-index: 1;}#sk-container-id-12 div.sk-parallel {display: flex;align-items: stretch;justify-content: center;background-color: white;position: relative;}#sk-container-id-12 div.sk-item::before, #sk-container-id-12 div.sk-parallel-item::before {content: \"\";position: absolute;border-left: 1px solid gray;box-sizing: border-box;top: 0;bottom: 0;left: 50%;z-index: -1;}#sk-container-id-12 div.sk-parallel-item {display: flex;flex-direction: column;z-index: 1;position: relative;background-color: white;}#sk-container-id-12 div.sk-parallel-item:first-child::after {align-self: flex-end;width: 50%;}#sk-container-id-12 div.sk-parallel-item:last-child::after {align-self: flex-start;width: 50%;}#sk-container-id-12 div.sk-parallel-item:only-child::after {width: 0;}#sk-container-id-12 div.sk-dashed-wrapped {border: 1px dashed gray;margin: 0 0.4em 0.5em 0.4em;box-sizing: border-box;padding-bottom: 0.4em;background-color: white;}#sk-container-id-12 div.sk-label label {font-family: monospace;font-weight: bold;display: inline-block;line-height: 1.2em;}#sk-container-id-12 div.sk-label-container {text-align: center;}#sk-container-id-12 div.sk-container {/* jupyter's `normalize.less` sets `[hidden] { display: none; }` but bootstrap.min.css set `[hidden] { display: none !important; }` so we also need the `!important` here to be able to override the default hidden behavior on the sphinx rendered scikit-learn.org. See: https://github.com/scikit-learn/scikit-learn/issues/21755 */display: inline-block !important;position: relative;}#sk-container-id-12 div.sk-text-repr-fallback {display: none;}</style><div id=\"sk-container-id-12\" class=\"sk-top-container\"><div class=\"sk-text-repr-fallback\"><pre>RandomForestClassifier(n_estimators=250, n_jobs=3, random_state=1)</pre><b>In a Jupyter environment, please rerun this cell to show the HTML representation or trust the notebook. <br />On GitHub, the HTML representation is unable to render, please try loading this page with nbviewer.org.</b></div><div class=\"sk-container\" hidden><div class=\"sk-item\"><div class=\"sk-estimator sk-toggleable\"><input class=\"sk-toggleable__control sk-hidden--visually\" id=\"sk-estimator-id-22\" type=\"checkbox\" checked><label for=\"sk-estimator-id-22\" class=\"sk-toggleable__label sk-toggleable__label-arrow\">RandomForestClassifier</label><div class=\"sk-toggleable__content\"><pre>RandomForestClassifier(n_estimators=250, n_jobs=3, random_state=1)</pre></div></div></div></div></div>"
      ],
      "text/plain": [
       "RandomForestClassifier(n_estimators=250, n_jobs=3, random_state=1)"
      ]
     },
     "execution_count": 42,
     "metadata": {},
     "output_type": "execute_result"
    }
   ],
   "source": [
    "# retain model\n",
    "rf_clf = RandomForestClassifier(random_state=1, n_jobs= 3,\n",
    "                                criterion= \"gini\",\n",
    "                                n_estimators= 250)\n",
    "rf_clf.fit(X= train_encoded[feature_cols], y= train_encoded[\"Y\"])"
   ]
  },
  {
   "cell_type": "code",
   "execution_count": 43,
   "id": "4a66ecb0",
   "metadata": {},
   "outputs": [],
   "source": [
    "rf_pred = rf_clf.predict(kaggle_encoded[feature_cols])\n",
    "\n",
    "df_pred = pd.concat([kaggle_df['ID'], pd.DataFrame(rf_pred,columns=['pred'])], axis = 1)\n",
    "df_pred.to_csv('pred_values.csv',index=False)"
   ]
  },
  {
   "cell_type": "markdown",
   "id": "ba0b0460",
   "metadata": {},
   "source": [
    "Tuning max_depth"
   ]
  },
  {
   "cell_type": "code",
   "execution_count": 50,
   "id": "c68211d4",
   "metadata": {},
   "outputs": [
    {
     "data": {
      "text/html": [
       "<style>#sk-container-id-16 {color: black;}#sk-container-id-16 pre{padding: 0;}#sk-container-id-16 div.sk-toggleable {background-color: white;}#sk-container-id-16 label.sk-toggleable__label {cursor: pointer;display: block;width: 100%;margin-bottom: 0;padding: 0.3em;box-sizing: border-box;text-align: center;}#sk-container-id-16 label.sk-toggleable__label-arrow:before {content: \"▸\";float: left;margin-right: 0.25em;color: #696969;}#sk-container-id-16 label.sk-toggleable__label-arrow:hover:before {color: black;}#sk-container-id-16 div.sk-estimator:hover label.sk-toggleable__label-arrow:before {color: black;}#sk-container-id-16 div.sk-toggleable__content {max-height: 0;max-width: 0;overflow: hidden;text-align: left;background-color: #f0f8ff;}#sk-container-id-16 div.sk-toggleable__content pre {margin: 0.2em;color: black;border-radius: 0.25em;background-color: #f0f8ff;}#sk-container-id-16 input.sk-toggleable__control:checked~div.sk-toggleable__content {max-height: 200px;max-width: 100%;overflow: auto;}#sk-container-id-16 input.sk-toggleable__control:checked~label.sk-toggleable__label-arrow:before {content: \"▾\";}#sk-container-id-16 div.sk-estimator input.sk-toggleable__control:checked~label.sk-toggleable__label {background-color: #d4ebff;}#sk-container-id-16 div.sk-label input.sk-toggleable__control:checked~label.sk-toggleable__label {background-color: #d4ebff;}#sk-container-id-16 input.sk-hidden--visually {border: 0;clip: rect(1px 1px 1px 1px);clip: rect(1px, 1px, 1px, 1px);height: 1px;margin: -1px;overflow: hidden;padding: 0;position: absolute;width: 1px;}#sk-container-id-16 div.sk-estimator {font-family: monospace;background-color: #f0f8ff;border: 1px dotted black;border-radius: 0.25em;box-sizing: border-box;margin-bottom: 0.5em;}#sk-container-id-16 div.sk-estimator:hover {background-color: #d4ebff;}#sk-container-id-16 div.sk-parallel-item::after {content: \"\";width: 100%;border-bottom: 1px solid gray;flex-grow: 1;}#sk-container-id-16 div.sk-label:hover label.sk-toggleable__label {background-color: #d4ebff;}#sk-container-id-16 div.sk-serial::before {content: \"\";position: absolute;border-left: 1px solid gray;box-sizing: border-box;top: 0;bottom: 0;left: 50%;z-index: 0;}#sk-container-id-16 div.sk-serial {display: flex;flex-direction: column;align-items: center;background-color: white;padding-right: 0.2em;padding-left: 0.2em;position: relative;}#sk-container-id-16 div.sk-item {position: relative;z-index: 1;}#sk-container-id-16 div.sk-parallel {display: flex;align-items: stretch;justify-content: center;background-color: white;position: relative;}#sk-container-id-16 div.sk-item::before, #sk-container-id-16 div.sk-parallel-item::before {content: \"\";position: absolute;border-left: 1px solid gray;box-sizing: border-box;top: 0;bottom: 0;left: 50%;z-index: -1;}#sk-container-id-16 div.sk-parallel-item {display: flex;flex-direction: column;z-index: 1;position: relative;background-color: white;}#sk-container-id-16 div.sk-parallel-item:first-child::after {align-self: flex-end;width: 50%;}#sk-container-id-16 div.sk-parallel-item:last-child::after {align-self: flex-start;width: 50%;}#sk-container-id-16 div.sk-parallel-item:only-child::after {width: 0;}#sk-container-id-16 div.sk-dashed-wrapped {border: 1px dashed gray;margin: 0 0.4em 0.5em 0.4em;box-sizing: border-box;padding-bottom: 0.4em;background-color: white;}#sk-container-id-16 div.sk-label label {font-family: monospace;font-weight: bold;display: inline-block;line-height: 1.2em;}#sk-container-id-16 div.sk-label-container {text-align: center;}#sk-container-id-16 div.sk-container {/* jupyter's `normalize.less` sets `[hidden] { display: none; }` but bootstrap.min.css set `[hidden] { display: none !important; }` so we also need the `!important` here to be able to override the default hidden behavior on the sphinx rendered scikit-learn.org. See: https://github.com/scikit-learn/scikit-learn/issues/21755 */display: inline-block !important;position: relative;}#sk-container-id-16 div.sk-text-repr-fallback {display: none;}</style><div id=\"sk-container-id-16\" class=\"sk-top-container\"><div class=\"sk-text-repr-fallback\"><pre>GridSearchCV(cv=10, estimator=RandomForestClassifier(n_jobs=10),\n",
       "             param_grid=[{&#x27;criterion&#x27;: [&#x27;gini&#x27;],\n",
       "                          &#x27;max_depth&#x27;: [None, 10, 20, 30],\n",
       "                          &#x27;n_estimators&#x27;: [300]}],\n",
       "             scoring=&#x27;f1&#x27;)</pre><b>In a Jupyter environment, please rerun this cell to show the HTML representation or trust the notebook. <br />On GitHub, the HTML representation is unable to render, please try loading this page with nbviewer.org.</b></div><div class=\"sk-container\" hidden><div class=\"sk-item sk-dashed-wrapped\"><div class=\"sk-label-container\"><div class=\"sk-label sk-toggleable\"><input class=\"sk-toggleable__control sk-hidden--visually\" id=\"sk-estimator-id-30\" type=\"checkbox\" ><label for=\"sk-estimator-id-30\" class=\"sk-toggleable__label sk-toggleable__label-arrow\">GridSearchCV</label><div class=\"sk-toggleable__content\"><pre>GridSearchCV(cv=10, estimator=RandomForestClassifier(n_jobs=10),\n",
       "             param_grid=[{&#x27;criterion&#x27;: [&#x27;gini&#x27;],\n",
       "                          &#x27;max_depth&#x27;: [None, 10, 20, 30],\n",
       "                          &#x27;n_estimators&#x27;: [300]}],\n",
       "             scoring=&#x27;f1&#x27;)</pre></div></div></div><div class=\"sk-parallel\"><div class=\"sk-parallel-item\"><div class=\"sk-item\"><div class=\"sk-label-container\"><div class=\"sk-label sk-toggleable\"><input class=\"sk-toggleable__control sk-hidden--visually\" id=\"sk-estimator-id-31\" type=\"checkbox\" ><label for=\"sk-estimator-id-31\" class=\"sk-toggleable__label sk-toggleable__label-arrow\">estimator: RandomForestClassifier</label><div class=\"sk-toggleable__content\"><pre>RandomForestClassifier(n_jobs=10)</pre></div></div></div><div class=\"sk-serial\"><div class=\"sk-item\"><div class=\"sk-estimator sk-toggleable\"><input class=\"sk-toggleable__control sk-hidden--visually\" id=\"sk-estimator-id-32\" type=\"checkbox\" ><label for=\"sk-estimator-id-32\" class=\"sk-toggleable__label sk-toggleable__label-arrow\">RandomForestClassifier</label><div class=\"sk-toggleable__content\"><pre>RandomForestClassifier(n_jobs=10)</pre></div></div></div></div></div></div></div></div></div></div>"
      ],
      "text/plain": [
       "GridSearchCV(cv=10, estimator=RandomForestClassifier(n_jobs=10),\n",
       "             param_grid=[{'criterion': ['gini'],\n",
       "                          'max_depth': [None, 10, 20, 30],\n",
       "                          'n_estimators': [300]}],\n",
       "             scoring='f1')"
      ]
     },
     "execution_count": 50,
     "metadata": {},
     "output_type": "execute_result"
    }
   ],
   "source": [
    "# ROUND 1\n",
    "param_grid = [\n",
    "    {\"criterion\": [\"gini\"],\n",
    "     \"n_estimators\": [300],\n",
    "     \"max_depth\": [None, 10, 20, 30]\n",
    "    }\n",
    "]\n",
    "\n",
    "optimal_params3 = GridSearchCV(\n",
    "    RandomForestClassifier(n_jobs= 10),\n",
    "    param_grid,\n",
    "    cv= 10,\n",
    "    scoring= \"f1\",\n",
    "    verbose=0\n",
    ")\n",
    "\n",
    "optimal_params3.fit(train_encoded[feature_cols], train_encoded[\"Y\"])"
   ]
  },
  {
   "cell_type": "code",
   "execution_count": 99,
   "id": "76b27218",
   "metadata": {},
   "outputs": [
    {
     "data": {
      "text/plain": [
       "{'criterion': 'gini', 'max_depth': 20, 'n_estimators': 300}"
      ]
     },
     "execution_count": 99,
     "metadata": {},
     "output_type": "execute_result"
    }
   ],
   "source": [
    "optimal_params3.best_params_"
   ]
  },
  {
   "cell_type": "code",
   "execution_count": 48,
   "id": "ab08ce99",
   "metadata": {},
   "outputs": [
    {
     "data": {
      "text/html": [
       "<style>#sk-container-id-15 {color: black;}#sk-container-id-15 pre{padding: 0;}#sk-container-id-15 div.sk-toggleable {background-color: white;}#sk-container-id-15 label.sk-toggleable__label {cursor: pointer;display: block;width: 100%;margin-bottom: 0;padding: 0.3em;box-sizing: border-box;text-align: center;}#sk-container-id-15 label.sk-toggleable__label-arrow:before {content: \"▸\";float: left;margin-right: 0.25em;color: #696969;}#sk-container-id-15 label.sk-toggleable__label-arrow:hover:before {color: black;}#sk-container-id-15 div.sk-estimator:hover label.sk-toggleable__label-arrow:before {color: black;}#sk-container-id-15 div.sk-toggleable__content {max-height: 0;max-width: 0;overflow: hidden;text-align: left;background-color: #f0f8ff;}#sk-container-id-15 div.sk-toggleable__content pre {margin: 0.2em;color: black;border-radius: 0.25em;background-color: #f0f8ff;}#sk-container-id-15 input.sk-toggleable__control:checked~div.sk-toggleable__content {max-height: 200px;max-width: 100%;overflow: auto;}#sk-container-id-15 input.sk-toggleable__control:checked~label.sk-toggleable__label-arrow:before {content: \"▾\";}#sk-container-id-15 div.sk-estimator input.sk-toggleable__control:checked~label.sk-toggleable__label {background-color: #d4ebff;}#sk-container-id-15 div.sk-label input.sk-toggleable__control:checked~label.sk-toggleable__label {background-color: #d4ebff;}#sk-container-id-15 input.sk-hidden--visually {border: 0;clip: rect(1px 1px 1px 1px);clip: rect(1px, 1px, 1px, 1px);height: 1px;margin: -1px;overflow: hidden;padding: 0;position: absolute;width: 1px;}#sk-container-id-15 div.sk-estimator {font-family: monospace;background-color: #f0f8ff;border: 1px dotted black;border-radius: 0.25em;box-sizing: border-box;margin-bottom: 0.5em;}#sk-container-id-15 div.sk-estimator:hover {background-color: #d4ebff;}#sk-container-id-15 div.sk-parallel-item::after {content: \"\";width: 100%;border-bottom: 1px solid gray;flex-grow: 1;}#sk-container-id-15 div.sk-label:hover label.sk-toggleable__label {background-color: #d4ebff;}#sk-container-id-15 div.sk-serial::before {content: \"\";position: absolute;border-left: 1px solid gray;box-sizing: border-box;top: 0;bottom: 0;left: 50%;z-index: 0;}#sk-container-id-15 div.sk-serial {display: flex;flex-direction: column;align-items: center;background-color: white;padding-right: 0.2em;padding-left: 0.2em;position: relative;}#sk-container-id-15 div.sk-item {position: relative;z-index: 1;}#sk-container-id-15 div.sk-parallel {display: flex;align-items: stretch;justify-content: center;background-color: white;position: relative;}#sk-container-id-15 div.sk-item::before, #sk-container-id-15 div.sk-parallel-item::before {content: \"\";position: absolute;border-left: 1px solid gray;box-sizing: border-box;top: 0;bottom: 0;left: 50%;z-index: -1;}#sk-container-id-15 div.sk-parallel-item {display: flex;flex-direction: column;z-index: 1;position: relative;background-color: white;}#sk-container-id-15 div.sk-parallel-item:first-child::after {align-self: flex-end;width: 50%;}#sk-container-id-15 div.sk-parallel-item:last-child::after {align-self: flex-start;width: 50%;}#sk-container-id-15 div.sk-parallel-item:only-child::after {width: 0;}#sk-container-id-15 div.sk-dashed-wrapped {border: 1px dashed gray;margin: 0 0.4em 0.5em 0.4em;box-sizing: border-box;padding-bottom: 0.4em;background-color: white;}#sk-container-id-15 div.sk-label label {font-family: monospace;font-weight: bold;display: inline-block;line-height: 1.2em;}#sk-container-id-15 div.sk-label-container {text-align: center;}#sk-container-id-15 div.sk-container {/* jupyter's `normalize.less` sets `[hidden] { display: none; }` but bootstrap.min.css set `[hidden] { display: none !important; }` so we also need the `!important` here to be able to override the default hidden behavior on the sphinx rendered scikit-learn.org. See: https://github.com/scikit-learn/scikit-learn/issues/21755 */display: inline-block !important;position: relative;}#sk-container-id-15 div.sk-text-repr-fallback {display: none;}</style><div id=\"sk-container-id-15\" class=\"sk-top-container\"><div class=\"sk-text-repr-fallback\"><pre>RandomForestClassifier(max_depth=10, n_estimators=300, n_jobs=3, random_state=1)</pre><b>In a Jupyter environment, please rerun this cell to show the HTML representation or trust the notebook. <br />On GitHub, the HTML representation is unable to render, please try loading this page with nbviewer.org.</b></div><div class=\"sk-container\" hidden><div class=\"sk-item\"><div class=\"sk-estimator sk-toggleable\"><input class=\"sk-toggleable__control sk-hidden--visually\" id=\"sk-estimator-id-29\" type=\"checkbox\" checked><label for=\"sk-estimator-id-29\" class=\"sk-toggleable__label sk-toggleable__label-arrow\">RandomForestClassifier</label><div class=\"sk-toggleable__content\"><pre>RandomForestClassifier(max_depth=10, n_estimators=300, n_jobs=3, random_state=1)</pre></div></div></div></div></div>"
      ],
      "text/plain": [
       "RandomForestClassifier(max_depth=10, n_estimators=300, n_jobs=3, random_state=1)"
      ]
     },
     "execution_count": 48,
     "metadata": {},
     "output_type": "execute_result"
    }
   ],
   "source": [
    "# retain model\n",
    "rf_clf = RandomForestClassifier(random_state=1, n_jobs= 3,\n",
    "                                criterion= \"gini\",\n",
    "                                n_estimators= 300,\n",
    "                               max_depth= 10)\n",
    "rf_clf.fit(X= train_encoded[feature_cols], y= train_encoded[\"Y\"])"
   ]
  },
  {
   "cell_type": "code",
   "execution_count": 49,
   "id": "783d76d6",
   "metadata": {},
   "outputs": [],
   "source": [
    "rf_pred = rf_clf.predict(kaggle_encoded[feature_cols])\n",
    "\n",
    "df_pred = pd.concat([kaggle_df['ID'], pd.DataFrame(rf_pred,columns=['pred'])], axis = 1)\n",
    "df_pred.to_csv('pred_values.csv',index=False)"
   ]
  },
  {
   "cell_type": "markdown",
   "id": "1eb8fa59",
   "metadata": {},
   "source": [
    "Tuning max_faetures"
   ]
  },
  {
   "cell_type": "code",
   "execution_count": 54,
   "id": "6062fc31",
   "metadata": {},
   "outputs": [
    {
     "data": {
      "text/plain": [
       "3.872983346207417"
      ]
     },
     "execution_count": 54,
     "metadata": {},
     "output_type": "execute_result"
    }
   ],
   "source": [
    "np.sqrt(15)"
   ]
  },
  {
   "cell_type": "code",
   "execution_count": 55,
   "id": "0175c672",
   "metadata": {},
   "outputs": [
    {
     "data": {
      "text/plain": [
       "3.9068905956085187"
      ]
     },
     "execution_count": 55,
     "metadata": {},
     "output_type": "execute_result"
    }
   ],
   "source": [
    "np.log2(15)"
   ]
  },
  {
   "cell_type": "code",
   "execution_count": 58,
   "id": "28ed9868",
   "metadata": {},
   "outputs": [
    {
     "data": {
      "text/html": [
       "<style>#sk-container-id-18 {color: black;}#sk-container-id-18 pre{padding: 0;}#sk-container-id-18 div.sk-toggleable {background-color: white;}#sk-container-id-18 label.sk-toggleable__label {cursor: pointer;display: block;width: 100%;margin-bottom: 0;padding: 0.3em;box-sizing: border-box;text-align: center;}#sk-container-id-18 label.sk-toggleable__label-arrow:before {content: \"▸\";float: left;margin-right: 0.25em;color: #696969;}#sk-container-id-18 label.sk-toggleable__label-arrow:hover:before {color: black;}#sk-container-id-18 div.sk-estimator:hover label.sk-toggleable__label-arrow:before {color: black;}#sk-container-id-18 div.sk-toggleable__content {max-height: 0;max-width: 0;overflow: hidden;text-align: left;background-color: #f0f8ff;}#sk-container-id-18 div.sk-toggleable__content pre {margin: 0.2em;color: black;border-radius: 0.25em;background-color: #f0f8ff;}#sk-container-id-18 input.sk-toggleable__control:checked~div.sk-toggleable__content {max-height: 200px;max-width: 100%;overflow: auto;}#sk-container-id-18 input.sk-toggleable__control:checked~label.sk-toggleable__label-arrow:before {content: \"▾\";}#sk-container-id-18 div.sk-estimator input.sk-toggleable__control:checked~label.sk-toggleable__label {background-color: #d4ebff;}#sk-container-id-18 div.sk-label input.sk-toggleable__control:checked~label.sk-toggleable__label {background-color: #d4ebff;}#sk-container-id-18 input.sk-hidden--visually {border: 0;clip: rect(1px 1px 1px 1px);clip: rect(1px, 1px, 1px, 1px);height: 1px;margin: -1px;overflow: hidden;padding: 0;position: absolute;width: 1px;}#sk-container-id-18 div.sk-estimator {font-family: monospace;background-color: #f0f8ff;border: 1px dotted black;border-radius: 0.25em;box-sizing: border-box;margin-bottom: 0.5em;}#sk-container-id-18 div.sk-estimator:hover {background-color: #d4ebff;}#sk-container-id-18 div.sk-parallel-item::after {content: \"\";width: 100%;border-bottom: 1px solid gray;flex-grow: 1;}#sk-container-id-18 div.sk-label:hover label.sk-toggleable__label {background-color: #d4ebff;}#sk-container-id-18 div.sk-serial::before {content: \"\";position: absolute;border-left: 1px solid gray;box-sizing: border-box;top: 0;bottom: 0;left: 50%;z-index: 0;}#sk-container-id-18 div.sk-serial {display: flex;flex-direction: column;align-items: center;background-color: white;padding-right: 0.2em;padding-left: 0.2em;position: relative;}#sk-container-id-18 div.sk-item {position: relative;z-index: 1;}#sk-container-id-18 div.sk-parallel {display: flex;align-items: stretch;justify-content: center;background-color: white;position: relative;}#sk-container-id-18 div.sk-item::before, #sk-container-id-18 div.sk-parallel-item::before {content: \"\";position: absolute;border-left: 1px solid gray;box-sizing: border-box;top: 0;bottom: 0;left: 50%;z-index: -1;}#sk-container-id-18 div.sk-parallel-item {display: flex;flex-direction: column;z-index: 1;position: relative;background-color: white;}#sk-container-id-18 div.sk-parallel-item:first-child::after {align-self: flex-end;width: 50%;}#sk-container-id-18 div.sk-parallel-item:last-child::after {align-self: flex-start;width: 50%;}#sk-container-id-18 div.sk-parallel-item:only-child::after {width: 0;}#sk-container-id-18 div.sk-dashed-wrapped {border: 1px dashed gray;margin: 0 0.4em 0.5em 0.4em;box-sizing: border-box;padding-bottom: 0.4em;background-color: white;}#sk-container-id-18 div.sk-label label {font-family: monospace;font-weight: bold;display: inline-block;line-height: 1.2em;}#sk-container-id-18 div.sk-label-container {text-align: center;}#sk-container-id-18 div.sk-container {/* jupyter's `normalize.less` sets `[hidden] { display: none; }` but bootstrap.min.css set `[hidden] { display: none !important; }` so we also need the `!important` here to be able to override the default hidden behavior on the sphinx rendered scikit-learn.org. See: https://github.com/scikit-learn/scikit-learn/issues/21755 */display: inline-block !important;position: relative;}#sk-container-id-18 div.sk-text-repr-fallback {display: none;}</style><div id=\"sk-container-id-18\" class=\"sk-top-container\"><div class=\"sk-text-repr-fallback\"><pre>GridSearchCV(cv=10, estimator=RandomForestClassifier(n_jobs=10),\n",
       "             param_grid=[{&#x27;criterion&#x27;: [&#x27;gini&#x27;],\n",
       "                          &#x27;max_features&#x27;: [None, 2, 3, 5, 10, &#x27;sqrt&#x27;, &#x27;log2&#x27;],\n",
       "                          &#x27;n_estimators&#x27;: [300]}],\n",
       "             scoring=&#x27;accuracy&#x27;)</pre><b>In a Jupyter environment, please rerun this cell to show the HTML representation or trust the notebook. <br />On GitHub, the HTML representation is unable to render, please try loading this page with nbviewer.org.</b></div><div class=\"sk-container\" hidden><div class=\"sk-item sk-dashed-wrapped\"><div class=\"sk-label-container\"><div class=\"sk-label sk-toggleable\"><input class=\"sk-toggleable__control sk-hidden--visually\" id=\"sk-estimator-id-36\" type=\"checkbox\" ><label for=\"sk-estimator-id-36\" class=\"sk-toggleable__label sk-toggleable__label-arrow\">GridSearchCV</label><div class=\"sk-toggleable__content\"><pre>GridSearchCV(cv=10, estimator=RandomForestClassifier(n_jobs=10),\n",
       "             param_grid=[{&#x27;criterion&#x27;: [&#x27;gini&#x27;],\n",
       "                          &#x27;max_features&#x27;: [None, 2, 3, 5, 10, &#x27;sqrt&#x27;, &#x27;log2&#x27;],\n",
       "                          &#x27;n_estimators&#x27;: [300]}],\n",
       "             scoring=&#x27;accuracy&#x27;)</pre></div></div></div><div class=\"sk-parallel\"><div class=\"sk-parallel-item\"><div class=\"sk-item\"><div class=\"sk-label-container\"><div class=\"sk-label sk-toggleable\"><input class=\"sk-toggleable__control sk-hidden--visually\" id=\"sk-estimator-id-37\" type=\"checkbox\" ><label for=\"sk-estimator-id-37\" class=\"sk-toggleable__label sk-toggleable__label-arrow\">estimator: RandomForestClassifier</label><div class=\"sk-toggleable__content\"><pre>RandomForestClassifier(n_jobs=10)</pre></div></div></div><div class=\"sk-serial\"><div class=\"sk-item\"><div class=\"sk-estimator sk-toggleable\"><input class=\"sk-toggleable__control sk-hidden--visually\" id=\"sk-estimator-id-38\" type=\"checkbox\" ><label for=\"sk-estimator-id-38\" class=\"sk-toggleable__label sk-toggleable__label-arrow\">RandomForestClassifier</label><div class=\"sk-toggleable__content\"><pre>RandomForestClassifier(n_jobs=10)</pre></div></div></div></div></div></div></div></div></div></div>"
      ],
      "text/plain": [
       "GridSearchCV(cv=10, estimator=RandomForestClassifier(n_jobs=10),\n",
       "             param_grid=[{'criterion': ['gini'],\n",
       "                          'max_features': [None, 2, 3, 5, 10, 'sqrt', 'log2'],\n",
       "                          'n_estimators': [300]}],\n",
       "             scoring='accuracy')"
      ]
     },
     "execution_count": 58,
     "metadata": {},
     "output_type": "execute_result"
    }
   ],
   "source": [
    "# ROUND 1\n",
    "param_grid = [\n",
    "    {\"criterion\": [\"gini\"], # regularisation\n",
    "     \"n_estimators\": [300],\n",
    "     \"max_features\": [None, 2, 3, 5, 10, \"sqrt\", \"log2\"]\n",
    "    }\n",
    "]\n",
    "\n",
    "optimal_params4 = GridSearchCV(\n",
    "    RandomForestClassifier(n_jobs= 10),\n",
    "    param_grid,\n",
    "    cv= 10,\n",
    "    scoring= \"accuracy\",\n",
    "    verbose=0\n",
    ")\n",
    "\n",
    "optimal_params4.fit(train_encoded[feature_cols], train_encoded[\"Y\"])"
   ]
  },
  {
   "cell_type": "code",
   "execution_count": 59,
   "id": "e39afbb5",
   "metadata": {},
   "outputs": [
    {
     "data": {
      "text/plain": [
       "{'criterion': 'gini', 'max_features': 'sqrt', 'n_estimators': 300}"
      ]
     },
     "execution_count": 59,
     "metadata": {},
     "output_type": "execute_result"
    }
   ],
   "source": [
    "optimal_params4.best_params_"
   ]
  },
  {
   "cell_type": "code",
   "execution_count": 101,
   "id": "2d2beb24",
   "metadata": {
    "scrolled": true
   },
   "outputs": [
    {
     "data": {
      "text/plain": [
       "{'mean_fit_time': array([4.10769379, 1.42259057, 1.55876141, 1.85784767, 2.84226463,\n",
       "        1.57176867, 1.59985285]),\n",
       " 'std_fit_time': array([0.18167799, 0.1118642 , 0.06109482, 0.1606979 , 0.09284115,\n",
       "        0.06715144, 0.08388487]),\n",
       " 'mean_score_time': array([0.09414842, 0.09310243, 0.08953054, 0.09085457, 0.09221184,\n",
       "        0.09520967, 0.09864891]),\n",
       " 'std_score_time': array([0.00684936, 0.01412917, 0.01165477, 0.00684102, 0.00637033,\n",
       "        0.01258524, 0.01273186]),\n",
       " 'param_criterion': masked_array(data=['gini', 'gini', 'gini', 'gini', 'gini', 'gini', 'gini'],\n",
       "              mask=[False, False, False, False, False, False, False],\n",
       "        fill_value='?',\n",
       "             dtype=object),\n",
       " 'param_max_features': masked_array(data=[None, 2, 3, 5, 10, 'sqrt', 'log2'],\n",
       "              mask=[False, False, False, False, False, False, False],\n",
       "        fill_value='?',\n",
       "             dtype=object),\n",
       " 'param_n_estimators': masked_array(data=[300, 300, 300, 300, 300, 300, 300],\n",
       "              mask=[False, False, False, False, False, False, False],\n",
       "        fill_value='?',\n",
       "             dtype=object),\n",
       " 'params': [{'criterion': 'gini', 'max_features': None, 'n_estimators': 300},\n",
       "  {'criterion': 'gini', 'max_features': 2, 'n_estimators': 300},\n",
       "  {'criterion': 'gini', 'max_features': 3, 'n_estimators': 300},\n",
       "  {'criterion': 'gini', 'max_features': 5, 'n_estimators': 300},\n",
       "  {'criterion': 'gini', 'max_features': 10, 'n_estimators': 300},\n",
       "  {'criterion': 'gini', 'max_features': 'sqrt', 'n_estimators': 300},\n",
       "  {'criterion': 'gini', 'max_features': 'log2', 'n_estimators': 300}],\n",
       " 'split0_test_score': array([0.85142857, 0.87      , 0.86714286, 0.86      , 0.85428571,\n",
       "        0.86428571, 0.86428571]),\n",
       " 'split1_test_score': array([0.86      , 0.87428571, 0.87142857, 0.87      , 0.86428571,\n",
       "        0.87285714, 0.87571429]),\n",
       " 'split2_test_score': array([0.83428571, 0.84428571, 0.84142857, 0.83857143, 0.83428571,\n",
       "        0.83857143, 0.83714286]),\n",
       " 'split3_test_score': array([0.84857143, 0.84285714, 0.84571429, 0.84857143, 0.83714286,\n",
       "        0.85      , 0.85142857]),\n",
       " 'split4_test_score': array([0.85      , 0.85285714, 0.85428571, 0.85571429, 0.84      ,\n",
       "        0.85285714, 0.85142857]),\n",
       " 'split5_test_score': array([0.86285714, 0.86428571, 0.86285714, 0.87142857, 0.86428571,\n",
       "        0.86285714, 0.87      ]),\n",
       " 'split6_test_score': array([0.84428571, 0.84857143, 0.84857143, 0.85      , 0.84714286,\n",
       "        0.85285714, 0.84285714]),\n",
       " 'split7_test_score': array([0.85857143, 0.85857143, 0.86428571, 0.87285714, 0.86142857,\n",
       "        0.86142857, 0.86285714]),\n",
       " 'split8_test_score': array([0.86714286, 0.87571429, 0.87142857, 0.87      , 0.86857143,\n",
       "        0.87285714, 0.87285714]),\n",
       " 'split9_test_score': array([0.84571429, 0.84285714, 0.84285714, 0.84      , 0.84571429,\n",
       "        0.85      , 0.84428571]),\n",
       " 'mean_test_score': array([0.85228571, 0.85742857, 0.857     , 0.85771429, 0.85171429,\n",
       "        0.85785714, 0.85728571]),\n",
       " 'std_test_score': array([0.00939388, 0.01233545, 0.01120222, 0.01245727, 0.01188036,\n",
       "        0.01036576, 0.01294336]),\n",
       " 'rank_test_score': array([6, 3, 5, 2, 7, 1, 4])}"
      ]
     },
     "execution_count": 101,
     "metadata": {},
     "output_type": "execute_result"
    }
   ],
   "source": [
    "optimal_params4.cv_results_"
   ]
  },
  {
   "cell_type": "code",
   "execution_count": 118,
   "id": "00377be5",
   "metadata": {},
   "outputs": [],
   "source": [
    "x = [str(i) for i in list(optimal_params4.cv_results_[\"param_max_features\"].data)]\n",
    "y = list(optimal_params4.cv_results_[\"mean_test_score\"])"
   ]
  },
  {
   "cell_type": "code",
   "execution_count": 119,
   "id": "e7c27feb",
   "metadata": {},
   "outputs": [
    {
     "data": {
      "image/png": "[encoded data removed]",
      "text/plain": [
       "<Figure size 640x480 with 1 Axes>"
      ]
     },
     "metadata": {},
     "output_type": "display_data"
    }
   ],
   "source": [
    "sns.lineplot(x= x, y= y)\n",
    "plt.xlabel(\"max_features\")\n",
    "plt.ylabel(\"Mean Accuracy Score\")\n",
    "plt.show()"
   ]
  },
  {
   "cell_type": "code",
   "execution_count": 257,
   "id": "4a0e635c",
   "metadata": {},
   "outputs": [
    {
     "data": {
      "text/html": [
       "<style>#sk-container-id-34 {color: black;}#sk-container-id-34 pre{padding: 0;}#sk-container-id-34 div.sk-toggleable {background-color: white;}#sk-container-id-34 label.sk-toggleable__label {cursor: pointer;display: block;width: 100%;margin-bottom: 0;padding: 0.3em;box-sizing: border-box;text-align: center;}#sk-container-id-34 label.sk-toggleable__label-arrow:before {content: \"▸\";float: left;margin-right: 0.25em;color: #696969;}#sk-container-id-34 label.sk-toggleable__label-arrow:hover:before {color: black;}#sk-container-id-34 div.sk-estimator:hover label.sk-toggleable__label-arrow:before {color: black;}#sk-container-id-34 div.sk-toggleable__content {max-height: 0;max-width: 0;overflow: hidden;text-align: left;background-color: #f0f8ff;}#sk-container-id-34 div.sk-toggleable__content pre {margin: 0.2em;color: black;border-radius: 0.25em;background-color: #f0f8ff;}#sk-container-id-34 input.sk-toggleable__control:checked~div.sk-toggleable__content {max-height: 200px;max-width: 100%;overflow: auto;}#sk-container-id-34 input.sk-toggleable__control:checked~label.sk-toggleable__label-arrow:before {content: \"▾\";}#sk-container-id-34 div.sk-estimator input.sk-toggleable__control:checked~label.sk-toggleable__label {background-color: #d4ebff;}#sk-container-id-34 div.sk-label input.sk-toggleable__control:checked~label.sk-toggleable__label {background-color: #d4ebff;}#sk-container-id-34 input.sk-hidden--visually {border: 0;clip: rect(1px 1px 1px 1px);clip: rect(1px, 1px, 1px, 1px);height: 1px;margin: -1px;overflow: hidden;padding: 0;position: absolute;width: 1px;}#sk-container-id-34 div.sk-estimator {font-family: monospace;background-color: #f0f8ff;border: 1px dotted black;border-radius: 0.25em;box-sizing: border-box;margin-bottom: 0.5em;}#sk-container-id-34 div.sk-estimator:hover {background-color: #d4ebff;}#sk-container-id-34 div.sk-parallel-item::after {content: \"\";width: 100%;border-bottom: 1px solid gray;flex-grow: 1;}#sk-container-id-34 div.sk-label:hover label.sk-toggleable__label {background-color: #d4ebff;}#sk-container-id-34 div.sk-serial::before {content: \"\";position: absolute;border-left: 1px solid gray;box-sizing: border-box;top: 0;bottom: 0;left: 50%;z-index: 0;}#sk-container-id-34 div.sk-serial {display: flex;flex-direction: column;align-items: center;background-color: white;padding-right: 0.2em;padding-left: 0.2em;position: relative;}#sk-container-id-34 div.sk-item {position: relative;z-index: 1;}#sk-container-id-34 div.sk-parallel {display: flex;align-items: stretch;justify-content: center;background-color: white;position: relative;}#sk-container-id-34 div.sk-item::before, #sk-container-id-34 div.sk-parallel-item::before {content: \"\";position: absolute;border-left: 1px solid gray;box-sizing: border-box;top: 0;bottom: 0;left: 50%;z-index: -1;}#sk-container-id-34 div.sk-parallel-item {display: flex;flex-direction: column;z-index: 1;position: relative;background-color: white;}#sk-container-id-34 div.sk-parallel-item:first-child::after {align-self: flex-end;width: 50%;}#sk-container-id-34 div.sk-parallel-item:last-child::after {align-self: flex-start;width: 50%;}#sk-container-id-34 div.sk-parallel-item:only-child::after {width: 0;}#sk-container-id-34 div.sk-dashed-wrapped {border: 1px dashed gray;margin: 0 0.4em 0.5em 0.4em;box-sizing: border-box;padding-bottom: 0.4em;background-color: white;}#sk-container-id-34 div.sk-label label {font-family: monospace;font-weight: bold;display: inline-block;line-height: 1.2em;}#sk-container-id-34 div.sk-label-container {text-align: center;}#sk-container-id-34 div.sk-container {/* jupyter's `normalize.less` sets `[hidden] { display: none; }` but bootstrap.min.css set `[hidden] { display: none !important; }` so we also need the `!important` here to be able to override the default hidden behavior on the sphinx rendered scikit-learn.org. See: https://github.com/scikit-learn/scikit-learn/issues/21755 */display: inline-block !important;position: relative;}#sk-container-id-34 div.sk-text-repr-fallback {display: none;}</style><div id=\"sk-container-id-34\" class=\"sk-top-container\"><div class=\"sk-text-repr-fallback\"><pre>RandomForestClassifier(n_estimators=300, n_jobs=3, random_state=1)</pre><b>In a Jupyter environment, please rerun this cell to show the HTML representation or trust the notebook. <br />On GitHub, the HTML representation is unable to render, please try loading this page with nbviewer.org.</b></div><div class=\"sk-container\" hidden><div class=\"sk-item\"><div class=\"sk-estimator sk-toggleable\"><input class=\"sk-toggleable__control sk-hidden--visually\" id=\"sk-estimator-id-70\" type=\"checkbox\" checked><label for=\"sk-estimator-id-70\" class=\"sk-toggleable__label sk-toggleable__label-arrow\">RandomForestClassifier</label><div class=\"sk-toggleable__content\"><pre>RandomForestClassifier(n_estimators=300, n_jobs=3, random_state=1)</pre></div></div></div></div></div>"
      ],
      "text/plain": [
       "RandomForestClassifier(n_estimators=300, n_jobs=3, random_state=1)"
      ]
     },
     "execution_count": 257,
     "metadata": {},
     "output_type": "execute_result"
    }
   ],
   "source": [
    "# retain model\n",
    "rf_clf = RandomForestClassifier(random_state=1, n_jobs= 3,\n",
    "                                criterion= \"gini\",\n",
    "                                n_estimators= 300,\n",
    "                                max_features= \"sqrt\")\n",
    "rf_clf.fit(X= train_encoded[feature_cols], y= train_encoded[\"Y\"])"
   ]
  },
  {
   "cell_type": "code",
   "execution_count": 259,
   "id": "0f15fa01",
   "metadata": {},
   "outputs": [],
   "source": [
    "rf_pred = rf_clf.predict_proba(kaggle_encoded[feature_cols])"
   ]
  },
  {
   "cell_type": "code",
   "execution_count": 61,
   "id": "80cc291f",
   "metadata": {},
   "outputs": [],
   "source": [
    "df_pred = pd.concat([kaggle_df['ID'], pd.DataFrame(rf_pred,columns=['pred'])], axis = 1)\n",
    "df_pred.to_csv('pred_values.csv',index=False)"
   ]
  },
  {
   "cell_type": "markdown",
   "id": "f816d9a3",
   "metadata": {},
   "source": [
    "## SVM"
   ]
  },
  {
   "cell_type": "code",
   "execution_count": 120,
   "id": "8ee319fd",
   "metadata": {},
   "outputs": [],
   "source": [
    "from sklearn.utils import resample\n",
    "from sklearn.preprocessing import scale\n",
    "from sklearn.svm import SVC"
   ]
  },
  {
   "cell_type": "code",
   "execution_count": 295,
   "id": "44be8f92",
   "metadata": {},
   "outputs": [],
   "source": [
    "train_encoded = pd.get_dummies(train_df, columns= cat_cols)\n",
    "train_encoded = train_encoded.drop(\"ID\", axis= 1)\n",
    "train_encoded = train_encoded.drop(\"customer_profile\", axis= 1)"
   ]
  },
  {
   "cell_type": "code",
   "execution_count": 296,
   "id": "ca5a94ef",
   "metadata": {},
   "outputs": [],
   "source": [
    "kaggle_encoded = pd.get_dummies(kaggle_df, columns= cat_cols)\n",
    "kaggle_encoded = kaggle_encoded.drop(\"ID\", axis= 1)\n",
    "kaggle_encoded = kaggle_encoded.drop(\"customer_profile\", axis= 1)"
   ]
  },
  {
   "cell_type": "code",
   "execution_count": 297,
   "id": "feb4fc53",
   "metadata": {},
   "outputs": [],
   "source": [
    "test_encoded = pd.get_dummies(test_df, columns= cat_cols)\n",
    "test_encoded = test_encoded.drop(\"ID\", axis= 1)\n",
    "test_encoded = test_encoded.drop(\"customer_profile\", axis= 1)"
   ]
  },
  {
   "cell_type": "code",
   "execution_count": 298,
   "id": "e7a36d76",
   "metadata": {},
   "outputs": [],
   "source": [
    "feature_cols = [col for col in train_encoded.columns if col != \"Y\"]"
   ]
  },
  {
   "cell_type": "code",
   "execution_count": 299,
   "id": "633c3bd3",
   "metadata": {},
   "outputs": [],
   "source": [
    "X = train_encoded.drop(\"Y\", axis= 1).copy()\n",
    "y= train_encoded[\"Y\"].copy()"
   ]
  },
  {
   "cell_type": "markdown",
   "id": "49a314da",
   "metadata": {},
   "source": [
    "Centering data"
   ]
  },
  {
   "cell_type": "code",
   "execution_count": 300,
   "id": "0cfc8996",
   "metadata": {},
   "outputs": [],
   "source": [
    "X_train_scaled = scale(X)\n",
    "y_train = y"
   ]
  },
  {
   "cell_type": "code",
   "execution_count": 301,
   "id": "0aa0a733",
   "metadata": {},
   "outputs": [],
   "source": [
    "# X_train, X_test, y_train, y_test = train_test_split(X, y, random_state=1)\n",
    "# X_train_scaled = scale(X_train)\n",
    "# X_test_scaled = scale(X_test)\n",
    "X_kaggle_scaled = scale(kaggle_encoded[feature_cols])"
   ]
  },
  {
   "cell_type": "code",
   "execution_count": 306,
   "id": "c3e03b6c",
   "metadata": {},
   "outputs": [
    {
     "data": {
      "text/html": [
       "<style>#sk-container-id-37 {color: black;}#sk-container-id-37 pre{padding: 0;}#sk-container-id-37 div.sk-toggleable {background-color: white;}#sk-container-id-37 label.sk-toggleable__label {cursor: pointer;display: block;width: 100%;margin-bottom: 0;padding: 0.3em;box-sizing: border-box;text-align: center;}#sk-container-id-37 label.sk-toggleable__label-arrow:before {content: \"▸\";float: left;margin-right: 0.25em;color: #696969;}#sk-container-id-37 label.sk-toggleable__label-arrow:hover:before {color: black;}#sk-container-id-37 div.sk-estimator:hover label.sk-toggleable__label-arrow:before {color: black;}#sk-container-id-37 div.sk-toggleable__content {max-height: 0;max-width: 0;overflow: hidden;text-align: left;background-color: #f0f8ff;}#sk-container-id-37 div.sk-toggleable__content pre {margin: 0.2em;color: black;border-radius: 0.25em;background-color: #f0f8ff;}#sk-container-id-37 input.sk-toggleable__control:checked~div.sk-toggleable__content {max-height: 200px;max-width: 100%;overflow: auto;}#sk-container-id-37 input.sk-toggleable__control:checked~label.sk-toggleable__label-arrow:before {content: \"▾\";}#sk-container-id-37 div.sk-estimator input.sk-toggleable__control:checked~label.sk-toggleable__label {background-color: #d4ebff;}#sk-container-id-37 div.sk-label input.sk-toggleable__control:checked~label.sk-toggleable__label {background-color: #d4ebff;}#sk-container-id-37 input.sk-hidden--visually {border: 0;clip: rect(1px 1px 1px 1px);clip: rect(1px, 1px, 1px, 1px);height: 1px;margin: -1px;overflow: hidden;padding: 0;position: absolute;width: 1px;}#sk-container-id-37 div.sk-estimator {font-family: monospace;background-color: #f0f8ff;border: 1px dotted black;border-radius: 0.25em;box-sizing: border-box;margin-bottom: 0.5em;}#sk-container-id-37 div.sk-estimator:hover {background-color: #d4ebff;}#sk-container-id-37 div.sk-parallel-item::after {content: \"\";width: 100%;border-bottom: 1px solid gray;flex-grow: 1;}#sk-container-id-37 div.sk-label:hover label.sk-toggleable__label {background-color: #d4ebff;}#sk-container-id-37 div.sk-serial::before {content: \"\";position: absolute;border-left: 1px solid gray;box-sizing: border-box;top: 0;bottom: 0;left: 50%;z-index: 0;}#sk-container-id-37 div.sk-serial {display: flex;flex-direction: column;align-items: center;background-color: white;padding-right: 0.2em;padding-left: 0.2em;position: relative;}#sk-container-id-37 div.sk-item {position: relative;z-index: 1;}#sk-container-id-37 div.sk-parallel {display: flex;align-items: stretch;justify-content: center;background-color: white;position: relative;}#sk-container-id-37 div.sk-item::before, #sk-container-id-37 div.sk-parallel-item::before {content: \"\";position: absolute;border-left: 1px solid gray;box-sizing: border-box;top: 0;bottom: 0;left: 50%;z-index: -1;}#sk-container-id-37 div.sk-parallel-item {display: flex;flex-direction: column;z-index: 1;position: relative;background-color: white;}#sk-container-id-37 div.sk-parallel-item:first-child::after {align-self: flex-end;width: 50%;}#sk-container-id-37 div.sk-parallel-item:last-child::after {align-self: flex-start;width: 50%;}#sk-container-id-37 div.sk-parallel-item:only-child::after {width: 0;}#sk-container-id-37 div.sk-dashed-wrapped {border: 1px dashed gray;margin: 0 0.4em 0.5em 0.4em;box-sizing: border-box;padding-bottom: 0.4em;background-color: white;}#sk-container-id-37 div.sk-label label {font-family: monospace;font-weight: bold;display: inline-block;line-height: 1.2em;}#sk-container-id-37 div.sk-label-container {text-align: center;}#sk-container-id-37 div.sk-container {/* jupyter's `normalize.less` sets `[hidden] { display: none; }` but bootstrap.min.css set `[hidden] { display: none !important; }` so we also need the `!important` here to be able to override the default hidden behavior on the sphinx rendered scikit-learn.org. See: https://github.com/scikit-learn/scikit-learn/issues/21755 */display: inline-block !important;position: relative;}#sk-container-id-37 div.sk-text-repr-fallback {display: none;}</style><div id=\"sk-container-id-37\" class=\"sk-top-container\"><div class=\"sk-text-repr-fallback\"><pre>SVC(random_state=1)</pre><b>In a Jupyter environment, please rerun this cell to show the HTML representation or trust the notebook. <br />On GitHub, the HTML representation is unable to render, please try loading this page with nbviewer.org.</b></div><div class=\"sk-container\" hidden><div class=\"sk-item\"><div class=\"sk-estimator sk-toggleable\"><input class=\"sk-toggleable__control sk-hidden--visually\" id=\"sk-estimator-id-73\" type=\"checkbox\" checked><label for=\"sk-estimator-id-73\" class=\"sk-toggleable__label sk-toggleable__label-arrow\">SVC</label><div class=\"sk-toggleable__content\"><pre>SVC(random_state=1)</pre></div></div></div></div></div>"
      ],
      "text/plain": [
       "SVC(random_state=1)"
      ]
     },
     "execution_count": 306,
     "metadata": {},
     "output_type": "execute_result"
    }
   ],
   "source": [
    "clf_svm = SVC(random_state=1)\n",
    "clf_svm.fit(X_train_scaled, y_train)"
   ]
  },
  {
   "cell_type": "code",
   "execution_count": 307,
   "id": "a3808ac8",
   "metadata": {},
   "outputs": [
    {
     "data": {
      "text/plain": [
       "['credit_score',\n",
       " 'tenure',\n",
       " 'balance',\n",
       " 'number_of_products',\n",
       " 'has_credit_card',\n",
       " 'is_active_member',\n",
       " 'salary',\n",
       " 'age',\n",
       " 'gender_female',\n",
       " 'gender_male',\n",
       " 'countary_france',\n",
       " 'countary_germany',\n",
       " 'countary_spain']"
      ]
     },
     "execution_count": 307,
     "metadata": {},
     "output_type": "execute_result"
    }
   ],
   "source": [
    "feature_cols"
   ]
  },
  {
   "cell_type": "code",
   "execution_count": 308,
   "id": "5ccd9c66",
   "metadata": {},
   "outputs": [],
   "source": [
    "svm_pred = clf_svm.predict(X_kaggle_scaled)"
   ]
  },
  {
   "cell_type": "code",
   "execution_count": 309,
   "id": "b3ba297e",
   "metadata": {},
   "outputs": [],
   "source": [
    "df_pred = pd.concat([kaggle_df['ID'], pd.DataFrame(svm_pred,columns=['pred'])], axis = 1)\n",
    "df_pred.to_csv('pred_values.csv',index=False)"
   ]
  },
  {
   "cell_type": "markdown",
   "id": "7e907558",
   "metadata": {},
   "source": [
    "SVM based model result 0.53674"
   ]
  },
  {
   "cell_type": "markdown",
   "id": "fa1517a9",
   "metadata": {},
   "source": [
    "## Add Both Interaction"
   ]
  },
  {
   "cell_type": "code",
   "execution_count": 144,
   "id": "61f01245",
   "metadata": {},
   "outputs": [],
   "source": [
    "train_df[\"age\"] = train_df[\"customer_profile\"].apply(extract_age)\n",
    "train_df[\"gender\"] = train_df[\"customer_profile\"].apply(extract_gender)\n",
    "train_df[\"countary\"] = train_df[\"customer_profile\"].apply(extract_countary)\n",
    "\n",
    "kaggle_df[\"age\"] = kaggle_df[\"customer_profile\"].apply(extract_age)\n",
    "kaggle_df[\"gender\"] = kaggle_df[\"customer_profile\"].apply(extract_gender)\n",
    "kaggle_df[\"countary\"] = kaggle_df[\"customer_profile\"].apply(extract_countary)\n",
    "\n",
    "test_df[\"age\"] = test_df[\"customer_profile\"].apply(extract_age)\n",
    "test_df[\"gender\"] = test_df[\"customer_profile\"].apply(extract_gender)\n",
    "test_df[\"countary\"] = test_df[\"customer_profile\"].apply(extract_countary)"
   ]
  },
  {
   "cell_type": "code",
   "execution_count": 145,
   "id": "f49b19ba",
   "metadata": {},
   "outputs": [],
   "source": [
    "cat_cols = [\"gender\", \"countary\"]"
   ]
  },
  {
   "cell_type": "code",
   "execution_count": 146,
   "id": "6134cb2f",
   "metadata": {},
   "outputs": [],
   "source": [
    "train_encoded = pd.get_dummies(train_df, columns= cat_cols)\n",
    "train_encoded = train_encoded.drop(\"ID\", axis= 1)\n",
    "train_encoded = train_encoded.drop(\"customer_profile\", axis= 1)\n",
    "\n",
    "kaggle_encoded = pd.get_dummies(kaggle_df, columns= cat_cols)\n",
    "kaggle_encoded = kaggle_encoded.drop(\"ID\", axis= 1)\n",
    "kaggle_encoded = kaggle_encoded.drop(\"customer_profile\", axis= 1)\n",
    "\n",
    "test_encoded = pd.get_dummies(test_df, columns= cat_cols)\n",
    "test_encoded = test_encoded.drop(\"ID\", axis= 1)\n",
    "test_encoded = test_encoded.drop(\"customer_profile\", axis= 1)"
   ]
  },
  {
   "cell_type": "code",
   "execution_count": 147,
   "id": "f76e672d",
   "metadata": {},
   "outputs": [],
   "source": [
    "train_encoded[\"credit_score/age\"] = train_encoded[\"credit_score\"] / train_encoded[\"age\"]\n",
    "train_encoded[\"age/number_of_product\"] = train_encoded[\"age\"] / train_encoded[\"number_of_products\"]\n",
    "\n",
    "\n",
    "kaggle_encoded[\"credit_score/age\"] = kaggle_encoded[\"credit_score\"] / kaggle_encoded[\"age\"]\n",
    "kaggle_encoded[\"age/number_of_product\"] = kaggle_encoded[\"age\"] / kaggle_encoded[\"number_of_products\"]\n",
    "\n",
    "\n",
    "test_encoded[\"credit_score/age\"] = test_encoded[\"credit_score\"] / test_encoded[\"age\"]\n",
    "test_encoded[\"age/number_of_product\"] = test_encoded[\"age\"] / test_encoded[\"number_of_products\"]"
   ]
  },
  {
   "cell_type": "code",
   "execution_count": 148,
   "id": "982e327c",
   "metadata": {},
   "outputs": [],
   "source": [
    "feature_cols = [col for col in train_encoded.columns if col != \"Y\"]"
   ]
  },
  {
   "cell_type": "code",
   "execution_count": 149,
   "id": "60f42a52",
   "metadata": {},
   "outputs": [],
   "source": [
    "X = train_encoded.drop(\"Y\", axis= 1).copy()\n",
    "y= train_encoded[\"Y\"].copy()"
   ]
  },
  {
   "cell_type": "code",
   "execution_count": null,
   "id": "537683c7",
   "metadata": {},
   "outputs": [],
   "source": []
  },
  {
   "cell_type": "markdown",
   "id": "2f3302d9",
   "metadata": {},
   "source": [
    "Centering data"
   ]
  },
  {
   "cell_type": "code",
   "execution_count": 150,
   "id": "3e774fa1",
   "metadata": {},
   "outputs": [],
   "source": [
    "X_train_scaled = scale(X)\n",
    "y_train = y"
   ]
  },
  {
   "cell_type": "code",
   "execution_count": 151,
   "id": "327296dd",
   "metadata": {},
   "outputs": [],
   "source": [
    "# X_train, X_test, y_train, y_test = train_test_split(X, y, random_state=1)\n",
    "# X_train_scaled = scale(X_train)\n",
    "# X_test_scaled = scale(X_test)\n",
    "X_kaggle_scaled = scale(kaggle_encoded[feature_cols])"
   ]
  },
  {
   "cell_type": "code",
   "execution_count": 152,
   "id": "62a3c7ec",
   "metadata": {},
   "outputs": [
    {
     "data": {
      "text/html": [
       "<style>#sk-container-id-24 {color: black;}#sk-container-id-24 pre{padding: 0;}#sk-container-id-24 div.sk-toggleable {background-color: white;}#sk-container-id-24 label.sk-toggleable__label {cursor: pointer;display: block;width: 100%;margin-bottom: 0;padding: 0.3em;box-sizing: border-box;text-align: center;}#sk-container-id-24 label.sk-toggleable__label-arrow:before {content: \"▸\";float: left;margin-right: 0.25em;color: #696969;}#sk-container-id-24 label.sk-toggleable__label-arrow:hover:before {color: black;}#sk-container-id-24 div.sk-estimator:hover label.sk-toggleable__label-arrow:before {color: black;}#sk-container-id-24 div.sk-toggleable__content {max-height: 0;max-width: 0;overflow: hidden;text-align: left;background-color: #f0f8ff;}#sk-container-id-24 div.sk-toggleable__content pre {margin: 0.2em;color: black;border-radius: 0.25em;background-color: #f0f8ff;}#sk-container-id-24 input.sk-toggleable__control:checked~div.sk-toggleable__content {max-height: 200px;max-width: 100%;overflow: auto;}#sk-container-id-24 input.sk-toggleable__control:checked~label.sk-toggleable__label-arrow:before {content: \"▾\";}#sk-container-id-24 div.sk-estimator input.sk-toggleable__control:checked~label.sk-toggleable__label {background-color: #d4ebff;}#sk-container-id-24 div.sk-label input.sk-toggleable__control:checked~label.sk-toggleable__label {background-color: #d4ebff;}#sk-container-id-24 input.sk-hidden--visually {border: 0;clip: rect(1px 1px 1px 1px);clip: rect(1px, 1px, 1px, 1px);height: 1px;margin: -1px;overflow: hidden;padding: 0;position: absolute;width: 1px;}#sk-container-id-24 div.sk-estimator {font-family: monospace;background-color: #f0f8ff;border: 1px dotted black;border-radius: 0.25em;box-sizing: border-box;margin-bottom: 0.5em;}#sk-container-id-24 div.sk-estimator:hover {background-color: #d4ebff;}#sk-container-id-24 div.sk-parallel-item::after {content: \"\";width: 100%;border-bottom: 1px solid gray;flex-grow: 1;}#sk-container-id-24 div.sk-label:hover label.sk-toggleable__label {background-color: #d4ebff;}#sk-container-id-24 div.sk-serial::before {content: \"\";position: absolute;border-left: 1px solid gray;box-sizing: border-box;top: 0;bottom: 0;left: 50%;z-index: 0;}#sk-container-id-24 div.sk-serial {display: flex;flex-direction: column;align-items: center;background-color: white;padding-right: 0.2em;padding-left: 0.2em;position: relative;}#sk-container-id-24 div.sk-item {position: relative;z-index: 1;}#sk-container-id-24 div.sk-parallel {display: flex;align-items: stretch;justify-content: center;background-color: white;position: relative;}#sk-container-id-24 div.sk-item::before, #sk-container-id-24 div.sk-parallel-item::before {content: \"\";position: absolute;border-left: 1px solid gray;box-sizing: border-box;top: 0;bottom: 0;left: 50%;z-index: -1;}#sk-container-id-24 div.sk-parallel-item {display: flex;flex-direction: column;z-index: 1;position: relative;background-color: white;}#sk-container-id-24 div.sk-parallel-item:first-child::after {align-self: flex-end;width: 50%;}#sk-container-id-24 div.sk-parallel-item:last-child::after {align-self: flex-start;width: 50%;}#sk-container-id-24 div.sk-parallel-item:only-child::after {width: 0;}#sk-container-id-24 div.sk-dashed-wrapped {border: 1px dashed gray;margin: 0 0.4em 0.5em 0.4em;box-sizing: border-box;padding-bottom: 0.4em;background-color: white;}#sk-container-id-24 div.sk-label label {font-family: monospace;font-weight: bold;display: inline-block;line-height: 1.2em;}#sk-container-id-24 div.sk-label-container {text-align: center;}#sk-container-id-24 div.sk-container {/* jupyter's `normalize.less` sets `[hidden] { display: none; }` but bootstrap.min.css set `[hidden] { display: none !important; }` so we also need the `!important` here to be able to override the default hidden behavior on the sphinx rendered scikit-learn.org. See: https://github.com/scikit-learn/scikit-learn/issues/21755 */display: inline-block !important;position: relative;}#sk-container-id-24 div.sk-text-repr-fallback {display: none;}</style><div id=\"sk-container-id-24\" class=\"sk-top-container\"><div class=\"sk-text-repr-fallback\"><pre>SVC(random_state=1)</pre><b>In a Jupyter environment, please rerun this cell to show the HTML representation or trust the notebook. <br />On GitHub, the HTML representation is unable to render, please try loading this page with nbviewer.org.</b></div><div class=\"sk-container\" hidden><div class=\"sk-item\"><div class=\"sk-estimator sk-toggleable\"><input class=\"sk-toggleable__control sk-hidden--visually\" id=\"sk-estimator-id-48\" type=\"checkbox\" checked><label for=\"sk-estimator-id-48\" class=\"sk-toggleable__label sk-toggleable__label-arrow\">SVC</label><div class=\"sk-toggleable__content\"><pre>SVC(random_state=1)</pre></div></div></div></div></div>"
      ],
      "text/plain": [
       "SVC(random_state=1)"
      ]
     },
     "execution_count": 152,
     "metadata": {},
     "output_type": "execute_result"
    }
   ],
   "source": [
    "clf_svm = SVC(random_state=1)\n",
    "clf_svm.fit(X_train_scaled, y_train)"
   ]
  },
  {
   "cell_type": "code",
   "execution_count": 153,
   "id": "72aaf2e3",
   "metadata": {},
   "outputs": [],
   "source": [
    "svm_pred = clf_svm.predict(X_kaggle_scaled)"
   ]
  },
  {
   "cell_type": "code",
   "execution_count": 154,
   "id": "3d322280",
   "metadata": {},
   "outputs": [],
   "source": [
    "df_pred = pd.concat([kaggle_df['ID'], pd.DataFrame(svm_pred,columns=['pred'])], axis = 1)\n",
    "df_pred.to_csv('pred_values.csv',index=False)"
   ]
  },
  {
   "cell_type": "markdown",
   "id": "1b684020",
   "metadata": {},
   "source": [
    "Result of\\\n",
    "* based 0.53674\n",
    "* 2 interaciton 0.55172"
   ]
  },
  {
   "cell_type": "markdown",
   "id": "bf3551cf",
   "metadata": {},
   "source": [
    "## Fine-Tune parameters"
   ]
  },
  {
   "cell_type": "code",
   "execution_count": 155,
   "id": "7aa4c729",
   "metadata": {},
   "outputs": [],
   "source": [
    "train_df[\"age\"] = train_df[\"customer_profile\"].apply(extract_age)\n",
    "train_df[\"gender\"] = train_df[\"customer_profile\"].apply(extract_gender)\n",
    "train_df[\"countary\"] = train_df[\"customer_profile\"].apply(extract_countary)\n",
    "\n",
    "kaggle_df[\"age\"] = kaggle_df[\"customer_profile\"].apply(extract_age)\n",
    "kaggle_df[\"gender\"] = kaggle_df[\"customer_profile\"].apply(extract_gender)\n",
    "kaggle_df[\"countary\"] = kaggle_df[\"customer_profile\"].apply(extract_countary)\n",
    "\n",
    "test_df[\"age\"] = test_df[\"customer_profile\"].apply(extract_age)\n",
    "test_df[\"gender\"] = test_df[\"customer_profile\"].apply(extract_gender)\n",
    "test_df[\"countary\"] = test_df[\"customer_profile\"].apply(extract_countary)"
   ]
  },
  {
   "cell_type": "code",
   "execution_count": 156,
   "id": "86e83c31",
   "metadata": {},
   "outputs": [],
   "source": [
    "cat_cols = [\"gender\", \"countary\"]"
   ]
  },
  {
   "cell_type": "code",
   "execution_count": 157,
   "id": "e268c105",
   "metadata": {},
   "outputs": [],
   "source": [
    "train_encoded = pd.get_dummies(train_df, columns= cat_cols)\n",
    "train_encoded = train_encoded.drop(\"ID\", axis= 1)\n",
    "train_encoded = train_encoded.drop(\"customer_profile\", axis= 1)\n",
    "\n",
    "kaggle_encoded = pd.get_dummies(kaggle_df, columns= cat_cols)\n",
    "kaggle_encoded = kaggle_encoded.drop(\"ID\", axis= 1)\n",
    "kaggle_encoded = kaggle_encoded.drop(\"customer_profile\", axis= 1)\n",
    "\n",
    "test_encoded = pd.get_dummies(test_df, columns= cat_cols)\n",
    "test_encoded = test_encoded.drop(\"ID\", axis= 1)\n",
    "test_encoded = test_encoded.drop(\"customer_profile\", axis= 1)"
   ]
  },
  {
   "cell_type": "code",
   "execution_count": 158,
   "id": "f0f7a8eb",
   "metadata": {},
   "outputs": [],
   "source": [
    "train_encoded[\"credit_score/age\"] = train_encoded[\"credit_score\"] / train_encoded[\"age\"]\n",
    "train_encoded[\"age/number_of_product\"] = train_encoded[\"age\"] / train_encoded[\"number_of_products\"]\n",
    "\n",
    "\n",
    "kaggle_encoded[\"credit_score/age\"] = kaggle_encoded[\"credit_score\"] / kaggle_encoded[\"age\"]\n",
    "kaggle_encoded[\"age/number_of_product\"] = kaggle_encoded[\"age\"] / kaggle_encoded[\"number_of_products\"]\n",
    "\n",
    "\n",
    "test_encoded[\"credit_score/age\"] = test_encoded[\"credit_score\"] / test_encoded[\"age\"]\n",
    "test_encoded[\"age/number_of_product\"] = test_encoded[\"age\"] / test_encoded[\"number_of_products\"]"
   ]
  },
  {
   "cell_type": "code",
   "execution_count": 159,
   "id": "26a79c44",
   "metadata": {},
   "outputs": [],
   "source": [
    "feature_cols = [col for col in train_encoded.columns if col != \"Y\"]"
   ]
  },
  {
   "cell_type": "code",
   "execution_count": 160,
   "id": "d97dab33",
   "metadata": {},
   "outputs": [],
   "source": [
    "X = train_encoded.drop(\"Y\", axis= 1).copy()\n",
    "y= train_encoded[\"Y\"].copy()"
   ]
  },
  {
   "cell_type": "markdown",
   "id": "e85906d1",
   "metadata": {},
   "source": [
    "Centering data"
   ]
  },
  {
   "cell_type": "code",
   "execution_count": 161,
   "id": "b02a7217",
   "metadata": {},
   "outputs": [],
   "source": [
    "X_train_scaled = scale(X)\n",
    "y_train = y"
   ]
  },
  {
   "cell_type": "code",
   "execution_count": 162,
   "id": "3f2e0b22",
   "metadata": {},
   "outputs": [],
   "source": [
    "# X_train, X_test, y_train, y_test = train_test_split(X, y, random_state=1)\n",
    "# X_train_scaled = scale(X_train)\n",
    "# X_test_scaled = scale(X_test)\n",
    "X_kaggle_scaled = scale(kaggle_encoded[feature_cols])"
   ]
  },
  {
   "cell_type": "markdown",
   "id": "3e3c6e80",
   "metadata": {},
   "source": [
    "**Tune kernel type**"
   ]
  },
  {
   "cell_type": "code",
   "execution_count": 163,
   "id": "ff90eaad",
   "metadata": {},
   "outputs": [
    {
     "data": {
      "text/html": [
       "<style>#sk-container-id-25 {color: black;}#sk-container-id-25 pre{padding: 0;}#sk-container-id-25 div.sk-toggleable {background-color: white;}#sk-container-id-25 label.sk-toggleable__label {cursor: pointer;display: block;width: 100%;margin-bottom: 0;padding: 0.3em;box-sizing: border-box;text-align: center;}#sk-container-id-25 label.sk-toggleable__label-arrow:before {content: \"▸\";float: left;margin-right: 0.25em;color: #696969;}#sk-container-id-25 label.sk-toggleable__label-arrow:hover:before {color: black;}#sk-container-id-25 div.sk-estimator:hover label.sk-toggleable__label-arrow:before {color: black;}#sk-container-id-25 div.sk-toggleable__content {max-height: 0;max-width: 0;overflow: hidden;text-align: left;background-color: #f0f8ff;}#sk-container-id-25 div.sk-toggleable__content pre {margin: 0.2em;color: black;border-radius: 0.25em;background-color: #f0f8ff;}#sk-container-id-25 input.sk-toggleable__control:checked~div.sk-toggleable__content {max-height: 200px;max-width: 100%;overflow: auto;}#sk-container-id-25 input.sk-toggleable__control:checked~label.sk-toggleable__label-arrow:before {content: \"▾\";}#sk-container-id-25 div.sk-estimator input.sk-toggleable__control:checked~label.sk-toggleable__label {background-color: #d4ebff;}#sk-container-id-25 div.sk-label input.sk-toggleable__control:checked~label.sk-toggleable__label {background-color: #d4ebff;}#sk-container-id-25 input.sk-hidden--visually {border: 0;clip: rect(1px 1px 1px 1px);clip: rect(1px, 1px, 1px, 1px);height: 1px;margin: -1px;overflow: hidden;padding: 0;position: absolute;width: 1px;}#sk-container-id-25 div.sk-estimator {font-family: monospace;background-color: #f0f8ff;border: 1px dotted black;border-radius: 0.25em;box-sizing: border-box;margin-bottom: 0.5em;}#sk-container-id-25 div.sk-estimator:hover {background-color: #d4ebff;}#sk-container-id-25 div.sk-parallel-item::after {content: \"\";width: 100%;border-bottom: 1px solid gray;flex-grow: 1;}#sk-container-id-25 div.sk-label:hover label.sk-toggleable__label {background-color: #d4ebff;}#sk-container-id-25 div.sk-serial::before {content: \"\";position: absolute;border-left: 1px solid gray;box-sizing: border-box;top: 0;bottom: 0;left: 50%;z-index: 0;}#sk-container-id-25 div.sk-serial {display: flex;flex-direction: column;align-items: center;background-color: white;padding-right: 0.2em;padding-left: 0.2em;position: relative;}#sk-container-id-25 div.sk-item {position: relative;z-index: 1;}#sk-container-id-25 div.sk-parallel {display: flex;align-items: stretch;justify-content: center;background-color: white;position: relative;}#sk-container-id-25 div.sk-item::before, #sk-container-id-25 div.sk-parallel-item::before {content: \"\";position: absolute;border-left: 1px solid gray;box-sizing: border-box;top: 0;bottom: 0;left: 50%;z-index: -1;}#sk-container-id-25 div.sk-parallel-item {display: flex;flex-direction: column;z-index: 1;position: relative;background-color: white;}#sk-container-id-25 div.sk-parallel-item:first-child::after {align-self: flex-end;width: 50%;}#sk-container-id-25 div.sk-parallel-item:last-child::after {align-self: flex-start;width: 50%;}#sk-container-id-25 div.sk-parallel-item:only-child::after {width: 0;}#sk-container-id-25 div.sk-dashed-wrapped {border: 1px dashed gray;margin: 0 0.4em 0.5em 0.4em;box-sizing: border-box;padding-bottom: 0.4em;background-color: white;}#sk-container-id-25 div.sk-label label {font-family: monospace;font-weight: bold;display: inline-block;line-height: 1.2em;}#sk-container-id-25 div.sk-label-container {text-align: center;}#sk-container-id-25 div.sk-container {/* jupyter's `normalize.less` sets `[hidden] { display: none; }` but bootstrap.min.css set `[hidden] { display: none !important; }` so we also need the `!important` here to be able to override the default hidden behavior on the sphinx rendered scikit-learn.org. See: https://github.com/scikit-learn/scikit-learn/issues/21755 */display: inline-block !important;position: relative;}#sk-container-id-25 div.sk-text-repr-fallback {display: none;}</style><div id=\"sk-container-id-25\" class=\"sk-top-container\"><div class=\"sk-text-repr-fallback\"><pre>GridSearchCV(cv=10, estimator=SVC(),\n",
       "             param_grid=[{&#x27;kernel&#x27;: [&#x27;linear&#x27;, &#x27;poly&#x27;, &#x27;rbf&#x27;, &#x27;sigmoid&#x27;]}],\n",
       "             scoring=&#x27;accuracy&#x27;)</pre><b>In a Jupyter environment, please rerun this cell to show the HTML representation or trust the notebook. <br />On GitHub, the HTML representation is unable to render, please try loading this page with nbviewer.org.</b></div><div class=\"sk-container\" hidden><div class=\"sk-item sk-dashed-wrapped\"><div class=\"sk-label-container\"><div class=\"sk-label sk-toggleable\"><input class=\"sk-toggleable__control sk-hidden--visually\" id=\"sk-estimator-id-49\" type=\"checkbox\" ><label for=\"sk-estimator-id-49\" class=\"sk-toggleable__label sk-toggleable__label-arrow\">GridSearchCV</label><div class=\"sk-toggleable__content\"><pre>GridSearchCV(cv=10, estimator=SVC(),\n",
       "             param_grid=[{&#x27;kernel&#x27;: [&#x27;linear&#x27;, &#x27;poly&#x27;, &#x27;rbf&#x27;, &#x27;sigmoid&#x27;]}],\n",
       "             scoring=&#x27;accuracy&#x27;)</pre></div></div></div><div class=\"sk-parallel\"><div class=\"sk-parallel-item\"><div class=\"sk-item\"><div class=\"sk-label-container\"><div class=\"sk-label sk-toggleable\"><input class=\"sk-toggleable__control sk-hidden--visually\" id=\"sk-estimator-id-50\" type=\"checkbox\" ><label for=\"sk-estimator-id-50\" class=\"sk-toggleable__label sk-toggleable__label-arrow\">estimator: SVC</label><div class=\"sk-toggleable__content\"><pre>SVC()</pre></div></div></div><div class=\"sk-serial\"><div class=\"sk-item\"><div class=\"sk-estimator sk-toggleable\"><input class=\"sk-toggleable__control sk-hidden--visually\" id=\"sk-estimator-id-51\" type=\"checkbox\" ><label for=\"sk-estimator-id-51\" class=\"sk-toggleable__label sk-toggleable__label-arrow\">SVC</label><div class=\"sk-toggleable__content\"><pre>SVC()</pre></div></div></div></div></div></div></div></div></div></div>"
      ],
      "text/plain": [
       "GridSearchCV(cv=10, estimator=SVC(),\n",
       "             param_grid=[{'kernel': ['linear', 'poly', 'rbf', 'sigmoid']}],\n",
       "             scoring='accuracy')"
      ]
     },
     "execution_count": 163,
     "metadata": {},
     "output_type": "execute_result"
    }
   ],
   "source": [
    "param_grid = [\n",
    "    {\"kernel\": [\"linear\", \"poly\", \"rbf\", \"sigmoid\"]}\n",
    "]\n",
    "\n",
    "optimal_params = GridSearchCV(\n",
    "    SVC(),\n",
    "    param_grid,\n",
    "    cv= 10,\n",
    "    scoring= \"accuracy\",\n",
    "    verbose=0\n",
    ")\n",
    "\n",
    "optimal_params.fit(X_train_scaled, y_train)"
   ]
  },
  {
   "cell_type": "code",
   "execution_count": 186,
   "id": "f48a9cad",
   "metadata": {},
   "outputs": [],
   "source": [
    "x = [dict_[\"kernel\"] for dict_ in optimal_params.cv_results_[\"params\"]]\n",
    "y = list(optimal_params.cv_results_[\"mean_test_score\"])"
   ]
  },
  {
   "cell_type": "code",
   "execution_count": 187,
   "id": "f72db3ee",
   "metadata": {},
   "outputs": [
    {
     "data": {
      "image/png": "[encoded data removed]",
      "text/plain": [
       "<Figure size 640x480 with 1 Axes>"
      ]
     },
     "metadata": {},
     "output_type": "display_data"
    }
   ],
   "source": [
    "sns.lineplot(x= x, y= y)\n",
    "plt.xlabel(\"max_features\")\n",
    "plt.ylabel(\"Mean Accuracy Score\")\n",
    "plt.show()"
   ]
  },
  {
   "cell_type": "markdown",
   "id": "88f0a529",
   "metadata": {},
   "source": [
    "result: 0.55172"
   ]
  },
  {
   "cell_type": "markdown",
   "id": "fa22a39e",
   "metadata": {},
   "source": [
    "**Tune C**"
   ]
  },
  {
   "cell_type": "markdown",
   "id": "f0325840",
   "metadata": {},
   "source": [
    "Tune kernel type"
   ]
  },
  {
   "cell_type": "code",
   "execution_count": 198,
   "id": "cc702204",
   "metadata": {},
   "outputs": [
    {
     "data": {
      "text/html": [
       "<style>#sk-container-id-29 {color: black;}#sk-container-id-29 pre{padding: 0;}#sk-container-id-29 div.sk-toggleable {background-color: white;}#sk-container-id-29 label.sk-toggleable__label {cursor: pointer;display: block;width: 100%;margin-bottom: 0;padding: 0.3em;box-sizing: border-box;text-align: center;}#sk-container-id-29 label.sk-toggleable__label-arrow:before {content: \"▸\";float: left;margin-right: 0.25em;color: #696969;}#sk-container-id-29 label.sk-toggleable__label-arrow:hover:before {color: black;}#sk-container-id-29 div.sk-estimator:hover label.sk-toggleable__label-arrow:before {color: black;}#sk-container-id-29 div.sk-toggleable__content {max-height: 0;max-width: 0;overflow: hidden;text-align: left;background-color: #f0f8ff;}#sk-container-id-29 div.sk-toggleable__content pre {margin: 0.2em;color: black;border-radius: 0.25em;background-color: #f0f8ff;}#sk-container-id-29 input.sk-toggleable__control:checked~div.sk-toggleable__content {max-height: 200px;max-width: 100%;overflow: auto;}#sk-container-id-29 input.sk-toggleable__control:checked~label.sk-toggleable__label-arrow:before {content: \"▾\";}#sk-container-id-29 div.sk-estimator input.sk-toggleable__control:checked~label.sk-toggleable__label {background-color: #d4ebff;}#sk-container-id-29 div.sk-label input.sk-toggleable__control:checked~label.sk-toggleable__label {background-color: #d4ebff;}#sk-container-id-29 input.sk-hidden--visually {border: 0;clip: rect(1px 1px 1px 1px);clip: rect(1px, 1px, 1px, 1px);height: 1px;margin: -1px;overflow: hidden;padding: 0;position: absolute;width: 1px;}#sk-container-id-29 div.sk-estimator {font-family: monospace;background-color: #f0f8ff;border: 1px dotted black;border-radius: 0.25em;box-sizing: border-box;margin-bottom: 0.5em;}#sk-container-id-29 div.sk-estimator:hover {background-color: #d4ebff;}#sk-container-id-29 div.sk-parallel-item::after {content: \"\";width: 100%;border-bottom: 1px solid gray;flex-grow: 1;}#sk-container-id-29 div.sk-label:hover label.sk-toggleable__label {background-color: #d4ebff;}#sk-container-id-29 div.sk-serial::before {content: \"\";position: absolute;border-left: 1px solid gray;box-sizing: border-box;top: 0;bottom: 0;left: 50%;z-index: 0;}#sk-container-id-29 div.sk-serial {display: flex;flex-direction: column;align-items: center;background-color: white;padding-right: 0.2em;padding-left: 0.2em;position: relative;}#sk-container-id-29 div.sk-item {position: relative;z-index: 1;}#sk-container-id-29 div.sk-parallel {display: flex;align-items: stretch;justify-content: center;background-color: white;position: relative;}#sk-container-id-29 div.sk-item::before, #sk-container-id-29 div.sk-parallel-item::before {content: \"\";position: absolute;border-left: 1px solid gray;box-sizing: border-box;top: 0;bottom: 0;left: 50%;z-index: -1;}#sk-container-id-29 div.sk-parallel-item {display: flex;flex-direction: column;z-index: 1;position: relative;background-color: white;}#sk-container-id-29 div.sk-parallel-item:first-child::after {align-self: flex-end;width: 50%;}#sk-container-id-29 div.sk-parallel-item:last-child::after {align-self: flex-start;width: 50%;}#sk-container-id-29 div.sk-parallel-item:only-child::after {width: 0;}#sk-container-id-29 div.sk-dashed-wrapped {border: 1px dashed gray;margin: 0 0.4em 0.5em 0.4em;box-sizing: border-box;padding-bottom: 0.4em;background-color: white;}#sk-container-id-29 div.sk-label label {font-family: monospace;font-weight: bold;display: inline-block;line-height: 1.2em;}#sk-container-id-29 div.sk-label-container {text-align: center;}#sk-container-id-29 div.sk-container {/* jupyter's `normalize.less` sets `[hidden] { display: none; }` but bootstrap.min.css set `[hidden] { display: none !important; }` so we also need the `!important` here to be able to override the default hidden behavior on the sphinx rendered scikit-learn.org. See: https://github.com/scikit-learn/scikit-learn/issues/21755 */display: inline-block !important;position: relative;}#sk-container-id-29 div.sk-text-repr-fallback {display: none;}</style><div id=\"sk-container-id-29\" class=\"sk-top-container\"><div class=\"sk-text-repr-fallback\"><pre>GridSearchCV(cv=10, estimator=SVC(), param_grid=[{&#x27;C&#x27;: [0.5, 1, 10, 100]}],\n",
       "             scoring=&#x27;accuracy&#x27;)</pre><b>In a Jupyter environment, please rerun this cell to show the HTML representation or trust the notebook. <br />On GitHub, the HTML representation is unable to render, please try loading this page with nbviewer.org.</b></div><div class=\"sk-container\" hidden><div class=\"sk-item sk-dashed-wrapped\"><div class=\"sk-label-container\"><div class=\"sk-label sk-toggleable\"><input class=\"sk-toggleable__control sk-hidden--visually\" id=\"sk-estimator-id-61\" type=\"checkbox\" ><label for=\"sk-estimator-id-61\" class=\"sk-toggleable__label sk-toggleable__label-arrow\">GridSearchCV</label><div class=\"sk-toggleable__content\"><pre>GridSearchCV(cv=10, estimator=SVC(), param_grid=[{&#x27;C&#x27;: [0.5, 1, 10, 100]}],\n",
       "             scoring=&#x27;accuracy&#x27;)</pre></div></div></div><div class=\"sk-parallel\"><div class=\"sk-parallel-item\"><div class=\"sk-item\"><div class=\"sk-label-container\"><div class=\"sk-label sk-toggleable\"><input class=\"sk-toggleable__control sk-hidden--visually\" id=\"sk-estimator-id-62\" type=\"checkbox\" ><label for=\"sk-estimator-id-62\" class=\"sk-toggleable__label sk-toggleable__label-arrow\">estimator: SVC</label><div class=\"sk-toggleable__content\"><pre>SVC()</pre></div></div></div><div class=\"sk-serial\"><div class=\"sk-item\"><div class=\"sk-estimator sk-toggleable\"><input class=\"sk-toggleable__control sk-hidden--visually\" id=\"sk-estimator-id-63\" type=\"checkbox\" ><label for=\"sk-estimator-id-63\" class=\"sk-toggleable__label sk-toggleable__label-arrow\">SVC</label><div class=\"sk-toggleable__content\"><pre>SVC()</pre></div></div></div></div></div></div></div></div></div></div>"
      ],
      "text/plain": [
       "GridSearchCV(cv=10, estimator=SVC(), param_grid=[{'C': [0.5, 1, 10, 100]}],\n",
       "             scoring='accuracy')"
      ]
     },
     "execution_count": 198,
     "metadata": {},
     "output_type": "execute_result"
    }
   ],
   "source": [
    "param_grid = [\n",
    "    {\"C\": [0.5, 1, 10, 100]}\n",
    "]\n",
    "\n",
    "optimal_params2 = GridSearchCV(\n",
    "    SVC(),\n",
    "    param_grid,\n",
    "    cv= 10,\n",
    "    scoring= \"accuracy\",\n",
    "    verbose=0\n",
    ")\n",
    "\n",
    "optimal_params2.fit(X_train_scaled, y_train)"
   ]
  },
  {
   "cell_type": "code",
   "execution_count": 201,
   "id": "ce7a69e7",
   "metadata": {},
   "outputs": [],
   "source": [
    "x = [dict_[\"C\"] for dict_ in optimal_params2.cv_results_[\"params\"]]\n",
    "y = list(optimal_params2.cv_results_[\"mean_test_score\"])"
   ]
  },
  {
   "cell_type": "code",
   "execution_count": 202,
   "id": "abaf855b",
   "metadata": {},
   "outputs": [
    {
     "data": {
      "image/png": "[encoded data removed]",
      "text/plain": [
       "<Figure size 640x480 with 1 Axes>"
      ]
     },
     "metadata": {},
     "output_type": "display_data"
    }
   ],
   "source": [
    "sns.lineplot(x= x, y= y)\n",
    "plt.xlabel(\"C\")\n",
    "plt.ylabel(\"Mean Accuracy Score\")\n",
    "plt.show()"
   ]
  },
  {
   "cell_type": "markdown",
   "id": "8a0e88f5",
   "metadata": {},
   "source": [
    "**Tuning gamma**"
   ]
  },
  {
   "cell_type": "code",
   "execution_count": 203,
   "id": "76c8a695",
   "metadata": {},
   "outputs": [
    {
     "data": {
      "text/html": [
       "<style>#sk-container-id-30 {color: black;}#sk-container-id-30 pre{padding: 0;}#sk-container-id-30 div.sk-toggleable {background-color: white;}#sk-container-id-30 label.sk-toggleable__label {cursor: pointer;display: block;width: 100%;margin-bottom: 0;padding: 0.3em;box-sizing: border-box;text-align: center;}#sk-container-id-30 label.sk-toggleable__label-arrow:before {content: \"▸\";float: left;margin-right: 0.25em;color: #696969;}#sk-container-id-30 label.sk-toggleable__label-arrow:hover:before {color: black;}#sk-container-id-30 div.sk-estimator:hover label.sk-toggleable__label-arrow:before {color: black;}#sk-container-id-30 div.sk-toggleable__content {max-height: 0;max-width: 0;overflow: hidden;text-align: left;background-color: #f0f8ff;}#sk-container-id-30 div.sk-toggleable__content pre {margin: 0.2em;color: black;border-radius: 0.25em;background-color: #f0f8ff;}#sk-container-id-30 input.sk-toggleable__control:checked~div.sk-toggleable__content {max-height: 200px;max-width: 100%;overflow: auto;}#sk-container-id-30 input.sk-toggleable__control:checked~label.sk-toggleable__label-arrow:before {content: \"▾\";}#sk-container-id-30 div.sk-estimator input.sk-toggleable__control:checked~label.sk-toggleable__label {background-color: #d4ebff;}#sk-container-id-30 div.sk-label input.sk-toggleable__control:checked~label.sk-toggleable__label {background-color: #d4ebff;}#sk-container-id-30 input.sk-hidden--visually {border: 0;clip: rect(1px 1px 1px 1px);clip: rect(1px, 1px, 1px, 1px);height: 1px;margin: -1px;overflow: hidden;padding: 0;position: absolute;width: 1px;}#sk-container-id-30 div.sk-estimator {font-family: monospace;background-color: #f0f8ff;border: 1px dotted black;border-radius: 0.25em;box-sizing: border-box;margin-bottom: 0.5em;}#sk-container-id-30 div.sk-estimator:hover {background-color: #d4ebff;}#sk-container-id-30 div.sk-parallel-item::after {content: \"\";width: 100%;border-bottom: 1px solid gray;flex-grow: 1;}#sk-container-id-30 div.sk-label:hover label.sk-toggleable__label {background-color: #d4ebff;}#sk-container-id-30 div.sk-serial::before {content: \"\";position: absolute;border-left: 1px solid gray;box-sizing: border-box;top: 0;bottom: 0;left: 50%;z-index: 0;}#sk-container-id-30 div.sk-serial {display: flex;flex-direction: column;align-items: center;background-color: white;padding-right: 0.2em;padding-left: 0.2em;position: relative;}#sk-container-id-30 div.sk-item {position: relative;z-index: 1;}#sk-container-id-30 div.sk-parallel {display: flex;align-items: stretch;justify-content: center;background-color: white;position: relative;}#sk-container-id-30 div.sk-item::before, #sk-container-id-30 div.sk-parallel-item::before {content: \"\";position: absolute;border-left: 1px solid gray;box-sizing: border-box;top: 0;bottom: 0;left: 50%;z-index: -1;}#sk-container-id-30 div.sk-parallel-item {display: flex;flex-direction: column;z-index: 1;position: relative;background-color: white;}#sk-container-id-30 div.sk-parallel-item:first-child::after {align-self: flex-end;width: 50%;}#sk-container-id-30 div.sk-parallel-item:last-child::after {align-self: flex-start;width: 50%;}#sk-container-id-30 div.sk-parallel-item:only-child::after {width: 0;}#sk-container-id-30 div.sk-dashed-wrapped {border: 1px dashed gray;margin: 0 0.4em 0.5em 0.4em;box-sizing: border-box;padding-bottom: 0.4em;background-color: white;}#sk-container-id-30 div.sk-label label {font-family: monospace;font-weight: bold;display: inline-block;line-height: 1.2em;}#sk-container-id-30 div.sk-label-container {text-align: center;}#sk-container-id-30 div.sk-container {/* jupyter's `normalize.less` sets `[hidden] { display: none; }` but bootstrap.min.css set `[hidden] { display: none !important; }` so we also need the `!important` here to be able to override the default hidden behavior on the sphinx rendered scikit-learn.org. See: https://github.com/scikit-learn/scikit-learn/issues/21755 */display: inline-block !important;position: relative;}#sk-container-id-30 div.sk-text-repr-fallback {display: none;}</style><div id=\"sk-container-id-30\" class=\"sk-top-container\"><div class=\"sk-text-repr-fallback\"><pre>GridSearchCV(cv=10, estimator=SVC(),\n",
       "             param_grid=[{&#x27;C&#x27;: [1],\n",
       "                          &#x27;gamma&#x27;: [&#x27;scale&#x27;, 1, 0.1, 0.01, 0.001, 0.0001],\n",
       "                          &#x27;kernel&#x27;: [&#x27;rbf&#x27;]}],\n",
       "             scoring=&#x27;accuracy&#x27;)</pre><b>In a Jupyter environment, please rerun this cell to show the HTML representation or trust the notebook. <br />On GitHub, the HTML representation is unable to render, please try loading this page with nbviewer.org.</b></div><div class=\"sk-container\" hidden><div class=\"sk-item sk-dashed-wrapped\"><div class=\"sk-label-container\"><div class=\"sk-label sk-toggleable\"><input class=\"sk-toggleable__control sk-hidden--visually\" id=\"sk-estimator-id-64\" type=\"checkbox\" ><label for=\"sk-estimator-id-64\" class=\"sk-toggleable__label sk-toggleable__label-arrow\">GridSearchCV</label><div class=\"sk-toggleable__content\"><pre>GridSearchCV(cv=10, estimator=SVC(),\n",
       "             param_grid=[{&#x27;C&#x27;: [1],\n",
       "                          &#x27;gamma&#x27;: [&#x27;scale&#x27;, 1, 0.1, 0.01, 0.001, 0.0001],\n",
       "                          &#x27;kernel&#x27;: [&#x27;rbf&#x27;]}],\n",
       "             scoring=&#x27;accuracy&#x27;)</pre></div></div></div><div class=\"sk-parallel\"><div class=\"sk-parallel-item\"><div class=\"sk-item\"><div class=\"sk-label-container\"><div class=\"sk-label sk-toggleable\"><input class=\"sk-toggleable__control sk-hidden--visually\" id=\"sk-estimator-id-65\" type=\"checkbox\" ><label for=\"sk-estimator-id-65\" class=\"sk-toggleable__label sk-toggleable__label-arrow\">estimator: SVC</label><div class=\"sk-toggleable__content\"><pre>SVC()</pre></div></div></div><div class=\"sk-serial\"><div class=\"sk-item\"><div class=\"sk-estimator sk-toggleable\"><input class=\"sk-toggleable__control sk-hidden--visually\" id=\"sk-estimator-id-66\" type=\"checkbox\" ><label for=\"sk-estimator-id-66\" class=\"sk-toggleable__label sk-toggleable__label-arrow\">SVC</label><div class=\"sk-toggleable__content\"><pre>SVC()</pre></div></div></div></div></div></div></div></div></div></div>"
      ],
      "text/plain": [
       "GridSearchCV(cv=10, estimator=SVC(),\n",
       "             param_grid=[{'C': [1],\n",
       "                          'gamma': ['scale', 1, 0.1, 0.01, 0.001, 0.0001],\n",
       "                          'kernel': ['rbf']}],\n",
       "             scoring='accuracy')"
      ]
     },
     "execution_count": 203,
     "metadata": {},
     "output_type": "execute_result"
    }
   ],
   "source": [
    "param_grid = [\n",
    "    {\"C\": [1], # regularisation\n",
    "    \"gamma\": [\"scale\", 1, 0.1, 0.01, 0.001, 0.0001],\n",
    "     \"kernel\": [\"rbf\"]\n",
    "    }\n",
    "]\n",
    "\n",
    "optimal_params3 = GridSearchCV(\n",
    "    SVC(),\n",
    "    param_grid,\n",
    "    cv= 10,\n",
    "    scoring= \"accuracy\",\n",
    "    verbose=0\n",
    ")\n",
    "\n",
    "optimal_params3.fit(X_train_scaled, y_train)"
   ]
  },
  {
   "cell_type": "code",
   "execution_count": 311,
   "id": "cf837841",
   "metadata": {},
   "outputs": [],
   "source": [
    "x = [str(dict_[\"gamma\"]) for dict_ in optimal_params3.cv_results_[\"params\"]]\n",
    "y = list(optimal_params3.cv_results_[\"mean_test_score\"])"
   ]
  },
  {
   "cell_type": "code",
   "execution_count": 312,
   "id": "a20fd9ee",
   "metadata": {},
   "outputs": [
    {
     "data": {
      "image/png": "[encoded data removed]",
      "text/plain": [
       "<Figure size 640x480 with 1 Axes>"
      ]
     },
     "metadata": {},
     "output_type": "display_data"
    }
   ],
   "source": [
    "sns.lineplot(x= x, y= y)\n",
    "plt.xlabel(\"gamma\")\n",
    "plt.ylabel(\"Mean Accuracy Score\")\n",
    "plt.show()"
   ]
  },
  {
   "cell_type": "code",
   "execution_count": 210,
   "id": "a06eea15",
   "metadata": {},
   "outputs": [
    {
     "data": {
      "text/html": [
       "<style>#sk-container-id-31 {color: black;}#sk-container-id-31 pre{padding: 0;}#sk-container-id-31 div.sk-toggleable {background-color: white;}#sk-container-id-31 label.sk-toggleable__label {cursor: pointer;display: block;width: 100%;margin-bottom: 0;padding: 0.3em;box-sizing: border-box;text-align: center;}#sk-container-id-31 label.sk-toggleable__label-arrow:before {content: \"▸\";float: left;margin-right: 0.25em;color: #696969;}#sk-container-id-31 label.sk-toggleable__label-arrow:hover:before {color: black;}#sk-container-id-31 div.sk-estimator:hover label.sk-toggleable__label-arrow:before {color: black;}#sk-container-id-31 div.sk-toggleable__content {max-height: 0;max-width: 0;overflow: hidden;text-align: left;background-color: #f0f8ff;}#sk-container-id-31 div.sk-toggleable__content pre {margin: 0.2em;color: black;border-radius: 0.25em;background-color: #f0f8ff;}#sk-container-id-31 input.sk-toggleable__control:checked~div.sk-toggleable__content {max-height: 200px;max-width: 100%;overflow: auto;}#sk-container-id-31 input.sk-toggleable__control:checked~label.sk-toggleable__label-arrow:before {content: \"▾\";}#sk-container-id-31 div.sk-estimator input.sk-toggleable__control:checked~label.sk-toggleable__label {background-color: #d4ebff;}#sk-container-id-31 div.sk-label input.sk-toggleable__control:checked~label.sk-toggleable__label {background-color: #d4ebff;}#sk-container-id-31 input.sk-hidden--visually {border: 0;clip: rect(1px 1px 1px 1px);clip: rect(1px, 1px, 1px, 1px);height: 1px;margin: -1px;overflow: hidden;padding: 0;position: absolute;width: 1px;}#sk-container-id-31 div.sk-estimator {font-family: monospace;background-color: #f0f8ff;border: 1px dotted black;border-radius: 0.25em;box-sizing: border-box;margin-bottom: 0.5em;}#sk-container-id-31 div.sk-estimator:hover {background-color: #d4ebff;}#sk-container-id-31 div.sk-parallel-item::after {content: \"\";width: 100%;border-bottom: 1px solid gray;flex-grow: 1;}#sk-container-id-31 div.sk-label:hover label.sk-toggleable__label {background-color: #d4ebff;}#sk-container-id-31 div.sk-serial::before {content: \"\";position: absolute;border-left: 1px solid gray;box-sizing: border-box;top: 0;bottom: 0;left: 50%;z-index: 0;}#sk-container-id-31 div.sk-serial {display: flex;flex-direction: column;align-items: center;background-color: white;padding-right: 0.2em;padding-left: 0.2em;position: relative;}#sk-container-id-31 div.sk-item {position: relative;z-index: 1;}#sk-container-id-31 div.sk-parallel {display: flex;align-items: stretch;justify-content: center;background-color: white;position: relative;}#sk-container-id-31 div.sk-item::before, #sk-container-id-31 div.sk-parallel-item::before {content: \"\";position: absolute;border-left: 1px solid gray;box-sizing: border-box;top: 0;bottom: 0;left: 50%;z-index: -1;}#sk-container-id-31 div.sk-parallel-item {display: flex;flex-direction: column;z-index: 1;position: relative;background-color: white;}#sk-container-id-31 div.sk-parallel-item:first-child::after {align-self: flex-end;width: 50%;}#sk-container-id-31 div.sk-parallel-item:last-child::after {align-self: flex-start;width: 50%;}#sk-container-id-31 div.sk-parallel-item:only-child::after {width: 0;}#sk-container-id-31 div.sk-dashed-wrapped {border: 1px dashed gray;margin: 0 0.4em 0.5em 0.4em;box-sizing: border-box;padding-bottom: 0.4em;background-color: white;}#sk-container-id-31 div.sk-label label {font-family: monospace;font-weight: bold;display: inline-block;line-height: 1.2em;}#sk-container-id-31 div.sk-label-container {text-align: center;}#sk-container-id-31 div.sk-container {/* jupyter's `normalize.less` sets `[hidden] { display: none; }` but bootstrap.min.css set `[hidden] { display: none !important; }` so we also need the `!important` here to be able to override the default hidden behavior on the sphinx rendered scikit-learn.org. See: https://github.com/scikit-learn/scikit-learn/issues/21755 */display: inline-block !important;position: relative;}#sk-container-id-31 div.sk-text-repr-fallback {display: none;}</style><div id=\"sk-container-id-31\" class=\"sk-top-container\"><div class=\"sk-text-repr-fallback\"><pre>SVC(C=1, gamma=0.1, random_state=1)</pre><b>In a Jupyter environment, please rerun this cell to show the HTML representation or trust the notebook. <br />On GitHub, the HTML representation is unable to render, please try loading this page with nbviewer.org.</b></div><div class=\"sk-container\" hidden><div class=\"sk-item\"><div class=\"sk-estimator sk-toggleable\"><input class=\"sk-toggleable__control sk-hidden--visually\" id=\"sk-estimator-id-67\" type=\"checkbox\" checked><label for=\"sk-estimator-id-67\" class=\"sk-toggleable__label sk-toggleable__label-arrow\">SVC</label><div class=\"sk-toggleable__content\"><pre>SVC(C=1, gamma=0.1, random_state=1)</pre></div></div></div></div></div>"
      ],
      "text/plain": [
       "SVC(C=1, gamma=0.1, random_state=1)"
      ]
     },
     "execution_count": 210,
     "metadata": {},
     "output_type": "execute_result"
    }
   ],
   "source": [
    "clf_svm = SVC(random_state=1, C=1, gamma= 0.1, kernel= \"rbf\")\n",
    "clf_svm.fit(X_train_scaled, y_train)"
   ]
  },
  {
   "cell_type": "code",
   "execution_count": 211,
   "id": "ccf018a0",
   "metadata": {},
   "outputs": [],
   "source": [
    "svm_pred = clf_svm.predict(X_kaggle_scaled)"
   ]
  },
  {
   "cell_type": "code",
   "execution_count": 212,
   "id": "60c90982",
   "metadata": {},
   "outputs": [],
   "source": [
    "df_pred = pd.concat([kaggle_df['ID'], pd.DataFrame(svm_pred,columns=['pred'])], axis = 1)\n",
    "df_pred.to_csv('pred_values.csv',index=False)"
   ]
  },
  {
   "cell_type": "code",
   "execution_count": 217,
   "id": "f9b4f02a",
   "metadata": {},
   "outputs": [
    {
     "name": "stderr",
     "output_type": "stream",
     "text": [
      "C:\\Users\\non_n\\conda\\lib\\site-packages\\seaborn\\_decorators.py:36: FutureWarning: Pass the following variable as a keyword arg: x. From version 0.12, the only valid positional argument will be `data`, and passing other arguments without an explicit keyword will result in an error or misinterpretation.\n",
      "  warnings.warn(\n"
     ]
    },
    {
     "data": {
      "text/plain": [
       "<AxesSubplot:xlabel='number_of_products', ylabel='count'>"
      ]
     },
     "execution_count": 217,
     "metadata": {},
     "output_type": "execute_result"
    },
    {
     "data": {
      "image/png": "[encoded data removed]",
      "text/plain": [
       "<Figure size 640x480 with 1 Axes>"
      ]
     },
     "metadata": {},
     "output_type": "display_data"
    }
   ],
   "source": [
    "sns.countplot(train_encoded[\"number_of_products\"], hue= train_encoded[\"Y\"])"
   ]
  },
  {
   "cell_type": "markdown",
   "id": "23b7ff39",
   "metadata": {},
   "source": [
    "## XGboost"
   ]
  },
  {
   "cell_type": "code",
   "execution_count": 228,
   "id": "670a847d",
   "metadata": {},
   "outputs": [],
   "source": [
    "train_df = pd.read_csv(\"A2_customer_churn_labeled.csv\")\n",
    "train_df[\"age\"] = train_df[\"customer_profile\"].apply(extract_age)\n",
    "train_df[\"gender\"] = train_df[\"customer_profile\"].apply(extract_gender)\n",
    "train_df[\"country\"] = train_df[\"customer_profile\"].apply(extract_countary)\n",
    "\n",
    "kaggle_df = pd.read_csv(\"A2_customer_churn_kaggle.csv\")\n",
    "kaggle_df[\"age\"] = kaggle_df[\"customer_profile\"].apply(extract_age)\n",
    "kaggle_df[\"gender\"] = kaggle_df[\"customer_profile\"].apply(extract_gender)\n",
    "kaggle_df[\"country\"] = kaggle_df[\"customer_profile\"].apply(extract_countary)\n",
    "\n",
    "test_df = pd.read_csv(\"A2_customer_churn_submission.csv\")\n",
    "test_df[\"age\"] = test_df[\"customer_profile\"].apply(extract_age)\n",
    "test_df[\"gender\"] = test_df[\"customer_profile\"].apply(extract_gender)\n",
    "test_df[\"country\"] = test_df[\"customer_profile\"].apply(extract_countary)\n",
    "\n",
    "X_train = train_df[[col for col in kaggle_df.columns if col not in [\"Y\",\"customer_profile\",\"ID\"]]]\n",
    "y_train = train_df[\"Y\"]\n",
    "\n",
    "train_df_drop = train_df.drop(columns=[\"customer_profile\",\"ID\"])\n",
    "test_df_drop = test_df.drop(columns=[\"customer_profile\",\"ID\"])\n",
    "kaggle_df_drop = kaggle_df.drop(columns=[\"customer_profile\"])"
   ]
  },
  {
   "cell_type": "code",
   "execution_count": 229,
   "id": "827da537",
   "metadata": {},
   "outputs": [],
   "source": [
    "import pandas as pd\n",
    "\n",
    "\n",
    "numerical_columns = ['credit_score','tenure','balance','number_of_products','salary','age']\n",
    "\n",
    "categorical_columns = ['has_credit_card','is_active_member','gender','country']\n",
    "\n",
    "# Use pandas' get_dummies to one-hot encode the specified columns\n",
    "train_df_encode = pd.get_dummies(train_df_drop, columns=categorical_columns, drop_first=False)\n",
    "test_df_encode = pd.get_dummies(test_df_drop, columns=categorical_columns, drop_first=False)\n",
    "kaggle_df_encode = pd.get_dummies(kaggle_df_drop, columns=categorical_columns, drop_first=False)\n",
    "X_train = train_df_encode.drop(columns=\"Y\")\n",
    "y_train = train_df_encode['Y']"
   ]
  },
  {
   "cell_type": "code",
   "execution_count": 230,
   "id": "4b6e4366",
   "metadata": {},
   "outputs": [],
   "source": [
    "import xgboost as xgb\n",
    "from xgboost import XGBClassifier"
   ]
  },
  {
   "cell_type": "code",
   "execution_count": 231,
   "id": "f4b7a135",
   "metadata": {},
   "outputs": [
    {
     "data": {
      "text/html": [
       "<style>#sk-container-id-33 {color: black;}#sk-container-id-33 pre{padding: 0;}#sk-container-id-33 div.sk-toggleable {background-color: white;}#sk-container-id-33 label.sk-toggleable__label {cursor: pointer;display: block;width: 100%;margin-bottom: 0;padding: 0.3em;box-sizing: border-box;text-align: center;}#sk-container-id-33 label.sk-toggleable__label-arrow:before {content: \"▸\";float: left;margin-right: 0.25em;color: #696969;}#sk-container-id-33 label.sk-toggleable__label-arrow:hover:before {color: black;}#sk-container-id-33 div.sk-estimator:hover label.sk-toggleable__label-arrow:before {color: black;}#sk-container-id-33 div.sk-toggleable__content {max-height: 0;max-width: 0;overflow: hidden;text-align: left;background-color: #f0f8ff;}#sk-container-id-33 div.sk-toggleable__content pre {margin: 0.2em;color: black;border-radius: 0.25em;background-color: #f0f8ff;}#sk-container-id-33 input.sk-toggleable__control:checked~div.sk-toggleable__content {max-height: 200px;max-width: 100%;overflow: auto;}#sk-container-id-33 input.sk-toggleable__control:checked~label.sk-toggleable__label-arrow:before {content: \"▾\";}#sk-container-id-33 div.sk-estimator input.sk-toggleable__control:checked~label.sk-toggleable__label {background-color: #d4ebff;}#sk-container-id-33 div.sk-label input.sk-toggleable__control:checked~label.sk-toggleable__label {background-color: #d4ebff;}#sk-container-id-33 input.sk-hidden--visually {border: 0;clip: rect(1px 1px 1px 1px);clip: rect(1px, 1px, 1px, 1px);height: 1px;margin: -1px;overflow: hidden;padding: 0;position: absolute;width: 1px;}#sk-container-id-33 div.sk-estimator {font-family: monospace;background-color: #f0f8ff;border: 1px dotted black;border-radius: 0.25em;box-sizing: border-box;margin-bottom: 0.5em;}#sk-container-id-33 div.sk-estimator:hover {background-color: #d4ebff;}#sk-container-id-33 div.sk-parallel-item::after {content: \"\";width: 100%;border-bottom: 1px solid gray;flex-grow: 1;}#sk-container-id-33 div.sk-label:hover label.sk-toggleable__label {background-color: #d4ebff;}#sk-container-id-33 div.sk-serial::before {content: \"\";position: absolute;border-left: 1px solid gray;box-sizing: border-box;top: 0;bottom: 0;left: 50%;z-index: 0;}#sk-container-id-33 div.sk-serial {display: flex;flex-direction: column;align-items: center;background-color: white;padding-right: 0.2em;padding-left: 0.2em;position: relative;}#sk-container-id-33 div.sk-item {position: relative;z-index: 1;}#sk-container-id-33 div.sk-parallel {display: flex;align-items: stretch;justify-content: center;background-color: white;position: relative;}#sk-container-id-33 div.sk-item::before, #sk-container-id-33 div.sk-parallel-item::before {content: \"\";position: absolute;border-left: 1px solid gray;box-sizing: border-box;top: 0;bottom: 0;left: 50%;z-index: -1;}#sk-container-id-33 div.sk-parallel-item {display: flex;flex-direction: column;z-index: 1;position: relative;background-color: white;}#sk-container-id-33 div.sk-parallel-item:first-child::after {align-self: flex-end;width: 50%;}#sk-container-id-33 div.sk-parallel-item:last-child::after {align-self: flex-start;width: 50%;}#sk-container-id-33 div.sk-parallel-item:only-child::after {width: 0;}#sk-container-id-33 div.sk-dashed-wrapped {border: 1px dashed gray;margin: 0 0.4em 0.5em 0.4em;box-sizing: border-box;padding-bottom: 0.4em;background-color: white;}#sk-container-id-33 div.sk-label label {font-family: monospace;font-weight: bold;display: inline-block;line-height: 1.2em;}#sk-container-id-33 div.sk-label-container {text-align: center;}#sk-container-id-33 div.sk-container {/* jupyter's `normalize.less` sets `[hidden] { display: none; }` but bootstrap.min.css set `[hidden] { display: none !important; }` so we also need the `!important` here to be able to override the default hidden behavior on the sphinx rendered scikit-learn.org. See: https://github.com/scikit-learn/scikit-learn/issues/21755 */display: inline-block !important;position: relative;}#sk-container-id-33 div.sk-text-repr-fallback {display: none;}</style><div id=\"sk-container-id-33\" class=\"sk-top-container\"><div class=\"sk-text-repr-fallback\"><pre>XGBClassifier(base_score=None, booster=None, callbacks=None,\n",
       "              colsample_bylevel=None, colsample_bynode=None,\n",
       "              colsample_bytree=None, device=None, early_stopping_rounds=None,\n",
       "              enable_categorical=False, eval_metric=None, feature_types=None,\n",
       "              gamma=None, grow_policy=None, importance_type=None,\n",
       "              interaction_constraints=None, learning_rate=0.12, max_bin=None,\n",
       "              max_cat_threshold=None, max_cat_to_onehot=None,\n",
       "              max_delta_step=None, max_depth=5, max_leaves=None,\n",
       "              min_child_weight=None, missing=nan, monotone_constraints=None,\n",
       "              multi_strategy=None, n_estimators=100, n_jobs=None,\n",
       "              num_parallel_tree=None, random_state=42, ...)</pre><b>In a Jupyter environment, please rerun this cell to show the HTML representation or trust the notebook. <br />On GitHub, the HTML representation is unable to render, please try loading this page with nbviewer.org.</b></div><div class=\"sk-container\" hidden><div class=\"sk-item\"><div class=\"sk-estimator sk-toggleable\"><input class=\"sk-toggleable__control sk-hidden--visually\" id=\"sk-estimator-id-69\" type=\"checkbox\" checked><label for=\"sk-estimator-id-69\" class=\"sk-toggleable__label sk-toggleable__label-arrow\">XGBClassifier</label><div class=\"sk-toggleable__content\"><pre>XGBClassifier(base_score=None, booster=None, callbacks=None,\n",
       "              colsample_bylevel=None, colsample_bynode=None,\n",
       "              colsample_bytree=None, device=None, early_stopping_rounds=None,\n",
       "              enable_categorical=False, eval_metric=None, feature_types=None,\n",
       "              gamma=None, grow_policy=None, importance_type=None,\n",
       "              interaction_constraints=None, learning_rate=0.12, max_bin=None,\n",
       "              max_cat_threshold=None, max_cat_to_onehot=None,\n",
       "              max_delta_step=None, max_depth=5, max_leaves=None,\n",
       "              min_child_weight=None, missing=nan, monotone_constraints=None,\n",
       "              multi_strategy=None, n_estimators=100, n_jobs=None,\n",
       "              num_parallel_tree=None, random_state=42, ...)</pre></div></div></div></div></div>"
      ],
      "text/plain": [
       "XGBClassifier(base_score=None, booster=None, callbacks=None,\n",
       "              colsample_bylevel=None, colsample_bynode=None,\n",
       "              colsample_bytree=None, device=None, early_stopping_rounds=None,\n",
       "              enable_categorical=False, eval_metric=None, feature_types=None,\n",
       "              gamma=None, grow_policy=None, importance_type=None,\n",
       "              interaction_constraints=None, learning_rate=0.12, max_bin=None,\n",
       "              max_cat_threshold=None, max_cat_to_onehot=None,\n",
       "              max_delta_step=None, max_depth=5, max_leaves=None,\n",
       "              min_child_weight=None, missing=nan, monotone_constraints=None,\n",
       "              multi_strategy=None, n_estimators=100, n_jobs=None,\n",
       "              num_parallel_tree=None, random_state=42, ...)"
      ]
     },
     "execution_count": 231,
     "metadata": {},
     "output_type": "execute_result"
    }
   ],
   "source": [
    "first_withtuning_xg_boost =  XGBClassifier(random_state=42,learning_rate =0.12,max_depth=5,n_estimators=100,reg_alpha=1)\n",
    "\n",
    "# Fit the model to the training data\n",
    "first_withtuning_xg_boost.fit(X_train, y_train)"
   ]
  },
  {
   "cell_type": "code",
   "execution_count": 232,
   "id": "6fda5fdf",
   "metadata": {},
   "outputs": [],
   "source": [
    "# Predict on the test set\n",
    "xgb_pred = first_withtuning_xg_boost.predict_proba(kaggle_df_encode[[col for col in kaggle_df_encode.columns if col not in [\"ID\",\"Y\"]]])"
   ]
  },
  {
   "cell_type": "markdown",
   "id": "e648c3df",
   "metadata": {},
   "source": [
    "## Averaging"
   ]
  },
  {
   "cell_type": "code",
   "execution_count": 275,
   "id": "f6b124f4",
   "metadata": {},
   "outputs": [],
   "source": [
    "aver_pred = (0.6*rf_pred + 0.4*xgb_pred) / 2"
   ]
  },
  {
   "cell_type": "code",
   "execution_count": 276,
   "id": "7992095a",
   "metadata": {},
   "outputs": [],
   "source": [
    "aver_pred = np.argmax(aver_pred, axis= 1)"
   ]
  },
  {
   "cell_type": "code",
   "execution_count": 277,
   "id": "a4503b8e",
   "metadata": {},
   "outputs": [],
   "source": [
    "df_pred = pd.concat([kaggle_df['ID'], pd.DataFrame(aver_pred,columns=['pred'])], axis = 1)\n",
    "df_pred.to_csv('pred_values.csv',index=False)"
   ]
  },
  {
   "cell_type": "code",
   "execution_count": null,
   "id": "43b66e66",
   "metadata": {},
   "outputs": [],
   "source": []
  },
  {
   "cell_type": "code",
   "execution_count": null,
   "id": "23575714",
   "metadata": {},
   "outputs": [],
   "source": []
  },
  {
   "cell_type": "code",
   "execution_count": null,
   "id": "82e66bcf",
   "metadata": {},
   "outputs": [],
   "source": []
  },
  {
   "cell_type": "code",
   "execution_count": null,
   "id": "35976da5",
   "metadata": {},
   "outputs": [],
   "source": []
  },
  {
   "cell_type": "code",
   "execution_count": null,
   "id": "37e31e19",
   "metadata": {},
   "outputs": [],
   "source": []
  },
  {
   "cell_type": "code",
   "execution_count": null,
   "id": "2d53f069",
   "metadata": {},
   "outputs": [],
   "source": []
  },
  {
   "cell_type": "code",
   "execution_count": null,
   "id": "e2227e65",
   "metadata": {},
   "outputs": [],
   "source": []
  },
  {
   "cell_type": "code",
   "execution_count": null,
   "id": "2f4a4d78",
   "metadata": {},
   "outputs": [],
   "source": []
  },
  {
   "cell_type": "code",
   "execution_count": null,
   "id": "3769cd55",
   "metadata": {},
   "outputs": [],
   "source": []
  },
  {
   "cell_type": "code",
   "execution_count": null,
   "id": "ec9626e1",
   "metadata": {},
   "outputs": [],
   "source": []
  },
  {
   "cell_type": "code",
   "execution_count": null,
   "id": "f301e297",
   "metadata": {},
   "outputs": [],
   "source": []
  },
  {
   "cell_type": "code",
   "execution_count": null,
   "id": "f8609303",
   "metadata": {},
   "outputs": [],
   "source": []
  },
  {
   "cell_type": "code",
   "execution_count": null,
   "id": "84918831",
   "metadata": {},
   "outputs": [],
   "source": []
  }
 ],
 "metadata": {
  "kernelspec": {
   "display_name": "Python 3 (ipykernel)",
   "language": "python",
   "name": "python3"
  },
  "language_info": {
   "codemirror_mode": {
    "name": "ipython",
    "version": 3
   },
   "file_extension": ".py",
   "mimetype": "text/x-python",
   "name": "python",
   "nbconvert_exporter": "python",
   "pygments_lexer": "ipython3",
   "version": "3.9.13"
  }
 },
 "nbformat": 4,
 "nbformat_minor": 5
}
